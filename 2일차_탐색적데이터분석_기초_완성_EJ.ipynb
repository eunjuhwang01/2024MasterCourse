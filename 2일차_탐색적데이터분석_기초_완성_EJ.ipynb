{
  "cells": [
    {
      "cell_type": "markdown",
      "metadata": {
        "id": "view-in-github",
        "colab_type": "text"
      },
      "source": [
        "<a href=\"https://colab.research.google.com/github/eunjuhwang01/2024MasterCourse/blob/main/2%EC%9D%BC%EC%B0%A8_%ED%83%90%EC%83%89%EC%A0%81%EB%8D%B0%EC%9D%B4%ED%84%B0%EB%B6%84%EC%84%9D_%EA%B8%B0%EC%B4%88_%EC%99%84%EC%84%B1_EJ.ipynb\" target=\"_parent\"><img src=\"https://colab.research.google.com/assets/colab-badge.svg\" alt=\"Open In Colab\"/></a>"
      ]
    },
    {
      "cell_type": "markdown",
      "metadata": {
        "id": "2W9MXm-ULp-F"
      },
      "source": [
        "# 2일차-탐색적데이터분석"
      ]
    },
    {
      "cell_type": "markdown",
      "source": [
        "## (코랩)한글 폰트 지정\n",
        "- 아래 코드 실행 후  \n",
        "- **런타임 > 세션 다시 시작** 메뉴 실행하기"
      ],
      "metadata": {
        "id": "X0iz7XlTFlLN"
      }
    },
    {
      "cell_type": "code",
      "source": [
        "!sudo apt-get install -y fonts-nanum\n",
        "!sudo fc-cache -fv\n",
        "!rm ~/.cache/matplotlib -rf"
      ],
      "metadata": {
        "id": "8qCwtJuoFkkw",
        "colab": {
          "base_uri": "https://localhost:8080/"
        },
        "collapsed": true,
        "outputId": "2c570a9d-a009-4f5d-bebf-d2b05c35b0d4"
      },
      "execution_count": 1,
      "outputs": [
        {
          "output_type": "stream",
          "name": "stdout",
          "text": [
            "Reading package lists... Done\n",
            "Building dependency tree... Done\n",
            "Reading state information... Done\n",
            "The following NEW packages will be installed:\n",
            "  fonts-nanum\n",
            "0 upgraded, 1 newly installed, 0 to remove and 49 not upgraded.\n",
            "Need to get 10.3 MB of archives.\n",
            "After this operation, 34.1 MB of additional disk space will be used.\n",
            "Get:1 http://archive.ubuntu.com/ubuntu jammy/universe amd64 fonts-nanum all 20200506-1 [10.3 MB]\n",
            "Fetched 10.3 MB in 2s (6,704 kB/s)\n",
            "debconf: unable to initialize frontend: Dialog\n",
            "debconf: (No usable dialog-like program is installed, so the dialog based frontend cannot be used. at /usr/share/perl5/Debconf/FrontEnd/Dialog.pm line 78, <> line 1.)\n",
            "debconf: falling back to frontend: Readline\n",
            "debconf: unable to initialize frontend: Readline\n",
            "debconf: (This frontend requires a controlling tty.)\n",
            "debconf: falling back to frontend: Teletype\n",
            "dpkg-preconfigure: unable to re-open stdin: \n",
            "Selecting previously unselected package fonts-nanum.\n",
            "(Reading database ... 123629 files and directories currently installed.)\n",
            "Preparing to unpack .../fonts-nanum_20200506-1_all.deb ...\n",
            "Unpacking fonts-nanum (20200506-1) ...\n",
            "Setting up fonts-nanum (20200506-1) ...\n",
            "Processing triggers for fontconfig (2.13.1-4.2ubuntu5) ...\n",
            "/usr/share/fonts: caching, new cache contents: 0 fonts, 1 dirs\n",
            "/usr/share/fonts/truetype: caching, new cache contents: 0 fonts, 3 dirs\n",
            "/usr/share/fonts/truetype/humor-sans: caching, new cache contents: 1 fonts, 0 dirs\n",
            "/usr/share/fonts/truetype/liberation: caching, new cache contents: 16 fonts, 0 dirs\n",
            "/usr/share/fonts/truetype/nanum: caching, new cache contents: 12 fonts, 0 dirs\n",
            "/usr/local/share/fonts: caching, new cache contents: 0 fonts, 0 dirs\n",
            "/root/.local/share/fonts: skipping, no such directory\n",
            "/root/.fonts: skipping, no such directory\n",
            "/usr/share/fonts/truetype: skipping, looped directory detected\n",
            "/usr/share/fonts/truetype/humor-sans: skipping, looped directory detected\n",
            "/usr/share/fonts/truetype/liberation: skipping, looped directory detected\n",
            "/usr/share/fonts/truetype/nanum: skipping, looped directory detected\n",
            "/var/cache/fontconfig: cleaning cache directory\n",
            "/root/.cache/fontconfig: not cleaning non-existent cache directory\n",
            "/root/.fontconfig: not cleaning non-existent cache directory\n",
            "fc-cache: succeeded\n"
          ]
        }
      ]
    },
    {
      "cell_type": "code",
      "source": [
        "import matplotlib.pyplot as plt\n",
        "\n",
        "# 코랩에서 한글 폰트 종류와 이름이 win과 다를 수 있다!!!\n",
        "plt.rc('font', family='NanumBarunGothic')        # 방법1\n",
        "plt.rcParams['font.family'] = 'NanumBarunGothic' # 방법2\n",
        "plt.rcParams['figure.figsize'] = (6, 4)  # 인치(inch)"
      ],
      "metadata": {
        "id": "AkiD-jBQGDb4"
      },
      "execution_count": 1,
      "outputs": []
    },
    {
      "cell_type": "code",
      "source": [
        "x = list(range(0, 10))\n",
        "y = [2*i + 1 for i in x]\n",
        "\n",
        "plt.plot(x, y)\n",
        "plt.title('y=2x+1 그래프')\n",
        "plt.show()"
      ],
      "metadata": {
        "colab": {
          "base_uri": "https://localhost:8080/",
          "height": 390
        },
        "id": "-7lCbMsCih39",
        "outputId": "2503cd6f-b7e7-4eaf-cfe8-c3c919e6b3ea"
      },
      "execution_count": 5,
      "outputs": [
        {
          "output_type": "display_data",
          "data": {
            "text/plain": [
              "<Figure size 600x400 with 1 Axes>"
            ],
            "image/png": "[encoded data removed]"
          },
          "metadata": {}
        }
      ]
    },
    {
      "cell_type": "markdown",
      "source": [
        "## 1.데이터 분석 이해하기"
      ],
      "metadata": {
        "id": "Ne8RcphMmh7t"
      }
    },
    {
      "cell_type": "markdown",
      "metadata": {
        "id": "ZhYt0QZ0Lp-H"
      },
      "source": [
        "## 2.데이터 분석 라이브러리"
      ]
    },
    {
      "cell_type": "code",
      "source": [],
      "metadata": {
        "id": "S7tDn3sMGB_C"
      },
      "execution_count": null,
      "outputs": []
    },
    {
      "cell_type": "markdown",
      "metadata": {
        "id": "_WQcmfHTLp-H"
      },
      "source": [
        "### [PC에서 실행] 필요한 라이브러리 설치하기"
      ]
    },
    {
      "cell_type": "code",
      "execution_count": 2,
      "metadata": {
        "id": "zHb4zviKLp-H",
        "colab": {
          "base_uri": "https://localhost:8080/"
        },
        "outputId": "016ecf42-4a78-425c-be20-99a8e3c94ac6"
      },
      "outputs": [
        {
          "output_type": "stream",
          "name": "stdout",
          "text": [
            "Requirement already satisfied: numpy in /usr/local/lib/python3.10/dist-packages (1.26.4)\n"
          ]
        }
      ],
      "source": [
        "!pip install numpy    # 최초 한번만 실행하기"
      ]
    },
    {
      "cell_type": "code",
      "execution_count": 3,
      "metadata": {
        "id": "4dX1uUvoLp-I",
        "colab": {
          "base_uri": "https://localhost:8080/"
        },
        "collapsed": true,
        "outputId": "a50609d1-fcfc-483e-bbfc-555958ef8609"
      },
      "outputs": [
        {
          "output_type": "stream",
          "name": "stdout",
          "text": [
            "Requirement already satisfied: pandas in /usr/local/lib/python3.10/dist-packages (2.2.2)\n",
            "Requirement already satisfied: numpy>=1.22.4 in /usr/local/lib/python3.10/dist-packages (from pandas) (1.26.4)\n",
            "Requirement already satisfied: python-dateutil>=2.8.2 in /usr/local/lib/python3.10/dist-packages (from pandas) (2.8.2)\n",
            "Requirement already satisfied: pytz>=2020.1 in /usr/local/lib/python3.10/dist-packages (from pandas) (2024.2)\n",
            "Requirement already satisfied: tzdata>=2022.7 in /usr/local/lib/python3.10/dist-packages (from pandas) (2024.2)\n",
            "Requirement already satisfied: six>=1.5 in /usr/local/lib/python3.10/dist-packages (from python-dateutil>=2.8.2->pandas) (1.16.0)\n"
          ]
        }
      ],
      "source": [
        "!pip install pandas"
      ]
    },
    {
      "cell_type": "code",
      "execution_count": 6,
      "metadata": {
        "id": "I17XttGfLp-I",
        "colab": {
          "base_uri": "https://localhost:8080/"
        },
        "collapsed": true,
        "outputId": "6705277f-c260-4e45-f3dc-5b9e5ab107fb"
      },
      "outputs": [
        {
          "output_type": "stream",
          "name": "stdout",
          "text": [
            "Requirement already satisfied: seaborn in /usr/local/lib/python3.10/dist-packages (0.13.2)\n",
            "Requirement already satisfied: numpy!=1.24.0,>=1.20 in /usr/local/lib/python3.10/dist-packages (from seaborn) (1.26.4)\n",
            "Requirement already satisfied: pandas>=1.2 in /usr/local/lib/python3.10/dist-packages (from seaborn) (2.2.2)\n",
            "Requirement already satisfied: matplotlib!=3.6.1,>=3.4 in /usr/local/lib/python3.10/dist-packages (from seaborn) (3.7.1)\n",
            "Requirement already satisfied: contourpy>=1.0.1 in /usr/local/lib/python3.10/dist-packages (from matplotlib!=3.6.1,>=3.4->seaborn) (1.3.0)\n",
            "Requirement already satisfied: cycler>=0.10 in /usr/local/lib/python3.10/dist-packages (from matplotlib!=3.6.1,>=3.4->seaborn) (0.12.1)\n",
            "Requirement already satisfied: fonttools>=4.22.0 in /usr/local/lib/python3.10/dist-packages (from matplotlib!=3.6.1,>=3.4->seaborn) (4.54.1)\n",
            "Requirement already satisfied: kiwisolver>=1.0.1 in /usr/local/lib/python3.10/dist-packages (from matplotlib!=3.6.1,>=3.4->seaborn) (1.4.7)\n",
            "Requirement already satisfied: packaging>=20.0 in /usr/local/lib/python3.10/dist-packages (from matplotlib!=3.6.1,>=3.4->seaborn) (24.1)\n",
            "Requirement already satisfied: pillow>=6.2.0 in /usr/local/lib/python3.10/dist-packages (from matplotlib!=3.6.1,>=3.4->seaborn) (10.4.0)\n",
            "Requirement already satisfied: pyparsing>=2.3.1 in /usr/local/lib/python3.10/dist-packages (from matplotlib!=3.6.1,>=3.4->seaborn) (3.2.0)\n",
            "Requirement already satisfied: python-dateutil>=2.7 in /usr/local/lib/python3.10/dist-packages (from matplotlib!=3.6.1,>=3.4->seaborn) (2.8.2)\n",
            "Requirement already satisfied: pytz>=2020.1 in /usr/local/lib/python3.10/dist-packages (from pandas>=1.2->seaborn) (2024.2)\n",
            "Requirement already satisfied: tzdata>=2022.7 in /usr/local/lib/python3.10/dist-packages (from pandas>=1.2->seaborn) (2024.2)\n",
            "Requirement already satisfied: six>=1.5 in /usr/local/lib/python3.10/dist-packages (from python-dateutil>=2.7->matplotlib!=3.6.1,>=3.4->seaborn) (1.16.0)\n"
          ]
        }
      ],
      "source": [
        "!pip install seaborn"
      ]
    },
    {
      "cell_type": "code",
      "execution_count": 7,
      "metadata": {
        "id": "jnczslnfP2Bt",
        "colab": {
          "base_uri": "https://localhost:8080/"
        },
        "collapsed": true,
        "outputId": "f240ba69-4421-4e69-bbe6-519172bf6963"
      },
      "outputs": [
        {
          "output_type": "stream",
          "name": "stdout",
          "text": [
            "Requirement already satisfied: plotly in /usr/local/lib/python3.10/dist-packages (5.24.1)\n",
            "Requirement already satisfied: tenacity>=6.2.0 in /usr/local/lib/python3.10/dist-packages (from plotly) (9.0.0)\n",
            "Requirement already satisfied: packaging in /usr/local/lib/python3.10/dist-packages (from plotly) (24.1)\n"
          ]
        }
      ],
      "source": [
        "!pip install plotly"
      ]
    },
    {
      "cell_type": "markdown",
      "source": [
        "### 실습 : 라이브러리 버전 확인하기"
      ],
      "metadata": {
        "id": "E8RzGTL5myjO"
      }
    },
    {
      "cell_type": "code",
      "execution_count": 8,
      "metadata": {
        "id": "LdJyYimaPx6s",
        "colab": {
          "base_uri": "https://localhost:8080/"
        },
        "outputId": "7e82ab36-e6ad-42c0-f905-fef13318c6c4"
      },
      "outputs": [
        {
          "output_type": "stream",
          "name": "stdout",
          "text": [
            "python version:  3.10.12 (main, Sep 11 2024, 15:47:36) [GCC 11.4.0]\n",
            "pandas version:  2.2.2\n",
            "numpy version:  1.26.4\n",
            "matplotlib version:  3.7.1\n",
            "seaborn version:  0.13.2\n",
            "tensorflow version:  2.17.0\n",
            "keras version:  3.4.1\n"
          ]
        }
      ],
      "source": [
        "import sys\n",
        "import pandas as pd\n",
        "import numpy as np\n",
        "import matplotlib as plt\n",
        "import seaborn as sns\n",
        "import tensorflow as tf\n",
        "import keras\n",
        "print('python version: ', sys.version)\n",
        "print('pandas version: ', pd.__version__)\n",
        "print('numpy version: ', np.__version__)\n",
        "print('matplotlib version: ', plt.__version__)\n",
        "print('seaborn version: ', sns.__version__)\n",
        "print('tensorflow version: ', tf.__version__)\n",
        "print('keras version: ', keras.__version__)"
      ]
    },
    {
      "cell_type": "markdown",
      "metadata": {
        "id": "rMIU2lAcLp-I"
      },
      "source": [
        "### 2-1.**Numpy**\n",
        "- numpy로 행렬 정의하기"
      ]
    },
    {
      "cell_type": "code",
      "execution_count": 9,
      "metadata": {
        "id": "-Lr-MvA-Lp-I",
        "scrolled": true,
        "colab": {
          "base_uri": "https://localhost:8080/"
        },
        "outputId": "13eb6e58-c5fb-448e-f649-88ec316d5903"
      },
      "outputs": [
        {
          "output_type": "stream",
          "name": "stdout",
          "text": [
            "<class 'numpy.ndarray'>\n",
            "[0 1 2 3 4 5 6 7 8 9]\n"
          ]
        }
      ],
      "source": [
        "# 배열 만들기\n",
        "import numpy as np\n",
        "\n",
        "arr = np.array([0,1,2,3,4,5,6,7,8,9]) # 1차원 배열\n",
        "print(type(arr))\n",
        "print(arr)"
      ]
    },
    {
      "cell_type": "code",
      "execution_count": null,
      "metadata": {
        "id": "QuwODTzqRbIL"
      },
      "outputs": [],
      "source": [
        "# 배열 요소 합산하기\n",
        "arr = np.array(range(20)).reshape((4,5))\n",
        "print(arr)\n",
        "print(f'전체 합계: {np.sum(arr)}')\n",
        "print(f'세로축(행) 합계: {np.sum(arr, axis=0)}')\n",
        "print(f'가로축(열) 합계: {np.sum(arr, axis=1)}')"
      ]
    },
    {
      "cell_type": "markdown",
      "source": [
        "- 이미지 처리는 numpy로 쉽게 처리할 수 있다."
      ],
      "metadata": {
        "id": "msWv_dM1phap"
      }
    },
    {
      "cell_type": "code",
      "execution_count": 11,
      "metadata": {
        "id": "_uiWYP-GlElt",
        "colab": {
          "base_uri": "https://localhost:8080/"
        },
        "outputId": "653748f4-2837-446e-ca1a-43467df81046"
      },
      "outputs": [
        {
          "output_type": "stream",
          "name": "stdout",
          "text": [
            "Requirement already satisfied: opencv_python in /usr/local/lib/python3.10/dist-packages (4.10.0.84)\n",
            "Requirement already satisfied: numpy>=1.21.2 in /usr/local/lib/python3.10/dist-packages (from opencv_python) (1.26.4)\n"
          ]
        }
      ],
      "source": [
        "# opencv 라이브러리 설치하기\n",
        "!pip install opencv_python"
      ]
    },
    {
      "cell_type": "code",
      "source": [
        "import cv2\n",
        "cv2.__version__"
      ],
      "metadata": {
        "id": "puIWj09HqT5L",
        "colab": {
          "base_uri": "https://localhost:8080/",
          "height": 36
        },
        "outputId": "c1f618ee-b5b4-42ad-c215-ec058144ec4f"
      },
      "execution_count": 10,
      "outputs": [
        {
          "output_type": "execute_result",
          "data": {
            "text/plain": [
              "'4.10.0'"
            ],
            "application/vnd.google.colaboratory.intrinsic+json": {
              "type": "string"
            }
          },
          "metadata": {},
          "execution_count": 10
        }
      ]
    },
    {
      "cell_type": "code",
      "execution_count": 12,
      "metadata": {
        "id": "gto4p6E4kHeJ",
        "colab": {
          "base_uri": "https://localhost:8080/",
          "height": 169
        },
        "outputId": "68ca7c9e-51dd-4f3b-fb6c-fc6b72149728"
      },
      "outputs": [
        {
          "output_type": "stream",
          "name": "stdout",
          "text": [
            "이미지 파일 읽기 실패!.\n"
          ]
        },
        {
          "output_type": "error",
          "ename": "SystemExit",
          "evalue": "",
          "traceback": [
            "An exception has occurred, use %tb to see the full traceback.\n",
            "\u001b[0;31mSystemExit\u001b[0m\n"
          ]
        },
        {
          "output_type": "stream",
          "name": "stderr",
          "text": [
            "/usr/local/lib/python3.10/dist-packages/IPython/core/interactiveshell.py:3561: UserWarning: To exit: use 'exit', 'quit', or Ctrl-D.\n",
            "  warn(\"To exit: use 'exit', 'quit', or Ctrl-D.\", stacklevel=1)\n"
          ]
        }
      ],
      "source": [
        "import sys\n",
        "import numpy as np\n",
        "import cv2\n",
        "from google.colab.patches import cv2_imshow\n",
        "\n",
        "color_image = cv2.imread('cat.jpg')\n",
        "if color_image is None:\n",
        "    print('이미지 파일 읽기 실패!.')\n",
        "    sys.exit()\n",
        "\n",
        "# BGR 형식을 RGB로 변환 (OpenCV는 기본적으로 BGR 형식으로 이미지를 읽음)\n",
        "color_image_rgb = cv2.cvtColor(color_image, cv2.COLOR_BGR2RGB)\n",
        "# 컬러 이미지를 흑백 이미지로 변환\n",
        "gray_image = cv2.cvtColor(color_image_rgb, cv2.COLOR_BGR2GRAY)\n",
        "\n",
        "# 이미지를 부드럽게 변환하기\n",
        "mask = np.array([[1/9,1/9,1/9],\n",
        "                [1/9,1/9,1/9],\n",
        "                [1/9,1/9,1/9]])\n",
        "# mask = np.ones((3,3), dtype=np.float64)/ 9.\n",
        "blur_image = cv2.filter2D(gray_image, -1, mask) # 부드럽게\n",
        "\n",
        "\n",
        "# 이미지를 날카롭게 변환하기\n",
        "mask = np.array([[0,-1,0],\n",
        "                [-1,4,-1],\n",
        "                [0,-1,0]])\n",
        "sharp_image = cv2.filter2D(gray_image, -1, mask) # 날카롭게\n",
        "\n",
        "# 이미지 출력하기\n",
        "cv2_imshow(color_image)   #cv2.imshow('title', color_image)\n",
        "cv2_imshow(gray_image)    #cv2.imshow('title', gray_image)\n",
        "cv2_imshow(blur_image)    #cv2.imshow('title', blur_image)\n",
        "cv2_imshow(sharp_image)   #cv2.imshow('title', sharp_image)\n",
        "\n",
        "cv2.waitKey()             # 키가 눌려질때까지 기다리기\n",
        "cv2.destroyAllWindows()\n",
        "\n",
        "# 윈도우에서 이미지 확인하는 코드 사용방법\n",
        "# cv2.imshow(\"title\", image)\n",
        "# cv2.waitKey()\n",
        "# cv2.destroyAllWindows()"
      ]
    },
    {
      "cell_type": "markdown",
      "metadata": {
        "id": "OPr9_3g-Lp-J"
      },
      "source": [
        "-----------"
      ]
    },
    {
      "cell_type": "markdown",
      "metadata": {
        "id": "DKRqmk6Tma07"
      },
      "source": [
        "### 2-2.**Pandas**\n",
        "- Pandas로 DataFrame 정의하기"
      ]
    },
    {
      "cell_type": "code",
      "execution_count": 14,
      "metadata": {
        "collapsed": true,
        "id": "77HqaFPBLp-K",
        "colab": {
          "base_uri": "https://localhost:8080/",
          "height": 274
        },
        "outputId": "cd87fa37-47d5-44eb-b532-eb3290902849"
      },
      "outputs": [
        {
          "output_type": "stream",
          "name": "stdout",
          "text": [
            "<class 'pandas.core.frame.DataFrame'>\n",
            "RangeIndex(start=0, stop=3, step=1)\n",
            "[[1 2 3]\n",
            " [4 5 6]\n",
            " [7 8 9]]\n",
            "RangeIndex(start=0, stop=3, step=1)\n",
            "RangeIndex(start=0, stop=3, step=1)\n"
          ]
        },
        {
          "output_type": "execute_result",
          "data": {
            "text/plain": [
              "   0  1  2\n",
              "0  1  2  3\n",
              "1  4  5  6\n",
              "2  7  8  9"
            ],
            "text/html": [
              "\n",
              "  <div id=\"df-1382a416-4dc4-4e56-8f4c-21f6e4945953\" class=\"colab-df-container\">\n",
              "    <div>\n",
              "<style scoped>\n",
              "    .dataframe tbody tr th:only-of-type {\n",
              "        vertical-align: middle;\n",
              "    }\n",
              "\n",
              "    .dataframe tbody tr th {\n",
              "        vertical-align: top;\n",
              "    }\n",
              "\n",
              "    .dataframe thead th {\n",
              "        text-align: right;\n",
              "    }\n",
              "</style>\n",
              "<table border=\"1\" class=\"dataframe\">\n",
              "  <thead>\n",
              "    <tr style=\"text-align: right;\">\n",
              "      <th></th>\n",
              "      <th>0</th>\n",
              "      <th>1</th>\n",
              "      <th>2</th>\n",
              "    </tr>\n",
              "  </thead>\n",
              "  <tbody>\n",
              "    <tr>\n",
              "      <th>0</th>\n",
              "      <td>1</td>\n",
              "      <td>2</td>\n",
              "      <td>3</td>\n",
              "    </tr>\n",
              "    <tr>\n",
              "      <th>1</th>\n",
              "      <td>4</td>\n",
              "      <td>5</td>\n",
              "      <td>6</td>\n",
              "    </tr>\n",
              "    <tr>\n",
              "      <th>2</th>\n",
              "      <td>7</td>\n",
              "      <td>8</td>\n",
              "      <td>9</td>\n",
              "    </tr>\n",
              "  </tbody>\n",
              "</table>\n",
              "</div>\n",
              "    <div class=\"colab-df-buttons\">\n",
              "\n",
              "  <div class=\"colab-df-container\">\n",
              "    <button class=\"colab-df-convert\" onclick=\"convertToInteractive('df-1382a416-4dc4-4e56-8f4c-21f6e4945953')\"\n",
              "            title=\"Convert this dataframe to an interactive table.\"\n",
              "            style=\"display:none;\">\n",
              "\n",
              "  <svg xmlns=\"http://www.w3.org/2000/svg\" height=\"24px\" viewBox=\"0 -960 960 960\">\n",
              "    <path d=\"M120-120v-720h720v720H120Zm60-500h600v-160H180v160Zm220 220h160v-160H400v160Zm0 220h160v-160H400v160ZM180-400h160v-160H180v160Zm440 0h160v-160H620v160ZM180-180h160v-160H180v160Zm440 0h160v-160H620v160Z\"/>\n",
              "  </svg>\n",
              "    </button>\n",
              "\n",
              "  <style>\n",
              "    .colab-df-container {\n",
              "      display:flex;\n",
              "      gap: 12px;\n",
              "    }\n",
              "\n",
              "    .colab-df-convert {\n",
              "      background-color: #E8F0FE;\n",
              "      border: none;\n",
              "      border-radius: 50%;\n",
              "      cursor: pointer;\n",
              "      display: none;\n",
              "      fill: #1967D2;\n",
              "      height: 32px;\n",
              "      padding: 0 0 0 0;\n",
              "      width: 32px;\n",
              "    }\n",
              "\n",
              "    .colab-df-convert:hover {\n",
              "      background-color: #E2EBFA;\n",
              "      box-shadow: 0px 1px 2px rgba(60, 64, 67, 0.3), 0px 1px 3px 1px rgba(60, 64, 67, 0.15);\n",
              "      fill: #174EA6;\n",
              "    }\n",
              "\n",
              "    .colab-df-buttons div {\n",
              "      margin-bottom: 4px;\n",
              "    }\n",
              "\n",
              "    [theme=dark] .colab-df-convert {\n",
              "      background-color: #3B4455;\n",
              "      fill: #D2E3FC;\n",
              "    }\n",
              "\n",
              "    [theme=dark] .colab-df-convert:hover {\n",
              "      background-color: #434B5C;\n",
              "      box-shadow: 0px 1px 3px 1px rgba(0, 0, 0, 0.15);\n",
              "      filter: drop-shadow(0px 1px 2px rgba(0, 0, 0, 0.3));\n",
              "      fill: #FFFFFF;\n",
              "    }\n",
              "  </style>\n",
              "\n",
              "    <script>\n",
              "      const buttonEl =\n",
              "        document.querySelector('#df-1382a416-4dc4-4e56-8f4c-21f6e4945953 button.colab-df-convert');\n",
              "      buttonEl.style.display =\n",
              "        google.colab.kernel.accessAllowed ? 'block' : 'none';\n",
              "\n",
              "      async function convertToInteractive(key) {\n",
              "        const element = document.querySelector('#df-1382a416-4dc4-4e56-8f4c-21f6e4945953');\n",
              "        const dataTable =\n",
              "          await google.colab.kernel.invokeFunction('convertToInteractive',\n",
              "                                                    [key], {});\n",
              "        if (!dataTable) return;\n",
              "\n",
              "        const docLinkHtml = 'Like what you see? Visit the ' +\n",
              "          '<a target=\"_blank\" href=https://colab.research.google.com/notebooks/data_table.ipynb>data table notebook</a>'\n",
              "          + ' to learn more about interactive tables.';\n",
              "        element.innerHTML = '';\n",
              "        dataTable['output_type'] = 'display_data';\n",
              "        await google.colab.output.renderOutput(dataTable, element);\n",
              "        const docLink = document.createElement('div');\n",
              "        docLink.innerHTML = docLinkHtml;\n",
              "        element.appendChild(docLink);\n",
              "      }\n",
              "    </script>\n",
              "  </div>\n",
              "\n",
              "\n",
              "<div id=\"df-c195636f-ecb1-49b5-baf1-1ffe5390787b\">\n",
              "  <button class=\"colab-df-quickchart\" onclick=\"quickchart('df-c195636f-ecb1-49b5-baf1-1ffe5390787b')\"\n",
              "            title=\"Suggest charts\"\n",
              "            style=\"display:none;\">\n",
              "\n",
              "<svg xmlns=\"http://www.w3.org/2000/svg\" height=\"24px\"viewBox=\"0 0 24 24\"\n",
              "     width=\"24px\">\n",
              "    <g>\n",
              "        <path d=\"M19 3H5c-1.1 0-2 .9-2 2v14c0 1.1.9 2 2 2h14c1.1 0 2-.9 2-2V5c0-1.1-.9-2-2-2zM9 17H7v-7h2v7zm4 0h-2V7h2v10zm4 0h-2v-4h2v4z\"/>\n",
              "    </g>\n",
              "</svg>\n",
              "  </button>\n",
              "\n",
              "<style>\n",
              "  .colab-df-quickchart {\n",
              "      --bg-color: #E8F0FE;\n",
              "      --fill-color: #1967D2;\n",
              "      --hover-bg-color: #E2EBFA;\n",
              "      --hover-fill-color: #174EA6;\n",
              "      --disabled-fill-color: #AAA;\n",
              "      --disabled-bg-color: #DDD;\n",
              "  }\n",
              "\n",
              "  [theme=dark] .colab-df-quickchart {\n",
              "      --bg-color: #3B4455;\n",
              "      --fill-color: #D2E3FC;\n",
              "      --hover-bg-color: #434B5C;\n",
              "      --hover-fill-color: #FFFFFF;\n",
              "      --disabled-bg-color: #3B4455;\n",
              "      --disabled-fill-color: #666;\n",
              "  }\n",
              "\n",
              "  .colab-df-quickchart {\n",
              "    background-color: var(--bg-color);\n",
              "    border: none;\n",
              "    border-radius: 50%;\n",
              "    cursor: pointer;\n",
              "    display: none;\n",
              "    fill: var(--fill-color);\n",
              "    height: 32px;\n",
              "    padding: 0;\n",
              "    width: 32px;\n",
              "  }\n",
              "\n",
              "  .colab-df-quickchart:hover {\n",
              "    background-color: var(--hover-bg-color);\n",
              "    box-shadow: 0 1px 2px rgba(60, 64, 67, 0.3), 0 1px 3px 1px rgba(60, 64, 67, 0.15);\n",
              "    fill: var(--button-hover-fill-color);\n",
              "  }\n",
              "\n",
              "  .colab-df-quickchart-complete:disabled,\n",
              "  .colab-df-quickchart-complete:disabled:hover {\n",
              "    background-color: var(--disabled-bg-color);\n",
              "    fill: var(--disabled-fill-color);\n",
              "    box-shadow: none;\n",
              "  }\n",
              "\n",
              "  .colab-df-spinner {\n",
              "    border: 2px solid var(--fill-color);\n",
              "    border-color: transparent;\n",
              "    border-bottom-color: var(--fill-color);\n",
              "    animation:\n",
              "      spin 1s steps(1) infinite;\n",
              "  }\n",
              "\n",
              "  @keyframes spin {\n",
              "    0% {\n",
              "      border-color: transparent;\n",
              "      border-bottom-color: var(--fill-color);\n",
              "      border-left-color: var(--fill-color);\n",
              "    }\n",
              "    20% {\n",
              "      border-color: transparent;\n",
              "      border-left-color: var(--fill-color);\n",
              "      border-top-color: var(--fill-color);\n",
              "    }\n",
              "    30% {\n",
              "      border-color: transparent;\n",
              "      border-left-color: var(--fill-color);\n",
              "      border-top-color: var(--fill-color);\n",
              "      border-right-color: var(--fill-color);\n",
              "    }\n",
              "    40% {\n",
              "      border-color: transparent;\n",
              "      border-right-color: var(--fill-color);\n",
              "      border-top-color: var(--fill-color);\n",
              "    }\n",
              "    60% {\n",
              "      border-color: transparent;\n",
              "      border-right-color: var(--fill-color);\n",
              "    }\n",
              "    80% {\n",
              "      border-color: transparent;\n",
              "      border-right-color: var(--fill-color);\n",
              "      border-bottom-color: var(--fill-color);\n",
              "    }\n",
              "    90% {\n",
              "      border-color: transparent;\n",
              "      border-bottom-color: var(--fill-color);\n",
              "    }\n",
              "  }\n",
              "</style>\n",
              "\n",
              "  <script>\n",
              "    async function quickchart(key) {\n",
              "      const quickchartButtonEl =\n",
              "        document.querySelector('#' + key + ' button');\n",
              "      quickchartButtonEl.disabled = true;  // To prevent multiple clicks.\n",
              "      quickchartButtonEl.classList.add('colab-df-spinner');\n",
              "      try {\n",
              "        const charts = await google.colab.kernel.invokeFunction(\n",
              "            'suggestCharts', [key], {});\n",
              "      } catch (error) {\n",
              "        console.error('Error during call to suggestCharts:', error);\n",
              "      }\n",
              "      quickchartButtonEl.classList.remove('colab-df-spinner');\n",
              "      quickchartButtonEl.classList.add('colab-df-quickchart-complete');\n",
              "    }\n",
              "    (() => {\n",
              "      let quickchartButtonEl =\n",
              "        document.querySelector('#df-c195636f-ecb1-49b5-baf1-1ffe5390787b button');\n",
              "      quickchartButtonEl.style.display =\n",
              "        google.colab.kernel.accessAllowed ? 'block' : 'none';\n",
              "    })();\n",
              "  </script>\n",
              "</div>\n",
              "\n",
              "  <div id=\"id_96dc6319-6bcb-47be-b41f-fa10580c779c\">\n",
              "    <style>\n",
              "      .colab-df-generate {\n",
              "        background-color: #E8F0FE;\n",
              "        border: none;\n",
              "        border-radius: 50%;\n",
              "        cursor: pointer;\n",
              "        display: none;\n",
              "        fill: #1967D2;\n",
              "        height: 32px;\n",
              "        padding: 0 0 0 0;\n",
              "        width: 32px;\n",
              "      }\n",
              "\n",
              "      .colab-df-generate:hover {\n",
              "        background-color: #E2EBFA;\n",
              "        box-shadow: 0px 1px 2px rgba(60, 64, 67, 0.3), 0px 1px 3px 1px rgba(60, 64, 67, 0.15);\n",
              "        fill: #174EA6;\n",
              "      }\n",
              "\n",
              "      [theme=dark] .colab-df-generate {\n",
              "        background-color: #3B4455;\n",
              "        fill: #D2E3FC;\n",
              "      }\n",
              "\n",
              "      [theme=dark] .colab-df-generate:hover {\n",
              "        background-color: #434B5C;\n",
              "        box-shadow: 0px 1px 3px 1px rgba(0, 0, 0, 0.15);\n",
              "        filter: drop-shadow(0px 1px 2px rgba(0, 0, 0, 0.3));\n",
              "        fill: #FFFFFF;\n",
              "      }\n",
              "    </style>\n",
              "    <button class=\"colab-df-generate\" onclick=\"generateWithVariable('df')\"\n",
              "            title=\"Generate code using this dataframe.\"\n",
              "            style=\"display:none;\">\n",
              "\n",
              "  <svg xmlns=\"http://www.w3.org/2000/svg\" height=\"24px\"viewBox=\"0 0 24 24\"\n",
              "       width=\"24px\">\n",
              "    <path d=\"M7,19H8.4L18.45,9,17,7.55,7,17.6ZM5,21V16.75L18.45,3.32a2,2,0,0,1,2.83,0l1.4,1.43a1.91,1.91,0,0,1,.58,1.4,1.91,1.91,0,0,1-.58,1.4L9.25,21ZM18.45,9,17,7.55Zm-12,3A5.31,5.31,0,0,0,4.9,8.1,5.31,5.31,0,0,0,1,6.5,5.31,5.31,0,0,0,4.9,4.9,5.31,5.31,0,0,0,6.5,1,5.31,5.31,0,0,0,8.1,4.9,5.31,5.31,0,0,0,12,6.5,5.46,5.46,0,0,0,6.5,12Z\"/>\n",
              "  </svg>\n",
              "    </button>\n",
              "    <script>\n",
              "      (() => {\n",
              "      const buttonEl =\n",
              "        document.querySelector('#id_96dc6319-6bcb-47be-b41f-fa10580c779c button.colab-df-generate');\n",
              "      buttonEl.style.display =\n",
              "        google.colab.kernel.accessAllowed ? 'block' : 'none';\n",
              "\n",
              "      buttonEl.onclick = () => {\n",
              "        google.colab.notebook.generateWithVariable('df');\n",
              "      }\n",
              "      })();\n",
              "    </script>\n",
              "  </div>\n",
              "\n",
              "    </div>\n",
              "  </div>\n"
            ],
            "application/vnd.google.colaboratory.intrinsic+json": {
              "type": "dataframe",
              "variable_name": "df",
              "summary": "{\n  \"name\": \"df\",\n  \"rows\": 3,\n  \"fields\": [\n    {\n      \"column\": 0,\n      \"properties\": {\n        \"dtype\": \"number\",\n        \"std\": 3,\n        \"min\": 1,\n        \"max\": 7,\n        \"num_unique_values\": 3,\n        \"samples\": [\n          1,\n          4,\n          7\n        ],\n        \"semantic_type\": \"\",\n        \"description\": \"\"\n      }\n    },\n    {\n      \"column\": 1,\n      \"properties\": {\n        \"dtype\": \"number\",\n        \"std\": 3,\n        \"min\": 2,\n        \"max\": 8,\n        \"num_unique_values\": 3,\n        \"samples\": [\n          2,\n          5,\n          8\n        ],\n        \"semantic_type\": \"\",\n        \"description\": \"\"\n      }\n    },\n    {\n      \"column\": 2,\n      \"properties\": {\n        \"dtype\": \"number\",\n        \"std\": 3,\n        \"min\": 3,\n        \"max\": 9,\n        \"num_unique_values\": 3,\n        \"samples\": [\n          3,\n          6,\n          9\n        ],\n        \"semantic_type\": \"\",\n        \"description\": \"\"\n      }\n    }\n  ]\n}"
            }
          },
          "metadata": {},
          "execution_count": 14
        }
      ],
      "source": [
        "# 2차원 표(DataFrame) 형태로 만들기\n",
        "import pandas as pd\n",
        "\n",
        "df = pd.DataFrame([[1,2,3],\n",
        "                   [4,5,6],\n",
        "                   [7,8,9]])\n",
        "print(type(df))\n",
        "print(df.index)\n",
        "#print(df.values)\n",
        "print(df.values)\n",
        "print(df.columns)\n",
        "\n",
        "df"
      ]
    },
    {
      "cell_type": "markdown",
      "metadata": {
        "id": "FIKRnApCjUkG"
      },
      "source": [
        "- Pandas에서 파일 읽어오기"
      ]
    },
    {
      "cell_type": "code",
      "execution_count": 17,
      "metadata": {
        "id": "MLJACtdpnKVu",
        "colab": {
          "base_uri": "https://localhost:8080/",
          "height": 143
        },
        "outputId": "09bf0e21-2aa9-4bf2-8a79-98745fcbf02b"
      },
      "outputs": [
        {
          "output_type": "execute_result",
          "data": {
            "text/plain": [
              "         제목                   영어제목           저자    국적         출판년도\n",
              "0  두 도시 이야기   A Tale of Two Cities       찰스 디킨스    영어         1859\n",
              "1     어린 왕자        Le Petit Prince  앙투안 드 생텍쥐페리  프랑스어         1943\n",
              "2    반지의 제왕  The Lord of the Rings  J. R. R. 톨킨    영어  1954 ~ 1955"
            ],
            "text/html": [
              "\n",
              "  <div id=\"df-03ce0003-5449-440f-b6f5-7dd1d2e892ee\" class=\"colab-df-container\">\n",
              "    <div>\n",
              "<style scoped>\n",
              "    .dataframe tbody tr th:only-of-type {\n",
              "        vertical-align: middle;\n",
              "    }\n",
              "\n",
              "    .dataframe tbody tr th {\n",
              "        vertical-align: top;\n",
              "    }\n",
              "\n",
              "    .dataframe thead th {\n",
              "        text-align: right;\n",
              "    }\n",
              "</style>\n",
              "<table border=\"1\" class=\"dataframe\">\n",
              "  <thead>\n",
              "    <tr style=\"text-align: right;\">\n",
              "      <th></th>\n",
              "      <th>제목</th>\n",
              "      <th>영어제목</th>\n",
              "      <th>저자</th>\n",
              "      <th>국적</th>\n",
              "      <th>출판년도</th>\n",
              "    </tr>\n",
              "  </thead>\n",
              "  <tbody>\n",
              "    <tr>\n",
              "      <th>0</th>\n",
              "      <td>두 도시 이야기</td>\n",
              "      <td>A Tale of Two Cities</td>\n",
              "      <td>찰스 디킨스</td>\n",
              "      <td>영어</td>\n",
              "      <td>1859</td>\n",
              "    </tr>\n",
              "    <tr>\n",
              "      <th>1</th>\n",
              "      <td>어린 왕자</td>\n",
              "      <td>Le Petit Prince</td>\n",
              "      <td>앙투안 드 생텍쥐페리</td>\n",
              "      <td>프랑스어</td>\n",
              "      <td>1943</td>\n",
              "    </tr>\n",
              "    <tr>\n",
              "      <th>2</th>\n",
              "      <td>반지의 제왕</td>\n",
              "      <td>The Lord of the Rings</td>\n",
              "      <td>J. R. R. 톨킨</td>\n",
              "      <td>영어</td>\n",
              "      <td>1954 ~ 1955</td>\n",
              "    </tr>\n",
              "  </tbody>\n",
              "</table>\n",
              "</div>\n",
              "    <div class=\"colab-df-buttons\">\n",
              "\n",
              "  <div class=\"colab-df-container\">\n",
              "    <button class=\"colab-df-convert\" onclick=\"convertToInteractive('df-03ce0003-5449-440f-b6f5-7dd1d2e892ee')\"\n",
              "            title=\"Convert this dataframe to an interactive table.\"\n",
              "            style=\"display:none;\">\n",
              "\n",
              "  <svg xmlns=\"http://www.w3.org/2000/svg\" height=\"24px\" viewBox=\"0 -960 960 960\">\n",
              "    <path d=\"M120-120v-720h720v720H120Zm60-500h600v-160H180v160Zm220 220h160v-160H400v160Zm0 220h160v-160H400v160ZM180-400h160v-160H180v160Zm440 0h160v-160H620v160ZM180-180h160v-160H180v160Zm440 0h160v-160H620v160Z\"/>\n",
              "  </svg>\n",
              "    </button>\n",
              "\n",
              "  <style>\n",
              "    .colab-df-container {\n",
              "      display:flex;\n",
              "      gap: 12px;\n",
              "    }\n",
              "\n",
              "    .colab-df-convert {\n",
              "      background-color: #E8F0FE;\n",
              "      border: none;\n",
              "      border-radius: 50%;\n",
              "      cursor: pointer;\n",
              "      display: none;\n",
              "      fill: #1967D2;\n",
              "      height: 32px;\n",
              "      padding: 0 0 0 0;\n",
              "      width: 32px;\n",
              "    }\n",
              "\n",
              "    .colab-df-convert:hover {\n",
              "      background-color: #E2EBFA;\n",
              "      box-shadow: 0px 1px 2px rgba(60, 64, 67, 0.3), 0px 1px 3px 1px rgba(60, 64, 67, 0.15);\n",
              "      fill: #174EA6;\n",
              "    }\n",
              "\n",
              "    .colab-df-buttons div {\n",
              "      margin-bottom: 4px;\n",
              "    }\n",
              "\n",
              "    [theme=dark] .colab-df-convert {\n",
              "      background-color: #3B4455;\n",
              "      fill: #D2E3FC;\n",
              "    }\n",
              "\n",
              "    [theme=dark] .colab-df-convert:hover {\n",
              "      background-color: #434B5C;\n",
              "      box-shadow: 0px 1px 3px 1px rgba(0, 0, 0, 0.15);\n",
              "      filter: drop-shadow(0px 1px 2px rgba(0, 0, 0, 0.3));\n",
              "      fill: #FFFFFF;\n",
              "    }\n",
              "  </style>\n",
              "\n",
              "    <script>\n",
              "      const buttonEl =\n",
              "        document.querySelector('#df-03ce0003-5449-440f-b6f5-7dd1d2e892ee button.colab-df-convert');\n",
              "      buttonEl.style.display =\n",
              "        google.colab.kernel.accessAllowed ? 'block' : 'none';\n",
              "\n",
              "      async function convertToInteractive(key) {\n",
              "        const element = document.querySelector('#df-03ce0003-5449-440f-b6f5-7dd1d2e892ee');\n",
              "        const dataTable =\n",
              "          await google.colab.kernel.invokeFunction('convertToInteractive',\n",
              "                                                    [key], {});\n",
              "        if (!dataTable) return;\n",
              "\n",
              "        const docLinkHtml = 'Like what you see? Visit the ' +\n",
              "          '<a target=\"_blank\" href=https://colab.research.google.com/notebooks/data_table.ipynb>data table notebook</a>'\n",
              "          + ' to learn more about interactive tables.';\n",
              "        element.innerHTML = '';\n",
              "        dataTable['output_type'] = 'display_data';\n",
              "        await google.colab.output.renderOutput(dataTable, element);\n",
              "        const docLink = document.createElement('div');\n",
              "        docLink.innerHTML = docLinkHtml;\n",
              "        element.appendChild(docLink);\n",
              "      }\n",
              "    </script>\n",
              "  </div>\n",
              "\n",
              "\n",
              "<div id=\"df-b14ff8f2-a1ef-4460-824f-8b76d3378b49\">\n",
              "  <button class=\"colab-df-quickchart\" onclick=\"quickchart('df-b14ff8f2-a1ef-4460-824f-8b76d3378b49')\"\n",
              "            title=\"Suggest charts\"\n",
              "            style=\"display:none;\">\n",
              "\n",
              "<svg xmlns=\"http://www.w3.org/2000/svg\" height=\"24px\"viewBox=\"0 0 24 24\"\n",
              "     width=\"24px\">\n",
              "    <g>\n",
              "        <path d=\"M19 3H5c-1.1 0-2 .9-2 2v14c0 1.1.9 2 2 2h14c1.1 0 2-.9 2-2V5c0-1.1-.9-2-2-2zM9 17H7v-7h2v7zm4 0h-2V7h2v10zm4 0h-2v-4h2v4z\"/>\n",
              "    </g>\n",
              "</svg>\n",
              "  </button>\n",
              "\n",
              "<style>\n",
              "  .colab-df-quickchart {\n",
              "      --bg-color: #E8F0FE;\n",
              "      --fill-color: #1967D2;\n",
              "      --hover-bg-color: #E2EBFA;\n",
              "      --hover-fill-color: #174EA6;\n",
              "      --disabled-fill-color: #AAA;\n",
              "      --disabled-bg-color: #DDD;\n",
              "  }\n",
              "\n",
              "  [theme=dark] .colab-df-quickchart {\n",
              "      --bg-color: #3B4455;\n",
              "      --fill-color: #D2E3FC;\n",
              "      --hover-bg-color: #434B5C;\n",
              "      --hover-fill-color: #FFFFFF;\n",
              "      --disabled-bg-color: #3B4455;\n",
              "      --disabled-fill-color: #666;\n",
              "  }\n",
              "\n",
              "  .colab-df-quickchart {\n",
              "    background-color: var(--bg-color);\n",
              "    border: none;\n",
              "    border-radius: 50%;\n",
              "    cursor: pointer;\n",
              "    display: none;\n",
              "    fill: var(--fill-color);\n",
              "    height: 32px;\n",
              "    padding: 0;\n",
              "    width: 32px;\n",
              "  }\n",
              "\n",
              "  .colab-df-quickchart:hover {\n",
              "    background-color: var(--hover-bg-color);\n",
              "    box-shadow: 0 1px 2px rgba(60, 64, 67, 0.3), 0 1px 3px 1px rgba(60, 64, 67, 0.15);\n",
              "    fill: var(--button-hover-fill-color);\n",
              "  }\n",
              "\n",
              "  .colab-df-quickchart-complete:disabled,\n",
              "  .colab-df-quickchart-complete:disabled:hover {\n",
              "    background-color: var(--disabled-bg-color);\n",
              "    fill: var(--disabled-fill-color);\n",
              "    box-shadow: none;\n",
              "  }\n",
              "\n",
              "  .colab-df-spinner {\n",
              "    border: 2px solid var(--fill-color);\n",
              "    border-color: transparent;\n",
              "    border-bottom-color: var(--fill-color);\n",
              "    animation:\n",
              "      spin 1s steps(1) infinite;\n",
              "  }\n",
              "\n",
              "  @keyframes spin {\n",
              "    0% {\n",
              "      border-color: transparent;\n",
              "      border-bottom-color: var(--fill-color);\n",
              "      border-left-color: var(--fill-color);\n",
              "    }\n",
              "    20% {\n",
              "      border-color: transparent;\n",
              "      border-left-color: var(--fill-color);\n",
              "      border-top-color: var(--fill-color);\n",
              "    }\n",
              "    30% {\n",
              "      border-color: transparent;\n",
              "      border-left-color: var(--fill-color);\n",
              "      border-top-color: var(--fill-color);\n",
              "      border-right-color: var(--fill-color);\n",
              "    }\n",
              "    40% {\n",
              "      border-color: transparent;\n",
              "      border-right-color: var(--fill-color);\n",
              "      border-top-color: var(--fill-color);\n",
              "    }\n",
              "    60% {\n",
              "      border-color: transparent;\n",
              "      border-right-color: var(--fill-color);\n",
              "    }\n",
              "    80% {\n",
              "      border-color: transparent;\n",
              "      border-right-color: var(--fill-color);\n",
              "      border-bottom-color: var(--fill-color);\n",
              "    }\n",
              "    90% {\n",
              "      border-color: transparent;\n",
              "      border-bottom-color: var(--fill-color);\n",
              "    }\n",
              "  }\n",
              "</style>\n",
              "\n",
              "  <script>\n",
              "    async function quickchart(key) {\n",
              "      const quickchartButtonEl =\n",
              "        document.querySelector('#' + key + ' button');\n",
              "      quickchartButtonEl.disabled = true;  // To prevent multiple clicks.\n",
              "      quickchartButtonEl.classList.add('colab-df-spinner');\n",
              "      try {\n",
              "        const charts = await google.colab.kernel.invokeFunction(\n",
              "            'suggestCharts', [key], {});\n",
              "      } catch (error) {\n",
              "        console.error('Error during call to suggestCharts:', error);\n",
              "      }\n",
              "      quickchartButtonEl.classList.remove('colab-df-spinner');\n",
              "      quickchartButtonEl.classList.add('colab-df-quickchart-complete');\n",
              "    }\n",
              "    (() => {\n",
              "      let quickchartButtonEl =\n",
              "        document.querySelector('#df-b14ff8f2-a1ef-4460-824f-8b76d3378b49 button');\n",
              "      quickchartButtonEl.style.display =\n",
              "        google.colab.kernel.accessAllowed ? 'block' : 'none';\n",
              "    })();\n",
              "  </script>\n",
              "</div>\n",
              "\n",
              "    </div>\n",
              "  </div>\n"
            ],
            "application/vnd.google.colaboratory.intrinsic+json": {
              "type": "dataframe",
              "variable_name": "df",
              "summary": "{\n  \"name\": \"df\",\n  \"rows\": 5,\n  \"fields\": [\n    {\n      \"column\": \"\\uc81c\\ubaa9\",\n      \"properties\": {\n        \"dtype\": \"string\",\n        \"num_unique_values\": 5,\n        \"samples\": [\n          \"\\uc5b4\\ub9b0 \\uc655\\uc790\",\n          \"\\ud638\\ube57\",\n          \"\\ubc18\\uc9c0\\uc758 \\uc81c\\uc655\"\n        ],\n        \"semantic_type\": \"\",\n        \"description\": \"\"\n      }\n    },\n    {\n      \"column\": \"\\uc601\\uc5b4\\uc81c\\ubaa9\",\n      \"properties\": {\n        \"dtype\": \"string\",\n        \"num_unique_values\": 5,\n        \"samples\": [\n          \"Le Petit Prince\",\n          \"The Hobbit\",\n          \"The Lord of the Rings\"\n        ],\n        \"semantic_type\": \"\",\n        \"description\": \"\"\n      }\n    },\n    {\n      \"column\": \"\\uc800\\uc790\",\n      \"properties\": {\n        \"dtype\": \"string\",\n        \"num_unique_values\": 5,\n        \"samples\": [\n          \"\\uc559\\ud22c\\uc548 \\ub4dc \\uc0dd\\ud14d\\uc950\\ud398\\ub9ac\",\n          \" J. R. R. \\ud1a8\\ud0a8\",\n          \"J. R. R. \\ud1a8\\ud0a8\"\n        ],\n        \"semantic_type\": \"\",\n        \"description\": \"\"\n      }\n    },\n    {\n      \"column\": \"\\uad6d\\uc801\",\n      \"properties\": {\n        \"dtype\": \"category\",\n        \"num_unique_values\": 2,\n        \"samples\": [\n          \"\\ud504\\ub791\\uc2a4\\uc5b4\",\n          \"\\uc601\\uc5b4\"\n        ],\n        \"semantic_type\": \"\",\n        \"description\": \"\"\n      }\n    },\n    {\n      \"column\": \"\\ucd9c\\ud310\\ub144\\ub3c4\",\n      \"properties\": {\n        \"dtype\": \"string\",\n        \"num_unique_values\": 5,\n        \"samples\": [\n          \"1943\",\n          \"1937\"\n        ],\n        \"semantic_type\": \"\",\n        \"description\": \"\"\n      }\n    }\n  ]\n}"
            }
          },
          "metadata": {},
          "execution_count": 17
        }
      ],
      "source": [
        "# TXT 파일 읽어오기\n",
        "import pandas as pd\n",
        "\n",
        "df = pd.read_table('./book.txt')\n",
        "\n",
        "# 컬럼 제목 넣기: 방법1\n",
        "df = pd.read_table('./book.txt', sep=',',\n",
        "                   names = ['제목','영어제목','저자','국적','출판년도'])\n",
        "\n",
        "# 컬럼 제목 넣기: 방법2\n",
        "df = pd.read_table('./book.txt', sep=',', header=None)\n",
        "df.columns = ['제목','영어제목','저자','국적','출판년도']\n",
        "\n",
        "df.head(3)"
      ]
    },
    {
      "cell_type": "code",
      "execution_count": null,
      "metadata": {
        "collapsed": true,
        "id": "7MhbVMRlLp-K",
        "colab": {
          "base_uri": "https://localhost:8080/",
          "height": 338
        },
        "outputId": "d2cabe70-999b-408c-e0b3-451e5fb60795"
      },
      "outputs": [
        {
          "output_type": "stream",
          "name": "stdout",
          "text": [
            "<class 'pandas.core.frame.DataFrame'>\n"
          ]
        },
        {
          "output_type": "execute_result",
          "data": {
            "text/plain": [
              "   지점 지점명       일시  평균기온(°C)  최고기온(°C)  최저기온(°C)  평균현지기압(hPa)  평균상대습도(%)  \\\n",
              "0  90  속초  1968-01      -0.7      11.4     -11.4       1018.2       47.0   \n",
              "1  90  속초  1968-02      -2.1       9.7      -9.9       1022.8       51.0   \n",
              "2  90  속초  1968-03       5.9      20.5      -3.2       1016.1       57.0   \n",
              "\n",
              "   월합강수량(00~24h만)(mm)  일최다강수량(mm)  평균풍속(m/s)  최대풍속(m/s)  합계 일조시간(hr)  \\\n",
              "0                 0.0         0.0        2.1       13.0        218.6   \n",
              "1                 3.3         2.0        2.2       10.0        236.5   \n",
              "2                 8.8         3.3        2.1       10.3        223.7   \n",
              "\n",
              "   최심적설(cm)  평균지면온도(°C)  \n",
              "0       NaN         NaN  \n",
              "1       1.8         NaN  \n",
              "2       0.0         NaN  "
            ],
            "text/html": [
              "\n",
              "  <div id=\"df-d256e97e-2a09-40ed-bcda-d098dc8aa2ef\" class=\"colab-df-container\">\n",
              "    <div>\n",
              "<style scoped>\n",
              "    .dataframe tbody tr th:only-of-type {\n",
              "        vertical-align: middle;\n",
              "    }\n",
              "\n",
              "    .dataframe tbody tr th {\n",
              "        vertical-align: top;\n",
              "    }\n",
              "\n",
              "    .dataframe thead th {\n",
              "        text-align: right;\n",
              "    }\n",
              "</style>\n",
              "<table border=\"1\" class=\"dataframe\">\n",
              "  <thead>\n",
              "    <tr style=\"text-align: right;\">\n",
              "      <th></th>\n",
              "      <th>지점</th>\n",
              "      <th>지점명</th>\n",
              "      <th>일시</th>\n",
              "      <th>평균기온(°C)</th>\n",
              "      <th>최고기온(°C)</th>\n",
              "      <th>최저기온(°C)</th>\n",
              "      <th>평균현지기압(hPa)</th>\n",
              "      <th>평균상대습도(%)</th>\n",
              "      <th>월합강수량(00~24h만)(mm)</th>\n",
              "      <th>일최다강수량(mm)</th>\n",
              "      <th>평균풍속(m/s)</th>\n",
              "      <th>최대풍속(m/s)</th>\n",
              "      <th>합계 일조시간(hr)</th>\n",
              "      <th>최심적설(cm)</th>\n",
              "      <th>평균지면온도(°C)</th>\n",
              "    </tr>\n",
              "  </thead>\n",
              "  <tbody>\n",
              "    <tr>\n",
              "      <th>0</th>\n",
              "      <td>90</td>\n",
              "      <td>속초</td>\n",
              "      <td>1968-01</td>\n",
              "      <td>-0.7</td>\n",
              "      <td>11.4</td>\n",
              "      <td>-11.4</td>\n",
              "      <td>1018.2</td>\n",
              "      <td>47.0</td>\n",
              "      <td>0.0</td>\n",
              "      <td>0.0</td>\n",
              "      <td>2.1</td>\n",
              "      <td>13.0</td>\n",
              "      <td>218.6</td>\n",
              "      <td>NaN</td>\n",
              "      <td>NaN</td>\n",
              "    </tr>\n",
              "    <tr>\n",
              "      <th>1</th>\n",
              "      <td>90</td>\n",
              "      <td>속초</td>\n",
              "      <td>1968-02</td>\n",
              "      <td>-2.1</td>\n",
              "      <td>9.7</td>\n",
              "      <td>-9.9</td>\n",
              "      <td>1022.8</td>\n",
              "      <td>51.0</td>\n",
              "      <td>3.3</td>\n",
              "      <td>2.0</td>\n",
              "      <td>2.2</td>\n",
              "      <td>10.0</td>\n",
              "      <td>236.5</td>\n",
              "      <td>1.8</td>\n",
              "      <td>NaN</td>\n",
              "    </tr>\n",
              "    <tr>\n",
              "      <th>2</th>\n",
              "      <td>90</td>\n",
              "      <td>속초</td>\n",
              "      <td>1968-03</td>\n",
              "      <td>5.9</td>\n",
              "      <td>20.5</td>\n",
              "      <td>-3.2</td>\n",
              "      <td>1016.1</td>\n",
              "      <td>57.0</td>\n",
              "      <td>8.8</td>\n",
              "      <td>3.3</td>\n",
              "      <td>2.1</td>\n",
              "      <td>10.3</td>\n",
              "      <td>223.7</td>\n",
              "      <td>0.0</td>\n",
              "      <td>NaN</td>\n",
              "    </tr>\n",
              "  </tbody>\n",
              "</table>\n",
              "</div>\n",
              "    <div class=\"colab-df-buttons\">\n",
              "\n",
              "  <div class=\"colab-df-container\">\n",
              "    <button class=\"colab-df-convert\" onclick=\"convertToInteractive('df-d256e97e-2a09-40ed-bcda-d098dc8aa2ef')\"\n",
              "            title=\"Convert this dataframe to an interactive table.\"\n",
              "            style=\"display:none;\">\n",
              "\n",
              "  <svg xmlns=\"http://www.w3.org/2000/svg\" height=\"24px\" viewBox=\"0 -960 960 960\">\n",
              "    <path d=\"M120-120v-720h720v720H120Zm60-500h600v-160H180v160Zm220 220h160v-160H400v160Zm0 220h160v-160H400v160ZM180-400h160v-160H180v160Zm440 0h160v-160H620v160ZM180-180h160v-160H180v160Zm440 0h160v-160H620v160Z\"/>\n",
              "  </svg>\n",
              "    </button>\n",
              "\n",
              "  <style>\n",
              "    .colab-df-container {\n",
              "      display:flex;\n",
              "      gap: 12px;\n",
              "    }\n",
              "\n",
              "    .colab-df-convert {\n",
              "      background-color: #E8F0FE;\n",
              "      border: none;\n",
              "      border-radius: 50%;\n",
              "      cursor: pointer;\n",
              "      display: none;\n",
              "      fill: #1967D2;\n",
              "      height: 32px;\n",
              "      padding: 0 0 0 0;\n",
              "      width: 32px;\n",
              "    }\n",
              "\n",
              "    .colab-df-convert:hover {\n",
              "      background-color: #E2EBFA;\n",
              "      box-shadow: 0px 1px 2px rgba(60, 64, 67, 0.3), 0px 1px 3px 1px rgba(60, 64, 67, 0.15);\n",
              "      fill: #174EA6;\n",
              "    }\n",
              "\n",
              "    .colab-df-buttons div {\n",
              "      margin-bottom: 4px;\n",
              "    }\n",
              "\n",
              "    [theme=dark] .colab-df-convert {\n",
              "      background-color: #3B4455;\n",
              "      fill: #D2E3FC;\n",
              "    }\n",
              "\n",
              "    [theme=dark] .colab-df-convert:hover {\n",
              "      background-color: #434B5C;\n",
              "      box-shadow: 0px 1px 3px 1px rgba(0, 0, 0, 0.15);\n",
              "      filter: drop-shadow(0px 1px 2px rgba(0, 0, 0, 0.3));\n",
              "      fill: #FFFFFF;\n",
              "    }\n",
              "  </style>\n",
              "\n",
              "    <script>\n",
              "      const buttonEl =\n",
              "        document.querySelector('#df-d256e97e-2a09-40ed-bcda-d098dc8aa2ef button.colab-df-convert');\n",
              "      buttonEl.style.display =\n",
              "        google.colab.kernel.accessAllowed ? 'block' : 'none';\n",
              "\n",
              "      async function convertToInteractive(key) {\n",
              "        const element = document.querySelector('#df-d256e97e-2a09-40ed-bcda-d098dc8aa2ef');\n",
              "        const dataTable =\n",
              "          await google.colab.kernel.invokeFunction('convertToInteractive',\n",
              "                                                    [key], {});\n",
              "        if (!dataTable) return;\n",
              "\n",
              "        const docLinkHtml = 'Like what you see? Visit the ' +\n",
              "          '<a target=\"_blank\" href=https://colab.research.google.com/notebooks/data_table.ipynb>data table notebook</a>'\n",
              "          + ' to learn more about interactive tables.';\n",
              "        element.innerHTML = '';\n",
              "        dataTable['output_type'] = 'display_data';\n",
              "        await google.colab.output.renderOutput(dataTable, element);\n",
              "        const docLink = document.createElement('div');\n",
              "        docLink.innerHTML = docLinkHtml;\n",
              "        element.appendChild(docLink);\n",
              "      }\n",
              "    </script>\n",
              "  </div>\n",
              "\n",
              "\n",
              "<div id=\"df-76b2f038-33ec-4732-a037-b5b488cea783\">\n",
              "  <button class=\"colab-df-quickchart\" onclick=\"quickchart('df-76b2f038-33ec-4732-a037-b5b488cea783')\"\n",
              "            title=\"Suggest charts\"\n",
              "            style=\"display:none;\">\n",
              "\n",
              "<svg xmlns=\"http://www.w3.org/2000/svg\" height=\"24px\"viewBox=\"0 0 24 24\"\n",
              "     width=\"24px\">\n",
              "    <g>\n",
              "        <path d=\"M19 3H5c-1.1 0-2 .9-2 2v14c0 1.1.9 2 2 2h14c1.1 0 2-.9 2-2V5c0-1.1-.9-2-2-2zM9 17H7v-7h2v7zm4 0h-2V7h2v10zm4 0h-2v-4h2v4z\"/>\n",
              "    </g>\n",
              "</svg>\n",
              "  </button>\n",
              "\n",
              "<style>\n",
              "  .colab-df-quickchart {\n",
              "      --bg-color: #E8F0FE;\n",
              "      --fill-color: #1967D2;\n",
              "      --hover-bg-color: #E2EBFA;\n",
              "      --hover-fill-color: #174EA6;\n",
              "      --disabled-fill-color: #AAA;\n",
              "      --disabled-bg-color: #DDD;\n",
              "  }\n",
              "\n",
              "  [theme=dark] .colab-df-quickchart {\n",
              "      --bg-color: #3B4455;\n",
              "      --fill-color: #D2E3FC;\n",
              "      --hover-bg-color: #434B5C;\n",
              "      --hover-fill-color: #FFFFFF;\n",
              "      --disabled-bg-color: #3B4455;\n",
              "      --disabled-fill-color: #666;\n",
              "  }\n",
              "\n",
              "  .colab-df-quickchart {\n",
              "    background-color: var(--bg-color);\n",
              "    border: none;\n",
              "    border-radius: 50%;\n",
              "    cursor: pointer;\n",
              "    display: none;\n",
              "    fill: var(--fill-color);\n",
              "    height: 32px;\n",
              "    padding: 0;\n",
              "    width: 32px;\n",
              "  }\n",
              "\n",
              "  .colab-df-quickchart:hover {\n",
              "    background-color: var(--hover-bg-color);\n",
              "    box-shadow: 0 1px 2px rgba(60, 64, 67, 0.3), 0 1px 3px 1px rgba(60, 64, 67, 0.15);\n",
              "    fill: var(--button-hover-fill-color);\n",
              "  }\n",
              "\n",
              "  .colab-df-quickchart-complete:disabled,\n",
              "  .colab-df-quickchart-complete:disabled:hover {\n",
              "    background-color: var(--disabled-bg-color);\n",
              "    fill: var(--disabled-fill-color);\n",
              "    box-shadow: none;\n",
              "  }\n",
              "\n",
              "  .colab-df-spinner {\n",
              "    border: 2px solid var(--fill-color);\n",
              "    border-color: transparent;\n",
              "    border-bottom-color: var(--fill-color);\n",
              "    animation:\n",
              "      spin 1s steps(1) infinite;\n",
              "  }\n",
              "\n",
              "  @keyframes spin {\n",
              "    0% {\n",
              "      border-color: transparent;\n",
              "      border-bottom-color: var(--fill-color);\n",
              "      border-left-color: var(--fill-color);\n",
              "    }\n",
              "    20% {\n",
              "      border-color: transparent;\n",
              "      border-left-color: var(--fill-color);\n",
              "      border-top-color: var(--fill-color);\n",
              "    }\n",
              "    30% {\n",
              "      border-color: transparent;\n",
              "      border-left-color: var(--fill-color);\n",
              "      border-top-color: var(--fill-color);\n",
              "      border-right-color: var(--fill-color);\n",
              "    }\n",
              "    40% {\n",
              "      border-color: transparent;\n",
              "      border-right-color: var(--fill-color);\n",
              "      border-top-color: var(--fill-color);\n",
              "    }\n",
              "    60% {\n",
              "      border-color: transparent;\n",
              "      border-right-color: var(--fill-color);\n",
              "    }\n",
              "    80% {\n",
              "      border-color: transparent;\n",
              "      border-right-color: var(--fill-color);\n",
              "      border-bottom-color: var(--fill-color);\n",
              "    }\n",
              "    90% {\n",
              "      border-color: transparent;\n",
              "      border-bottom-color: var(--fill-color);\n",
              "    }\n",
              "  }\n",
              "</style>\n",
              "\n",
              "  <script>\n",
              "    async function quickchart(key) {\n",
              "      const quickchartButtonEl =\n",
              "        document.querySelector('#' + key + ' button');\n",
              "      quickchartButtonEl.disabled = true;  // To prevent multiple clicks.\n",
              "      quickchartButtonEl.classList.add('colab-df-spinner');\n",
              "      try {\n",
              "        const charts = await google.colab.kernel.invokeFunction(\n",
              "            'suggestCharts', [key], {});\n",
              "      } catch (error) {\n",
              "        console.error('Error during call to suggestCharts:', error);\n",
              "      }\n",
              "      quickchartButtonEl.classList.remove('colab-df-spinner');\n",
              "      quickchartButtonEl.classList.add('colab-df-quickchart-complete');\n",
              "    }\n",
              "    (() => {\n",
              "      let quickchartButtonEl =\n",
              "        document.querySelector('#df-76b2f038-33ec-4732-a037-b5b488cea783 button');\n",
              "      quickchartButtonEl.style.display =\n",
              "        google.colab.kernel.accessAllowed ? 'block' : 'none';\n",
              "    })();\n",
              "  </script>\n",
              "</div>\n",
              "\n",
              "    </div>\n",
              "  </div>\n"
            ],
            "application/vnd.google.colaboratory.intrinsic+json": {
              "type": "dataframe",
              "variable_name": "df",
              "summary": "{\n  \"name\": \"df\",\n  \"rows\": 54268,\n  \"fields\": [\n    {\n      \"column\": \"\\uc9c0\\uc810\",\n      \"properties\": {\n        \"dtype\": \"number\",\n        \"std\": 62,\n        \"min\": 90,\n        \"max\": 295,\n        \"num_unique_values\": 103,\n        \"samples\": [\n          152,\n          244,\n          235\n        ],\n        \"semantic_type\": \"\",\n        \"description\": \"\"\n      }\n    },\n    {\n      \"column\": \"\\uc9c0\\uc810\\uba85\",\n      \"properties\": {\n        \"dtype\": \"category\",\n        \"num_unique_values\": 102,\n        \"samples\": [\n          \"\\uc6b8\\uc0b0\",\n          \"\\uc815\\uc74d\",\n          \"\\ubd80\\uc5ec\"\n        ],\n        \"semantic_type\": \"\",\n        \"description\": \"\"\n      }\n    },\n    {\n      \"column\": \"\\uc77c\\uc2dc\",\n      \"properties\": {\n        \"dtype\": \"object\",\n        \"num_unique_values\": 1411,\n        \"samples\": [\n          \"1997-06\",\n          \"1927-12\",\n          \"1907-11\"\n        ],\n        \"semantic_type\": \"\",\n        \"description\": \"\"\n      }\n    },\n    {\n      \"column\": \"\\ud3c9\\uade0\\uae30\\uc628(\\u00b0C)\",\n      \"properties\": {\n        \"dtype\": \"number\",\n        \"std\": 9.155887359020905,\n        \"min\": -13.5,\n        \"max\": 30.2,\n        \"num_unique_values\": 406,\n        \"samples\": [\n          20.2,\n          -0.8,\n          26.9\n        ],\n        \"semantic_type\": \"\",\n        \"description\": \"\"\n      }\n    },\n    {\n      \"column\": \"\\ucd5c\\uace0\\uae30\\uc628(\\u00b0C)\",\n      \"properties\": {\n        \"dtype\": \"number\",\n        \"std\": 8.022287676800087,\n        \"min\": -4.8,\n        \"max\": 41.0,\n        \"num_unique_values\": 407,\n        \"samples\": [\n          19.0,\n          7.3,\n          36.5\n        ],\n        \"semantic_type\": \"\",\n        \"description\": \"\"\n      }\n    },\n    {\n      \"column\": \"\\ucd5c\\uc800\\uae30\\uc628(\\u00b0C)\",\n      \"properties\": {\n        \"dtype\": \"number\",\n        \"std\": 10.764863074594414,\n        \"min\": -32.6,\n        \"max\": 24.8,\n        \"num_unique_values\": 523,\n        \"samples\": [\n          24.8,\n          -12.8,\n          17.1\n        ],\n        \"semantic_type\": \"\",\n        \"description\": \"\"\n      }\n    },\n    {\n      \"column\": \"\\ud3c9\\uade0\\ud604\\uc9c0\\uae30\\uc555(hPa)\",\n      \"properties\": {\n        \"dtype\": \"number\",\n        \"std\": 16.182986724105763,\n        \"min\": 911.8,\n        \"max\": 1029.7,\n        \"num_unique_values\": 1032,\n        \"samples\": [\n          1013.9,\n          1016.9,\n          998.7\n        ],\n        \"semantic_type\": \"\",\n        \"description\": \"\"\n      }\n    },\n    {\n      \"column\": \"\\ud3c9\\uade0\\uc0c1\\ub300\\uc2b5\\ub3c4(%)\",\n      \"properties\": {\n        \"dtype\": \"number\",\n        \"std\": 9.842899543114621,\n        \"min\": 8.0,\n        \"max\": 99.0,\n        \"num_unique_values\": 69,\n        \"samples\": [\n          45.0,\n          47.0,\n          50.0\n        ],\n        \"semantic_type\": \"\",\n        \"description\": \"\"\n      }\n    },\n    {\n      \"column\": \"\\uc6d4\\ud569\\uac15\\uc218\\ub7c9(00~24h\\ub9cc)(mm)\",\n      \"properties\": {\n        \"dtype\": \"number\",\n        \"std\": 120.92739712151835,\n        \"min\": 0.0,\n        \"max\": 1364.2,\n        \"num_unique_values\": 5166,\n        \"samples\": [\n          148.3,\n          217.9,\n          515.7\n        ],\n        \"semantic_type\": \"\",\n        \"description\": \"\"\n      }\n    },\n    {\n      \"column\": \"\\uc77c\\ucd5c\\ub2e4\\uac15\\uc218\\ub7c9(mm)\",\n      \"properties\": {\n        \"dtype\": \"number\",\n        \"std\": 42.714819588772265,\n        \"min\": 0.0,\n        \"max\": 870.5,\n        \"num_unique_values\": 2181,\n        \"samples\": [\n          2.5,\n          121.5,\n          151.3\n        ],\n        \"semantic_type\": \"\",\n        \"description\": \"\"\n      }\n    },\n    {\n      \"column\": \"\\ud3c9\\uade0\\ud48d\\uc18d(m/s)\",\n      \"properties\": {\n        \"dtype\": \"number\",\n        \"std\": 1.2945390709361686,\n        \"min\": -0.4,\n        \"max\": 22.7,\n        \"num_unique_values\": 131,\n        \"samples\": [\n          7.8,\n          0.8,\n          4.2\n        ],\n        \"semantic_type\": \"\",\n        \"description\": \"\"\n      }\n    },\n    {\n      \"column\": \"\\ucd5c\\ub300\\ud48d\\uc18d(m/s)\",\n      \"properties\": {\n        \"dtype\": \"number\",\n        \"std\": 4.368842622236162,\n        \"min\": 1.3,\n        \"max\": 51.1,\n        \"num_unique_values\": 344,\n        \"samples\": [\n          21.9,\n          24.2,\n          24.6\n        ],\n        \"semantic_type\": \"\",\n        \"description\": \"\"\n      }\n    },\n    {\n      \"column\": \"\\ud569\\uacc4 \\uc77c\\uc870\\uc2dc\\uac04(hr)\",\n      \"properties\": {\n        \"dtype\": \"number\",\n        \"std\": 46.3287683994125,\n        \"min\": 0.0,\n        \"max\": 1300.3,\n        \"num_unique_values\": 2757,\n        \"samples\": [\n          8.8,\n          264.4,\n          179.6\n        ],\n        \"semantic_type\": \"\",\n        \"description\": \"\"\n      }\n    },\n    {\n      \"column\": \"\\ucd5c\\uc2ec\\uc801\\uc124(cm)\",\n      \"properties\": {\n        \"dtype\": \"number\",\n        \"std\": 14.854906337191286,\n        \"min\": 0.0,\n        \"max\": 293.6,\n        \"num_unique_values\": 633,\n        \"samples\": [\n          74.0,\n          29.2,\n          14.9\n        ],\n        \"semantic_type\": \"\",\n        \"description\": \"\"\n      }\n    },\n    {\n      \"column\": \"\\ud3c9\\uade0\\uc9c0\\uba74\\uc628\\ub3c4(\\u00b0C)\",\n      \"properties\": {\n        \"dtype\": \"number\",\n        \"std\": 10.084500581560226,\n        \"min\": -9.1,\n        \"max\": 37.4,\n        \"num_unique_values\": 434,\n        \"samples\": [\n          -3.2,\n          25.9,\n          26.1\n        ],\n        \"semantic_type\": \"\",\n        \"description\": \"\"\n      }\n    }\n  ]\n}"
            }
          },
          "metadata": {},
          "execution_count": 15
        }
      ],
      "source": [
        "# CSV 파일 읽어오기\n",
        "import pandas as pd\n",
        "\n",
        "file = './data.csv' # ./ 의미 : 현재 위치에서\n",
        "df = pd.read_csv(file, encoding='CP949', engine='python')\n",
        "print(type(df))\n",
        "df.head(3)"
      ]
    },
    {
      "cell_type": "code",
      "execution_count": null,
      "metadata": {
        "id": "t9J4s13UoT55",
        "colab": {
          "base_uri": "https://localhost:8080/"
        },
        "outputId": "2e498a98-457c-4db6-e7f1-4b17c098698b"
      },
      "outputs": [
        {
          "output_type": "stream",
          "name": "stdout",
          "text": [
            "Requirement already satisfied: openpyxl in /usr/local/lib/python3.10/dist-packages (3.1.5)\n",
            "Requirement already satisfied: et-xmlfile in /usr/local/lib/python3.10/dist-packages (from openpyxl) (1.1.0)\n"
          ]
        }
      ],
      "source": [
        "#라이브러리 설치 :  EXCEL 파일 읽기 위해 필요\n",
        "!pip install openpyxl"
      ]
    },
    {
      "cell_type": "code",
      "execution_count": 33,
      "metadata": {
        "id": "-RxVNTb3nL_L",
        "colab": {
          "base_uri": "https://localhost:8080/",
          "height": 671
        },
        "outputId": "1ea51c44-0a6a-4d5a-e6cd-3f307ca292b1"
      },
      "outputs": [
        {
          "output_type": "stream",
          "name": "stderr",
          "text": [
            "/usr/local/lib/python3.10/dist-packages/openpyxl/styles/stylesheet.py:237: UserWarning: Workbook contains no default style, apply openpyxl's default\n",
            "  warn(\"Workbook contains no default style, apply openpyxl's default\")\n"
          ]
        },
        {
          "output_type": "execute_result",
          "data": {
            "text/plain": [
              "      행정구역별     2021     2022     2023\n",
              "0        전국    515.2    514.6    515.4\n",
              "1     서울특별시  15650.1  15560.7  15506.4\n",
              "2     부산광역시   4316.4   4272.8   4252.0\n",
              "3     대구광역시   2702.2   2673.7   1586.7\n",
              "4     인천광역시   2772.8   2801.3   2835.7\n",
              "5     광주광역시   2944.0   2931.9   2908.5\n",
              "6     대전광역시   2742.8   2730.7   2724.0\n",
              "7     울산광역시   1055.0   1044.9   1042.0\n",
              "8   세종특별자치시    787.7    822.9    830.7\n",
              "9       경기도   1338.9   1344.9   1354.5\n",
              "10  강원특별자치도     90.4     90.8     90.8\n",
              "11     충청북도    219.4    219.4    221.6\n",
              "12     충청남도    263.8    265.9    268.7\n",
              "13     전라북도    221.4    219.8    219.1\n",
              "14     전라남도    143.9    143.3    143.7\n",
              "15     경상북도    138.4    137.7    140.6\n",
              "16     경상남도    313.6    311.2    310.3\n",
              "17  제주특별자치도    363.8    365.6    365.8"
            ],
            "text/html": [
              "\n",
              "  <div id=\"df-ba9cada7-5014-4f71-b870-1f14881c0c57\" class=\"colab-df-container\">\n",
              "    <div>\n",
              "<style scoped>\n",
              "    .dataframe tbody tr th:only-of-type {\n",
              "        vertical-align: middle;\n",
              "    }\n",
              "\n",
              "    .dataframe tbody tr th {\n",
              "        vertical-align: top;\n",
              "    }\n",
              "\n",
              "    .dataframe thead th {\n",
              "        text-align: right;\n",
              "    }\n",
              "</style>\n",
              "<table border=\"1\" class=\"dataframe\">\n",
              "  <thead>\n",
              "    <tr style=\"text-align: right;\">\n",
              "      <th></th>\n",
              "      <th>행정구역별</th>\n",
              "      <th>2021</th>\n",
              "      <th>2022</th>\n",
              "      <th>2023</th>\n",
              "    </tr>\n",
              "  </thead>\n",
              "  <tbody>\n",
              "    <tr>\n",
              "      <th>0</th>\n",
              "      <td>전국</td>\n",
              "      <td>515.2</td>\n",
              "      <td>514.6</td>\n",
              "      <td>515.4</td>\n",
              "    </tr>\n",
              "    <tr>\n",
              "      <th>1</th>\n",
              "      <td>서울특별시</td>\n",
              "      <td>15650.1</td>\n",
              "      <td>15560.7</td>\n",
              "      <td>15506.4</td>\n",
              "    </tr>\n",
              "    <tr>\n",
              "      <th>2</th>\n",
              "      <td>부산광역시</td>\n",
              "      <td>4316.4</td>\n",
              "      <td>4272.8</td>\n",
              "      <td>4252.0</td>\n",
              "    </tr>\n",
              "    <tr>\n",
              "      <th>3</th>\n",
              "      <td>대구광역시</td>\n",
              "      <td>2702.2</td>\n",
              "      <td>2673.7</td>\n",
              "      <td>1586.7</td>\n",
              "    </tr>\n",
              "    <tr>\n",
              "      <th>4</th>\n",
              "      <td>인천광역시</td>\n",
              "      <td>2772.8</td>\n",
              "      <td>2801.3</td>\n",
              "      <td>2835.7</td>\n",
              "    </tr>\n",
              "    <tr>\n",
              "      <th>5</th>\n",
              "      <td>광주광역시</td>\n",
              "      <td>2944.0</td>\n",
              "      <td>2931.9</td>\n",
              "      <td>2908.5</td>\n",
              "    </tr>\n",
              "    <tr>\n",
              "      <th>6</th>\n",
              "      <td>대전광역시</td>\n",
              "      <td>2742.8</td>\n",
              "      <td>2730.7</td>\n",
              "      <td>2724.0</td>\n",
              "    </tr>\n",
              "    <tr>\n",
              "      <th>7</th>\n",
              "      <td>울산광역시</td>\n",
              "      <td>1055.0</td>\n",
              "      <td>1044.9</td>\n",
              "      <td>1042.0</td>\n",
              "    </tr>\n",
              "    <tr>\n",
              "      <th>8</th>\n",
              "      <td>세종특별자치시</td>\n",
              "      <td>787.7</td>\n",
              "      <td>822.9</td>\n",
              "      <td>830.7</td>\n",
              "    </tr>\n",
              "    <tr>\n",
              "      <th>9</th>\n",
              "      <td>경기도</td>\n",
              "      <td>1338.9</td>\n",
              "      <td>1344.9</td>\n",
              "      <td>1354.5</td>\n",
              "    </tr>\n",
              "    <tr>\n",
              "      <th>10</th>\n",
              "      <td>강원특별자치도</td>\n",
              "      <td>90.4</td>\n",
              "      <td>90.8</td>\n",
              "      <td>90.8</td>\n",
              "    </tr>\n",
              "    <tr>\n",
              "      <th>11</th>\n",
              "      <td>충청북도</td>\n",
              "      <td>219.4</td>\n",
              "      <td>219.4</td>\n",
              "      <td>221.6</td>\n",
              "    </tr>\n",
              "    <tr>\n",
              "      <th>12</th>\n",
              "      <td>충청남도</td>\n",
              "      <td>263.8</td>\n",
              "      <td>265.9</td>\n",
              "      <td>268.7</td>\n",
              "    </tr>\n",
              "    <tr>\n",
              "      <th>13</th>\n",
              "      <td>전라북도</td>\n",
              "      <td>221.4</td>\n",
              "      <td>219.8</td>\n",
              "      <td>219.1</td>\n",
              "    </tr>\n",
              "    <tr>\n",
              "      <th>14</th>\n",
              "      <td>전라남도</td>\n",
              "      <td>143.9</td>\n",
              "      <td>143.3</td>\n",
              "      <td>143.7</td>\n",
              "    </tr>\n",
              "    <tr>\n",
              "      <th>15</th>\n",
              "      <td>경상북도</td>\n",
              "      <td>138.4</td>\n",
              "      <td>137.7</td>\n",
              "      <td>140.6</td>\n",
              "    </tr>\n",
              "    <tr>\n",
              "      <th>16</th>\n",
              "      <td>경상남도</td>\n",
              "      <td>313.6</td>\n",
              "      <td>311.2</td>\n",
              "      <td>310.3</td>\n",
              "    </tr>\n",
              "    <tr>\n",
              "      <th>17</th>\n",
              "      <td>제주특별자치도</td>\n",
              "      <td>363.8</td>\n",
              "      <td>365.6</td>\n",
              "      <td>365.8</td>\n",
              "    </tr>\n",
              "  </tbody>\n",
              "</table>\n",
              "</div>\n",
              "    <div class=\"colab-df-buttons\">\n",
              "\n",
              "  <div class=\"colab-df-container\">\n",
              "    <button class=\"colab-df-convert\" onclick=\"convertToInteractive('df-ba9cada7-5014-4f71-b870-1f14881c0c57')\"\n",
              "            title=\"Convert this dataframe to an interactive table.\"\n",
              "            style=\"display:none;\">\n",
              "\n",
              "  <svg xmlns=\"http://www.w3.org/2000/svg\" height=\"24px\" viewBox=\"0 -960 960 960\">\n",
              "    <path d=\"M120-120v-720h720v720H120Zm60-500h600v-160H180v160Zm220 220h160v-160H400v160Zm0 220h160v-160H400v160ZM180-400h160v-160H180v160Zm440 0h160v-160H620v160ZM180-180h160v-160H180v160Zm440 0h160v-160H620v160Z\"/>\n",
              "  </svg>\n",
              "    </button>\n",
              "\n",
              "  <style>\n",
              "    .colab-df-container {\n",
              "      display:flex;\n",
              "      gap: 12px;\n",
              "    }\n",
              "\n",
              "    .colab-df-convert {\n",
              "      background-color: #E8F0FE;\n",
              "      border: none;\n",
              "      border-radius: 50%;\n",
              "      cursor: pointer;\n",
              "      display: none;\n",
              "      fill: #1967D2;\n",
              "      height: 32px;\n",
              "      padding: 0 0 0 0;\n",
              "      width: 32px;\n",
              "    }\n",
              "\n",
              "    .colab-df-convert:hover {\n",
              "      background-color: #E2EBFA;\n",
              "      box-shadow: 0px 1px 2px rgba(60, 64, 67, 0.3), 0px 1px 3px 1px rgba(60, 64, 67, 0.15);\n",
              "      fill: #174EA6;\n",
              "    }\n",
              "\n",
              "    .colab-df-buttons div {\n",
              "      margin-bottom: 4px;\n",
              "    }\n",
              "\n",
              "    [theme=dark] .colab-df-convert {\n",
              "      background-color: #3B4455;\n",
              "      fill: #D2E3FC;\n",
              "    }\n",
              "\n",
              "    [theme=dark] .colab-df-convert:hover {\n",
              "      background-color: #434B5C;\n",
              "      box-shadow: 0px 1px 3px 1px rgba(0, 0, 0, 0.15);\n",
              "      filter: drop-shadow(0px 1px 2px rgba(0, 0, 0, 0.3));\n",
              "      fill: #FFFFFF;\n",
              "    }\n",
              "  </style>\n",
              "\n",
              "    <script>\n",
              "      const buttonEl =\n",
              "        document.querySelector('#df-ba9cada7-5014-4f71-b870-1f14881c0c57 button.colab-df-convert');\n",
              "      buttonEl.style.display =\n",
              "        google.colab.kernel.accessAllowed ? 'block' : 'none';\n",
              "\n",
              "      async function convertToInteractive(key) {\n",
              "        const element = document.querySelector('#df-ba9cada7-5014-4f71-b870-1f14881c0c57');\n",
              "        const dataTable =\n",
              "          await google.colab.kernel.invokeFunction('convertToInteractive',\n",
              "                                                    [key], {});\n",
              "        if (!dataTable) return;\n",
              "\n",
              "        const docLinkHtml = 'Like what you see? Visit the ' +\n",
              "          '<a target=\"_blank\" href=https://colab.research.google.com/notebooks/data_table.ipynb>data table notebook</a>'\n",
              "          + ' to learn more about interactive tables.';\n",
              "        element.innerHTML = '';\n",
              "        dataTable['output_type'] = 'display_data';\n",
              "        await google.colab.output.renderOutput(dataTable, element);\n",
              "        const docLink = document.createElement('div');\n",
              "        docLink.innerHTML = docLinkHtml;\n",
              "        element.appendChild(docLink);\n",
              "      }\n",
              "    </script>\n",
              "  </div>\n",
              "\n",
              "\n",
              "<div id=\"df-11f1c641-450f-4704-803a-1cdffb68407a\">\n",
              "  <button class=\"colab-df-quickchart\" onclick=\"quickchart('df-11f1c641-450f-4704-803a-1cdffb68407a')\"\n",
              "            title=\"Suggest charts\"\n",
              "            style=\"display:none;\">\n",
              "\n",
              "<svg xmlns=\"http://www.w3.org/2000/svg\" height=\"24px\"viewBox=\"0 0 24 24\"\n",
              "     width=\"24px\">\n",
              "    <g>\n",
              "        <path d=\"M19 3H5c-1.1 0-2 .9-2 2v14c0 1.1.9 2 2 2h14c1.1 0 2-.9 2-2V5c0-1.1-.9-2-2-2zM9 17H7v-7h2v7zm4 0h-2V7h2v10zm4 0h-2v-4h2v4z\"/>\n",
              "    </g>\n",
              "</svg>\n",
              "  </button>\n",
              "\n",
              "<style>\n",
              "  .colab-df-quickchart {\n",
              "      --bg-color: #E8F0FE;\n",
              "      --fill-color: #1967D2;\n",
              "      --hover-bg-color: #E2EBFA;\n",
              "      --hover-fill-color: #174EA6;\n",
              "      --disabled-fill-color: #AAA;\n",
              "      --disabled-bg-color: #DDD;\n",
              "  }\n",
              "\n",
              "  [theme=dark] .colab-df-quickchart {\n",
              "      --bg-color: #3B4455;\n",
              "      --fill-color: #D2E3FC;\n",
              "      --hover-bg-color: #434B5C;\n",
              "      --hover-fill-color: #FFFFFF;\n",
              "      --disabled-bg-color: #3B4455;\n",
              "      --disabled-fill-color: #666;\n",
              "  }\n",
              "\n",
              "  .colab-df-quickchart {\n",
              "    background-color: var(--bg-color);\n",
              "    border: none;\n",
              "    border-radius: 50%;\n",
              "    cursor: pointer;\n",
              "    display: none;\n",
              "    fill: var(--fill-color);\n",
              "    height: 32px;\n",
              "    padding: 0;\n",
              "    width: 32px;\n",
              "  }\n",
              "\n",
              "  .colab-df-quickchart:hover {\n",
              "    background-color: var(--hover-bg-color);\n",
              "    box-shadow: 0 1px 2px rgba(60, 64, 67, 0.3), 0 1px 3px 1px rgba(60, 64, 67, 0.15);\n",
              "    fill: var(--button-hover-fill-color);\n",
              "  }\n",
              "\n",
              "  .colab-df-quickchart-complete:disabled,\n",
              "  .colab-df-quickchart-complete:disabled:hover {\n",
              "    background-color: var(--disabled-bg-color);\n",
              "    fill: var(--disabled-fill-color);\n",
              "    box-shadow: none;\n",
              "  }\n",
              "\n",
              "  .colab-df-spinner {\n",
              "    border: 2px solid var(--fill-color);\n",
              "    border-color: transparent;\n",
              "    border-bottom-color: var(--fill-color);\n",
              "    animation:\n",
              "      spin 1s steps(1) infinite;\n",
              "  }\n",
              "\n",
              "  @keyframes spin {\n",
              "    0% {\n",
              "      border-color: transparent;\n",
              "      border-bottom-color: var(--fill-color);\n",
              "      border-left-color: var(--fill-color);\n",
              "    }\n",
              "    20% {\n",
              "      border-color: transparent;\n",
              "      border-left-color: var(--fill-color);\n",
              "      border-top-color: var(--fill-color);\n",
              "    }\n",
              "    30% {\n",
              "      border-color: transparent;\n",
              "      border-left-color: var(--fill-color);\n",
              "      border-top-color: var(--fill-color);\n",
              "      border-right-color: var(--fill-color);\n",
              "    }\n",
              "    40% {\n",
              "      border-color: transparent;\n",
              "      border-right-color: var(--fill-color);\n",
              "      border-top-color: var(--fill-color);\n",
              "    }\n",
              "    60% {\n",
              "      border-color: transparent;\n",
              "      border-right-color: var(--fill-color);\n",
              "    }\n",
              "    80% {\n",
              "      border-color: transparent;\n",
              "      border-right-color: var(--fill-color);\n",
              "      border-bottom-color: var(--fill-color);\n",
              "    }\n",
              "    90% {\n",
              "      border-color: transparent;\n",
              "      border-bottom-color: var(--fill-color);\n",
              "    }\n",
              "  }\n",
              "</style>\n",
              "\n",
              "  <script>\n",
              "    async function quickchart(key) {\n",
              "      const quickchartButtonEl =\n",
              "        document.querySelector('#' + key + ' button');\n",
              "      quickchartButtonEl.disabled = true;  // To prevent multiple clicks.\n",
              "      quickchartButtonEl.classList.add('colab-df-spinner');\n",
              "      try {\n",
              "        const charts = await google.colab.kernel.invokeFunction(\n",
              "            'suggestCharts', [key], {});\n",
              "      } catch (error) {\n",
              "        console.error('Error during call to suggestCharts:', error);\n",
              "      }\n",
              "      quickchartButtonEl.classList.remove('colab-df-spinner');\n",
              "      quickchartButtonEl.classList.add('colab-df-quickchart-complete');\n",
              "    }\n",
              "    (() => {\n",
              "      let quickchartButtonEl =\n",
              "        document.querySelector('#df-11f1c641-450f-4704-803a-1cdffb68407a button');\n",
              "      quickchartButtonEl.style.display =\n",
              "        google.colab.kernel.accessAllowed ? 'block' : 'none';\n",
              "    })();\n",
              "  </script>\n",
              "</div>\n",
              "\n",
              "  <div id=\"id_72264f3a-4f62-4049-bdf2-ce3400261d92\">\n",
              "    <style>\n",
              "      .colab-df-generate {\n",
              "        background-color: #E8F0FE;\n",
              "        border: none;\n",
              "        border-radius: 50%;\n",
              "        cursor: pointer;\n",
              "        display: none;\n",
              "        fill: #1967D2;\n",
              "        height: 32px;\n",
              "        padding: 0 0 0 0;\n",
              "        width: 32px;\n",
              "      }\n",
              "\n",
              "      .colab-df-generate:hover {\n",
              "        background-color: #E2EBFA;\n",
              "        box-shadow: 0px 1px 2px rgba(60, 64, 67, 0.3), 0px 1px 3px 1px rgba(60, 64, 67, 0.15);\n",
              "        fill: #174EA6;\n",
              "      }\n",
              "\n",
              "      [theme=dark] .colab-df-generate {\n",
              "        background-color: #3B4455;\n",
              "        fill: #D2E3FC;\n",
              "      }\n",
              "\n",
              "      [theme=dark] .colab-df-generate:hover {\n",
              "        background-color: #434B5C;\n",
              "        box-shadow: 0px 1px 3px 1px rgba(0, 0, 0, 0.15);\n",
              "        filter: drop-shadow(0px 1px 2px rgba(0, 0, 0, 0.3));\n",
              "        fill: #FFFFFF;\n",
              "      }\n",
              "    </style>\n",
              "    <button class=\"colab-df-generate\" onclick=\"generateWithVariable('df')\"\n",
              "            title=\"Generate code using this dataframe.\"\n",
              "            style=\"display:none;\">\n",
              "\n",
              "  <svg xmlns=\"http://www.w3.org/2000/svg\" height=\"24px\"viewBox=\"0 0 24 24\"\n",
              "       width=\"24px\">\n",
              "    <path d=\"M7,19H8.4L18.45,9,17,7.55,7,17.6ZM5,21V16.75L18.45,3.32a2,2,0,0,1,2.83,0l1.4,1.43a1.91,1.91,0,0,1,.58,1.4,1.91,1.91,0,0,1-.58,1.4L9.25,21ZM18.45,9,17,7.55Zm-12,3A5.31,5.31,0,0,0,4.9,8.1,5.31,5.31,0,0,0,1,6.5,5.31,5.31,0,0,0,4.9,4.9,5.31,5.31,0,0,0,6.5,1,5.31,5.31,0,0,0,8.1,4.9,5.31,5.31,0,0,0,12,6.5,5.46,5.46,0,0,0,6.5,12Z\"/>\n",
              "  </svg>\n",
              "    </button>\n",
              "    <script>\n",
              "      (() => {\n",
              "      const buttonEl =\n",
              "        document.querySelector('#id_72264f3a-4f62-4049-bdf2-ce3400261d92 button.colab-df-generate');\n",
              "      buttonEl.style.display =\n",
              "        google.colab.kernel.accessAllowed ? 'block' : 'none';\n",
              "\n",
              "      buttonEl.onclick = () => {\n",
              "        google.colab.notebook.generateWithVariable('df');\n",
              "      }\n",
              "      })();\n",
              "    </script>\n",
              "  </div>\n",
              "\n",
              "    </div>\n",
              "  </div>\n"
            ],
            "application/vnd.google.colaboratory.intrinsic+json": {
              "type": "dataframe",
              "variable_name": "df",
              "summary": "{\n  \"name\": \"df\",\n  \"rows\": 18,\n  \"fields\": [\n    {\n      \"column\": \"\\ud589\\uc815\\uad6c\\uc5ed\\ubcc4\",\n      \"properties\": {\n        \"dtype\": \"string\",\n        \"num_unique_values\": 18,\n        \"samples\": [\n          \"\\uc804\\uad6d\",\n          \"\\uc11c\\uc6b8\\ud2b9\\ubcc4\\uc2dc\",\n          \"\\uc138\\uc885\\ud2b9\\ubcc4\\uc790\\uce58\\uc2dc\"\n        ],\n        \"semantic_type\": \"\",\n        \"description\": \"\"\n      }\n    },\n    {\n      \"column\": \"2021\",\n      \"properties\": {\n        \"dtype\": \"number\",\n        \"std\": 3635.094546207744,\n        \"min\": 90.4,\n        \"max\": 15650.1,\n        \"num_unique_values\": 18,\n        \"samples\": [\n          515.2,\n          15650.1,\n          787.7\n        ],\n        \"semantic_type\": \"\",\n        \"description\": \"\"\n      }\n    },\n    {\n      \"column\": \"2022\",\n      \"properties\": {\n        \"dtype\": \"number\",\n        \"std\": 3612.9596225825403,\n        \"min\": 90.8,\n        \"max\": 15560.7,\n        \"num_unique_values\": 18,\n        \"samples\": [\n          514.6,\n          15560.7,\n          822.9\n        ],\n        \"semantic_type\": \"\",\n        \"description\": \"\"\n      }\n    },\n    {\n      \"column\": \"2023\",\n      \"properties\": {\n        \"dtype\": \"number\",\n        \"std\": 3597.3728482300808,\n        \"min\": 90.8,\n        \"max\": 15506.4,\n        \"num_unique_values\": 18,\n        \"samples\": [\n          515.4,\n          15506.4,\n          830.7\n        ],\n        \"semantic_type\": \"\",\n        \"description\": \"\"\n      }\n    }\n  ]\n}"
            }
          },
          "metadata": {},
          "execution_count": 33
        }
      ],
      "source": [
        "# EXCEL 파일 읽어오기\n",
        "import pandas as pd\n",
        "\n",
        "# 전체 시트 가져오기\n",
        "#df = pd.read_excel('./인구밀도_인구주택총조사기준.xlsx', sheet_name=None)  # 전체시트\n",
        "# 특정 시트 가져오기\n",
        "df = pd.read_excel('./인구밀도_인구주택총조사기준.xlsx', sheet_name=\"데이터\")\n",
        "\n",
        "df         # 시트가 여러개 일 경우 딕셔너리 형태로 나타난다.\n",
        "#df = df['데이터'] # 특정 시트를 지정할 경우 DataFrame 구조로 나타낸다."
      ]
    },
    {
      "cell_type": "code",
      "source": [
        "df.info()"
      ],
      "metadata": {
        "colab": {
          "base_uri": "https://localhost:8080/"
        },
        "id": "t5Mjdw1F0RDN",
        "outputId": "145d4f12-1504-4d29-f34f-1000d879531c"
      },
      "execution_count": 34,
      "outputs": [
        {
          "output_type": "stream",
          "name": "stdout",
          "text": [
            "<class 'pandas.core.frame.DataFrame'>\n",
            "RangeIndex: 18 entries, 0 to 17\n",
            "Data columns (total 4 columns):\n",
            " #   Column  Non-Null Count  Dtype  \n",
            "---  ------  --------------  -----  \n",
            " 0   행정구역별   18 non-null     object \n",
            " 1   2021    18 non-null     float64\n",
            " 2   2022    18 non-null     float64\n",
            " 3   2023    18 non-null     float64\n",
            "dtypes: float64(3), object(1)\n",
            "memory usage: 704.0+ bytes\n"
          ]
        }
      ]
    },
    {
      "cell_type": "code",
      "source": [
        "df.describe()"
      ],
      "metadata": {
        "colab": {
          "base_uri": "https://localhost:8080/",
          "height": 300
        },
        "id": "wzJdUCOn0rv0",
        "outputId": "046faa43-bbef-447d-eb14-60c476c10b7b"
      },
      "execution_count": 35,
      "outputs": [
        {
          "output_type": "execute_result",
          "data": {
            "text/plain": [
              "               2021          2022          2023\n",
              "count     18.000000     18.000000     18.000000\n",
              "mean    2032.211111   2025.116667   1962.027778\n",
              "std     3635.094546   3612.959623   3597.372848\n",
              "min       90.400000     90.800000     90.800000\n",
              "25%      232.000000    231.325000    233.375000\n",
              "50%      651.450000    668.750000    673.050000\n",
              "75%     2732.650000   2716.450000   2439.675000\n",
              "max    15650.100000  15560.700000  15506.400000"
            ],
            "text/html": [
              "\n",
              "  <div id=\"df-a2c22f7e-cada-4990-997a-d9b94a1aedd8\" class=\"colab-df-container\">\n",
              "    <div>\n",
              "<style scoped>\n",
              "    .dataframe tbody tr th:only-of-type {\n",
              "        vertical-align: middle;\n",
              "    }\n",
              "\n",
              "    .dataframe tbody tr th {\n",
              "        vertical-align: top;\n",
              "    }\n",
              "\n",
              "    .dataframe thead th {\n",
              "        text-align: right;\n",
              "    }\n",
              "</style>\n",
              "<table border=\"1\" class=\"dataframe\">\n",
              "  <thead>\n",
              "    <tr style=\"text-align: right;\">\n",
              "      <th></th>\n",
              "      <th>2021</th>\n",
              "      <th>2022</th>\n",
              "      <th>2023</th>\n",
              "    </tr>\n",
              "  </thead>\n",
              "  <tbody>\n",
              "    <tr>\n",
              "      <th>count</th>\n",
              "      <td>18.000000</td>\n",
              "      <td>18.000000</td>\n",
              "      <td>18.000000</td>\n",
              "    </tr>\n",
              "    <tr>\n",
              "      <th>mean</th>\n",
              "      <td>2032.211111</td>\n",
              "      <td>2025.116667</td>\n",
              "      <td>1962.027778</td>\n",
              "    </tr>\n",
              "    <tr>\n",
              "      <th>std</th>\n",
              "      <td>3635.094546</td>\n",
              "      <td>3612.959623</td>\n",
              "      <td>3597.372848</td>\n",
              "    </tr>\n",
              "    <tr>\n",
              "      <th>min</th>\n",
              "      <td>90.400000</td>\n",
              "      <td>90.800000</td>\n",
              "      <td>90.800000</td>\n",
              "    </tr>\n",
              "    <tr>\n",
              "      <th>25%</th>\n",
              "      <td>232.000000</td>\n",
              "      <td>231.325000</td>\n",
              "      <td>233.375000</td>\n",
              "    </tr>\n",
              "    <tr>\n",
              "      <th>50%</th>\n",
              "      <td>651.450000</td>\n",
              "      <td>668.750000</td>\n",
              "      <td>673.050000</td>\n",
              "    </tr>\n",
              "    <tr>\n",
              "      <th>75%</th>\n",
              "      <td>2732.650000</td>\n",
              "      <td>2716.450000</td>\n",
              "      <td>2439.675000</td>\n",
              "    </tr>\n",
              "    <tr>\n",
              "      <th>max</th>\n",
              "      <td>15650.100000</td>\n",
              "      <td>15560.700000</td>\n",
              "      <td>15506.400000</td>\n",
              "    </tr>\n",
              "  </tbody>\n",
              "</table>\n",
              "</div>\n",
              "    <div class=\"colab-df-buttons\">\n",
              "\n",
              "  <div class=\"colab-df-container\">\n",
              "    <button class=\"colab-df-convert\" onclick=\"convertToInteractive('df-a2c22f7e-cada-4990-997a-d9b94a1aedd8')\"\n",
              "            title=\"Convert this dataframe to an interactive table.\"\n",
              "            style=\"display:none;\">\n",
              "\n",
              "  <svg xmlns=\"http://www.w3.org/2000/svg\" height=\"24px\" viewBox=\"0 -960 960 960\">\n",
              "    <path d=\"M120-120v-720h720v720H120Zm60-500h600v-160H180v160Zm220 220h160v-160H400v160Zm0 220h160v-160H400v160ZM180-400h160v-160H180v160Zm440 0h160v-160H620v160ZM180-180h160v-160H180v160Zm440 0h160v-160H620v160Z\"/>\n",
              "  </svg>\n",
              "    </button>\n",
              "\n",
              "  <style>\n",
              "    .colab-df-container {\n",
              "      display:flex;\n",
              "      gap: 12px;\n",
              "    }\n",
              "\n",
              "    .colab-df-convert {\n",
              "      background-color: #E8F0FE;\n",
              "      border: none;\n",
              "      border-radius: 50%;\n",
              "      cursor: pointer;\n",
              "      display: none;\n",
              "      fill: #1967D2;\n",
              "      height: 32px;\n",
              "      padding: 0 0 0 0;\n",
              "      width: 32px;\n",
              "    }\n",
              "\n",
              "    .colab-df-convert:hover {\n",
              "      background-color: #E2EBFA;\n",
              "      box-shadow: 0px 1px 2px rgba(60, 64, 67, 0.3), 0px 1px 3px 1px rgba(60, 64, 67, 0.15);\n",
              "      fill: #174EA6;\n",
              "    }\n",
              "\n",
              "    .colab-df-buttons div {\n",
              "      margin-bottom: 4px;\n",
              "    }\n",
              "\n",
              "    [theme=dark] .colab-df-convert {\n",
              "      background-color: #3B4455;\n",
              "      fill: #D2E3FC;\n",
              "    }\n",
              "\n",
              "    [theme=dark] .colab-df-convert:hover {\n",
              "      background-color: #434B5C;\n",
              "      box-shadow: 0px 1px 3px 1px rgba(0, 0, 0, 0.15);\n",
              "      filter: drop-shadow(0px 1px 2px rgba(0, 0, 0, 0.3));\n",
              "      fill: #FFFFFF;\n",
              "    }\n",
              "  </style>\n",
              "\n",
              "    <script>\n",
              "      const buttonEl =\n",
              "        document.querySelector('#df-a2c22f7e-cada-4990-997a-d9b94a1aedd8 button.colab-df-convert');\n",
              "      buttonEl.style.display =\n",
              "        google.colab.kernel.accessAllowed ? 'block' : 'none';\n",
              "\n",
              "      async function convertToInteractive(key) {\n",
              "        const element = document.querySelector('#df-a2c22f7e-cada-4990-997a-d9b94a1aedd8');\n",
              "        const dataTable =\n",
              "          await google.colab.kernel.invokeFunction('convertToInteractive',\n",
              "                                                    [key], {});\n",
              "        if (!dataTable) return;\n",
              "\n",
              "        const docLinkHtml = 'Like what you see? Visit the ' +\n",
              "          '<a target=\"_blank\" href=https://colab.research.google.com/notebooks/data_table.ipynb>data table notebook</a>'\n",
              "          + ' to learn more about interactive tables.';\n",
              "        element.innerHTML = '';\n",
              "        dataTable['output_type'] = 'display_data';\n",
              "        await google.colab.output.renderOutput(dataTable, element);\n",
              "        const docLink = document.createElement('div');\n",
              "        docLink.innerHTML = docLinkHtml;\n",
              "        element.appendChild(docLink);\n",
              "      }\n",
              "    </script>\n",
              "  </div>\n",
              "\n",
              "\n",
              "<div id=\"df-f03ed621-be75-4eb0-b0c2-2b68432365be\">\n",
              "  <button class=\"colab-df-quickchart\" onclick=\"quickchart('df-f03ed621-be75-4eb0-b0c2-2b68432365be')\"\n",
              "            title=\"Suggest charts\"\n",
              "            style=\"display:none;\">\n",
              "\n",
              "<svg xmlns=\"http://www.w3.org/2000/svg\" height=\"24px\"viewBox=\"0 0 24 24\"\n",
              "     width=\"24px\">\n",
              "    <g>\n",
              "        <path d=\"M19 3H5c-1.1 0-2 .9-2 2v14c0 1.1.9 2 2 2h14c1.1 0 2-.9 2-2V5c0-1.1-.9-2-2-2zM9 17H7v-7h2v7zm4 0h-2V7h2v10zm4 0h-2v-4h2v4z\"/>\n",
              "    </g>\n",
              "</svg>\n",
              "  </button>\n",
              "\n",
              "<style>\n",
              "  .colab-df-quickchart {\n",
              "      --bg-color: #E8F0FE;\n",
              "      --fill-color: #1967D2;\n",
              "      --hover-bg-color: #E2EBFA;\n",
              "      --hover-fill-color: #174EA6;\n",
              "      --disabled-fill-color: #AAA;\n",
              "      --disabled-bg-color: #DDD;\n",
              "  }\n",
              "\n",
              "  [theme=dark] .colab-df-quickchart {\n",
              "      --bg-color: #3B4455;\n",
              "      --fill-color: #D2E3FC;\n",
              "      --hover-bg-color: #434B5C;\n",
              "      --hover-fill-color: #FFFFFF;\n",
              "      --disabled-bg-color: #3B4455;\n",
              "      --disabled-fill-color: #666;\n",
              "  }\n",
              "\n",
              "  .colab-df-quickchart {\n",
              "    background-color: var(--bg-color);\n",
              "    border: none;\n",
              "    border-radius: 50%;\n",
              "    cursor: pointer;\n",
              "    display: none;\n",
              "    fill: var(--fill-color);\n",
              "    height: 32px;\n",
              "    padding: 0;\n",
              "    width: 32px;\n",
              "  }\n",
              "\n",
              "  .colab-df-quickchart:hover {\n",
              "    background-color: var(--hover-bg-color);\n",
              "    box-shadow: 0 1px 2px rgba(60, 64, 67, 0.3), 0 1px 3px 1px rgba(60, 64, 67, 0.15);\n",
              "    fill: var(--button-hover-fill-color);\n",
              "  }\n",
              "\n",
              "  .colab-df-quickchart-complete:disabled,\n",
              "  .colab-df-quickchart-complete:disabled:hover {\n",
              "    background-color: var(--disabled-bg-color);\n",
              "    fill: var(--disabled-fill-color);\n",
              "    box-shadow: none;\n",
              "  }\n",
              "\n",
              "  .colab-df-spinner {\n",
              "    border: 2px solid var(--fill-color);\n",
              "    border-color: transparent;\n",
              "    border-bottom-color: var(--fill-color);\n",
              "    animation:\n",
              "      spin 1s steps(1) infinite;\n",
              "  }\n",
              "\n",
              "  @keyframes spin {\n",
              "    0% {\n",
              "      border-color: transparent;\n",
              "      border-bottom-color: var(--fill-color);\n",
              "      border-left-color: var(--fill-color);\n",
              "    }\n",
              "    20% {\n",
              "      border-color: transparent;\n",
              "      border-left-color: var(--fill-color);\n",
              "      border-top-color: var(--fill-color);\n",
              "    }\n",
              "    30% {\n",
              "      border-color: transparent;\n",
              "      border-left-color: var(--fill-color);\n",
              "      border-top-color: var(--fill-color);\n",
              "      border-right-color: var(--fill-color);\n",
              "    }\n",
              "    40% {\n",
              "      border-color: transparent;\n",
              "      border-right-color: var(--fill-color);\n",
              "      border-top-color: var(--fill-color);\n",
              "    }\n",
              "    60% {\n",
              "      border-color: transparent;\n",
              "      border-right-color: var(--fill-color);\n",
              "    }\n",
              "    80% {\n",
              "      border-color: transparent;\n",
              "      border-right-color: var(--fill-color);\n",
              "      border-bottom-color: var(--fill-color);\n",
              "    }\n",
              "    90% {\n",
              "      border-color: transparent;\n",
              "      border-bottom-color: var(--fill-color);\n",
              "    }\n",
              "  }\n",
              "</style>\n",
              "\n",
              "  <script>\n",
              "    async function quickchart(key) {\n",
              "      const quickchartButtonEl =\n",
              "        document.querySelector('#' + key + ' button');\n",
              "      quickchartButtonEl.disabled = true;  // To prevent multiple clicks.\n",
              "      quickchartButtonEl.classList.add('colab-df-spinner');\n",
              "      try {\n",
              "        const charts = await google.colab.kernel.invokeFunction(\n",
              "            'suggestCharts', [key], {});\n",
              "      } catch (error) {\n",
              "        console.error('Error during call to suggestCharts:', error);\n",
              "      }\n",
              "      quickchartButtonEl.classList.remove('colab-df-spinner');\n",
              "      quickchartButtonEl.classList.add('colab-df-quickchart-complete');\n",
              "    }\n",
              "    (() => {\n",
              "      let quickchartButtonEl =\n",
              "        document.querySelector('#df-f03ed621-be75-4eb0-b0c2-2b68432365be button');\n",
              "      quickchartButtonEl.style.display =\n",
              "        google.colab.kernel.accessAllowed ? 'block' : 'none';\n",
              "    })();\n",
              "  </script>\n",
              "</div>\n",
              "\n",
              "    </div>\n",
              "  </div>\n"
            ],
            "application/vnd.google.colaboratory.intrinsic+json": {
              "type": "dataframe",
              "summary": "{\n  \"name\": \"df\",\n  \"rows\": 8,\n  \"fields\": [\n    {\n      \"column\": \"2021\",\n      \"properties\": {\n        \"dtype\": \"number\",\n        \"std\": 5234.997309130643,\n        \"min\": 18.0,\n        \"max\": 15650.1,\n        \"num_unique_values\": 8,\n        \"samples\": [\n          2032.2111111111112,\n          651.45,\n          18.0\n        ],\n        \"semantic_type\": \"\",\n        \"description\": \"\"\n      }\n    },\n    {\n      \"column\": \"2022\",\n      \"properties\": {\n        \"dtype\": \"number\",\n        \"std\": 5203.3919316984775,\n        \"min\": 18.0,\n        \"max\": 15560.7,\n        \"num_unique_values\": 8,\n        \"samples\": [\n          2025.1166666666666,\n          668.75,\n          18.0\n        ],\n        \"semantic_type\": \"\",\n        \"description\": \"\"\n      }\n    },\n    {\n      \"column\": \"2023\",\n      \"properties\": {\n        \"dtype\": \"number\",\n        \"std\": 5189.9495374634125,\n        \"min\": 18.0,\n        \"max\": 15506.4,\n        \"num_unique_values\": 8,\n        \"samples\": [\n          1962.0277777777778,\n          673.05,\n          18.0\n        ],\n        \"semantic_type\": \"\",\n        \"description\": \"\"\n      }\n    }\n  ]\n}"
            }
          },
          "metadata": {},
          "execution_count": 35
        }
      ]
    },
    {
      "cell_type": "code",
      "source": [
        "df.corr(numeric_only = True)"
      ],
      "metadata": {
        "colab": {
          "base_uri": "https://localhost:8080/",
          "height": 143
        },
        "id": "5sZRzyDw194f",
        "outputId": "dba29313-f53a-4fe9-d5a4-2536c466df13"
      },
      "execution_count": 37,
      "outputs": [
        {
          "output_type": "execute_result",
          "data": {
            "text/plain": [
              "          2021      2022      2023\n",
              "2021  1.000000  0.999991  0.997382\n",
              "2022  0.999991  1.000000  0.997486\n",
              "2023  0.997382  0.997486  1.000000"
            ],
            "text/html": [
              "\n",
              "  <div id=\"df-e04053da-12e1-413e-a0da-56cbca06d452\" class=\"colab-df-container\">\n",
              "    <div>\n",
              "<style scoped>\n",
              "    .dataframe tbody tr th:only-of-type {\n",
              "        vertical-align: middle;\n",
              "    }\n",
              "\n",
              "    .dataframe tbody tr th {\n",
              "        vertical-align: top;\n",
              "    }\n",
              "\n",
              "    .dataframe thead th {\n",
              "        text-align: right;\n",
              "    }\n",
              "</style>\n",
              "<table border=\"1\" class=\"dataframe\">\n",
              "  <thead>\n",
              "    <tr style=\"text-align: right;\">\n",
              "      <th></th>\n",
              "      <th>2021</th>\n",
              "      <th>2022</th>\n",
              "      <th>2023</th>\n",
              "    </tr>\n",
              "  </thead>\n",
              "  <tbody>\n",
              "    <tr>\n",
              "      <th>2021</th>\n",
              "      <td>1.000000</td>\n",
              "      <td>0.999991</td>\n",
              "      <td>0.997382</td>\n",
              "    </tr>\n",
              "    <tr>\n",
              "      <th>2022</th>\n",
              "      <td>0.999991</td>\n",
              "      <td>1.000000</td>\n",
              "      <td>0.997486</td>\n",
              "    </tr>\n",
              "    <tr>\n",
              "      <th>2023</th>\n",
              "      <td>0.997382</td>\n",
              "      <td>0.997486</td>\n",
              "      <td>1.000000</td>\n",
              "    </tr>\n",
              "  </tbody>\n",
              "</table>\n",
              "</div>\n",
              "    <div class=\"colab-df-buttons\">\n",
              "\n",
              "  <div class=\"colab-df-container\">\n",
              "    <button class=\"colab-df-convert\" onclick=\"convertToInteractive('df-e04053da-12e1-413e-a0da-56cbca06d452')\"\n",
              "            title=\"Convert this dataframe to an interactive table.\"\n",
              "            style=\"display:none;\">\n",
              "\n",
              "  <svg xmlns=\"http://www.w3.org/2000/svg\" height=\"24px\" viewBox=\"0 -960 960 960\">\n",
              "    <path d=\"M120-120v-720h720v720H120Zm60-500h600v-160H180v160Zm220 220h160v-160H400v160Zm0 220h160v-160H400v160ZM180-400h160v-160H180v160Zm440 0h160v-160H620v160ZM180-180h160v-160H180v160Zm440 0h160v-160H620v160Z\"/>\n",
              "  </svg>\n",
              "    </button>\n",
              "\n",
              "  <style>\n",
              "    .colab-df-container {\n",
              "      display:flex;\n",
              "      gap: 12px;\n",
              "    }\n",
              "\n",
              "    .colab-df-convert {\n",
              "      background-color: #E8F0FE;\n",
              "      border: none;\n",
              "      border-radius: 50%;\n",
              "      cursor: pointer;\n",
              "      display: none;\n",
              "      fill: #1967D2;\n",
              "      height: 32px;\n",
              "      padding: 0 0 0 0;\n",
              "      width: 32px;\n",
              "    }\n",
              "\n",
              "    .colab-df-convert:hover {\n",
              "      background-color: #E2EBFA;\n",
              "      box-shadow: 0px 1px 2px rgba(60, 64, 67, 0.3), 0px 1px 3px 1px rgba(60, 64, 67, 0.15);\n",
              "      fill: #174EA6;\n",
              "    }\n",
              "\n",
              "    .colab-df-buttons div {\n",
              "      margin-bottom: 4px;\n",
              "    }\n",
              "\n",
              "    [theme=dark] .colab-df-convert {\n",
              "      background-color: #3B4455;\n",
              "      fill: #D2E3FC;\n",
              "    }\n",
              "\n",
              "    [theme=dark] .colab-df-convert:hover {\n",
              "      background-color: #434B5C;\n",
              "      box-shadow: 0px 1px 3px 1px rgba(0, 0, 0, 0.15);\n",
              "      filter: drop-shadow(0px 1px 2px rgba(0, 0, 0, 0.3));\n",
              "      fill: #FFFFFF;\n",
              "    }\n",
              "  </style>\n",
              "\n",
              "    <script>\n",
              "      const buttonEl =\n",
              "        document.querySelector('#df-e04053da-12e1-413e-a0da-56cbca06d452 button.colab-df-convert');\n",
              "      buttonEl.style.display =\n",
              "        google.colab.kernel.accessAllowed ? 'block' : 'none';\n",
              "\n",
              "      async function convertToInteractive(key) {\n",
              "        const element = document.querySelector('#df-e04053da-12e1-413e-a0da-56cbca06d452');\n",
              "        const dataTable =\n",
              "          await google.colab.kernel.invokeFunction('convertToInteractive',\n",
              "                                                    [key], {});\n",
              "        if (!dataTable) return;\n",
              "\n",
              "        const docLinkHtml = 'Like what you see? Visit the ' +\n",
              "          '<a target=\"_blank\" href=https://colab.research.google.com/notebooks/data_table.ipynb>data table notebook</a>'\n",
              "          + ' to learn more about interactive tables.';\n",
              "        element.innerHTML = '';\n",
              "        dataTable['output_type'] = 'display_data';\n",
              "        await google.colab.output.renderOutput(dataTable, element);\n",
              "        const docLink = document.createElement('div');\n",
              "        docLink.innerHTML = docLinkHtml;\n",
              "        element.appendChild(docLink);\n",
              "      }\n",
              "    </script>\n",
              "  </div>\n",
              "\n",
              "\n",
              "<div id=\"df-e820b1d0-2607-4e50-8a36-8d1a759eb1d1\">\n",
              "  <button class=\"colab-df-quickchart\" onclick=\"quickchart('df-e820b1d0-2607-4e50-8a36-8d1a759eb1d1')\"\n",
              "            title=\"Suggest charts\"\n",
              "            style=\"display:none;\">\n",
              "\n",
              "<svg xmlns=\"http://www.w3.org/2000/svg\" height=\"24px\"viewBox=\"0 0 24 24\"\n",
              "     width=\"24px\">\n",
              "    <g>\n",
              "        <path d=\"M19 3H5c-1.1 0-2 .9-2 2v14c0 1.1.9 2 2 2h14c1.1 0 2-.9 2-2V5c0-1.1-.9-2-2-2zM9 17H7v-7h2v7zm4 0h-2V7h2v10zm4 0h-2v-4h2v4z\"/>\n",
              "    </g>\n",
              "</svg>\n",
              "  </button>\n",
              "\n",
              "<style>\n",
              "  .colab-df-quickchart {\n",
              "      --bg-color: #E8F0FE;\n",
              "      --fill-color: #1967D2;\n",
              "      --hover-bg-color: #E2EBFA;\n",
              "      --hover-fill-color: #174EA6;\n",
              "      --disabled-fill-color: #AAA;\n",
              "      --disabled-bg-color: #DDD;\n",
              "  }\n",
              "\n",
              "  [theme=dark] .colab-df-quickchart {\n",
              "      --bg-color: #3B4455;\n",
              "      --fill-color: #D2E3FC;\n",
              "      --hover-bg-color: #434B5C;\n",
              "      --hover-fill-color: #FFFFFF;\n",
              "      --disabled-bg-color: #3B4455;\n",
              "      --disabled-fill-color: #666;\n",
              "  }\n",
              "\n",
              "  .colab-df-quickchart {\n",
              "    background-color: var(--bg-color);\n",
              "    border: none;\n",
              "    border-radius: 50%;\n",
              "    cursor: pointer;\n",
              "    display: none;\n",
              "    fill: var(--fill-color);\n",
              "    height: 32px;\n",
              "    padding: 0;\n",
              "    width: 32px;\n",
              "  }\n",
              "\n",
              "  .colab-df-quickchart:hover {\n",
              "    background-color: var(--hover-bg-color);\n",
              "    box-shadow: 0 1px 2px rgba(60, 64, 67, 0.3), 0 1px 3px 1px rgba(60, 64, 67, 0.15);\n",
              "    fill: var(--button-hover-fill-color);\n",
              "  }\n",
              "\n",
              "  .colab-df-quickchart-complete:disabled,\n",
              "  .colab-df-quickchart-complete:disabled:hover {\n",
              "    background-color: var(--disabled-bg-color);\n",
              "    fill: var(--disabled-fill-color);\n",
              "    box-shadow: none;\n",
              "  }\n",
              "\n",
              "  .colab-df-spinner {\n",
              "    border: 2px solid var(--fill-color);\n",
              "    border-color: transparent;\n",
              "    border-bottom-color: var(--fill-color);\n",
              "    animation:\n",
              "      spin 1s steps(1) infinite;\n",
              "  }\n",
              "\n",
              "  @keyframes spin {\n",
              "    0% {\n",
              "      border-color: transparent;\n",
              "      border-bottom-color: var(--fill-color);\n",
              "      border-left-color: var(--fill-color);\n",
              "    }\n",
              "    20% {\n",
              "      border-color: transparent;\n",
              "      border-left-color: var(--fill-color);\n",
              "      border-top-color: var(--fill-color);\n",
              "    }\n",
              "    30% {\n",
              "      border-color: transparent;\n",
              "      border-left-color: var(--fill-color);\n",
              "      border-top-color: var(--fill-color);\n",
              "      border-right-color: var(--fill-color);\n",
              "    }\n",
              "    40% {\n",
              "      border-color: transparent;\n",
              "      border-right-color: var(--fill-color);\n",
              "      border-top-color: var(--fill-color);\n",
              "    }\n",
              "    60% {\n",
              "      border-color: transparent;\n",
              "      border-right-color: var(--fill-color);\n",
              "    }\n",
              "    80% {\n",
              "      border-color: transparent;\n",
              "      border-right-color: var(--fill-color);\n",
              "      border-bottom-color: var(--fill-color);\n",
              "    }\n",
              "    90% {\n",
              "      border-color: transparent;\n",
              "      border-bottom-color: var(--fill-color);\n",
              "    }\n",
              "  }\n",
              "</style>\n",
              "\n",
              "  <script>\n",
              "    async function quickchart(key) {\n",
              "      const quickchartButtonEl =\n",
              "        document.querySelector('#' + key + ' button');\n",
              "      quickchartButtonEl.disabled = true;  // To prevent multiple clicks.\n",
              "      quickchartButtonEl.classList.add('colab-df-spinner');\n",
              "      try {\n",
              "        const charts = await google.colab.kernel.invokeFunction(\n",
              "            'suggestCharts', [key], {});\n",
              "      } catch (error) {\n",
              "        console.error('Error during call to suggestCharts:', error);\n",
              "      }\n",
              "      quickchartButtonEl.classList.remove('colab-df-spinner');\n",
              "      quickchartButtonEl.classList.add('colab-df-quickchart-complete');\n",
              "    }\n",
              "    (() => {\n",
              "      let quickchartButtonEl =\n",
              "        document.querySelector('#df-e820b1d0-2607-4e50-8a36-8d1a759eb1d1 button');\n",
              "      quickchartButtonEl.style.display =\n",
              "        google.colab.kernel.accessAllowed ? 'block' : 'none';\n",
              "    })();\n",
              "  </script>\n",
              "</div>\n",
              "\n",
              "    </div>\n",
              "  </div>\n"
            ],
            "application/vnd.google.colaboratory.intrinsic+json": {
              "type": "dataframe",
              "summary": "{\n  \"name\": \"df\",\n  \"rows\": 3,\n  \"fields\": [\n    {\n      \"column\": \"2021\",\n      \"properties\": {\n        \"dtype\": \"number\",\n        \"std\": 0.001509175910871297,\n        \"min\": 0.9973815968484792,\n        \"max\": 1.0,\n        \"num_unique_values\": 3,\n        \"samples\": [\n          1.0,\n          0.9999911097300206,\n          0.9973815968484792\n        ],\n        \"semantic_type\": \"\",\n        \"description\": \"\"\n      }\n    },\n    {\n      \"column\": \"2022\",\n      \"properties\": {\n        \"dtype\": \"number\",\n        \"std\": 0.0014491488483949755,\n        \"min\": 0.9974855672401925,\n        \"max\": 1.0,\n        \"num_unique_values\": 3,\n        \"samples\": [\n          0.9999911097300206,\n          1.0,\n          0.9974855672401925\n        ],\n        \"semantic_type\": \"\",\n        \"description\": \"\"\n      }\n    },\n    {\n      \"column\": \"2023\",\n      \"properties\": {\n        \"dtype\": \"number\",\n        \"std\": 0.0014826337494382661,\n        \"min\": 0.9973815968484792,\n        \"max\": 1.0,\n        \"num_unique_values\": 3,\n        \"samples\": [\n          0.9973815968484792,\n          0.9974855672401925,\n          1.0\n        ],\n        \"semantic_type\": \"\",\n        \"description\": \"\"\n      }\n    }\n  ]\n}"
            }
          },
          "metadata": {},
          "execution_count": 37
        }
      ]
    },
    {
      "cell_type": "code",
      "source": [
        "df['2022'].head(3).plot()"
      ],
      "metadata": {
        "colab": {
          "base_uri": "https://localhost:8080/",
          "height": 387
        },
        "id": "EnhQrvdOs566",
        "outputId": "632abb1f-6123-40ed-f69a-74fce78c40af"
      },
      "execution_count": 28,
      "outputs": [
        {
          "output_type": "execute_result",
          "data": {
            "text/plain": [
              "<Axes: >"
            ]
          },
          "metadata": {},
          "execution_count": 28
        },
        {
          "output_type": "display_data",
          "data": {
            "text/plain": [
              "<Figure size 600x400 with 1 Axes>"
            ],
            "image/png": "[encoded data removed]"
          },
          "metadata": {}
        }
      ]
    },
    {
      "cell_type": "code",
      "source": [
        "df['2022'].head(3).plot(kind='bar')"
      ],
      "metadata": {
        "colab": {
          "base_uri": "https://localhost:8080/",
          "height": 381
        },
        "id": "5ddOZmsFtM31",
        "outputId": "360578cd-ca8c-4e34-a4a6-7bc9a87e4011"
      },
      "execution_count": 29,
      "outputs": [
        {
          "output_type": "execute_result",
          "data": {
            "text/plain": [
              "<Axes: >"
            ]
          },
          "metadata": {},
          "execution_count": 29
        },
        {
          "output_type": "display_data",
          "data": {
            "text/plain": [
              "<Figure size 600x400 with 1 Axes>"
            ],
            "image/png": "[encoded data removed]"
          },
          "metadata": {}
        }
      ]
    },
    {
      "cell_type": "code",
      "execution_count": 23,
      "metadata": {
        "id": "QDWDR1lOwuer",
        "colab": {
          "base_uri": "https://localhost:8080/",
          "height": 206
        },
        "outputId": "e65cf96a-3f32-47a6-8a47-13f0896a9718"
      },
      "outputs": [
        {
          "output_type": "execute_result",
          "data": {
            "text/plain": [
              "     0    1    2    3            4\n",
              "0  5.1  3.5  1.4  0.2  Iris-setosa\n",
              "1  4.9  3.0  1.4  0.2  Iris-setosa\n",
              "2  4.7  3.2  1.3  0.2  Iris-setosa\n",
              "3  4.6  3.1  1.5  0.2  Iris-setosa\n",
              "4  5.0  3.6  1.4  0.2  Iris-setosa"
            ],
            "text/html": [
              "\n",
              "  <div id=\"df-329cc335-b0e8-4890-834f-404db397e450\" class=\"colab-df-container\">\n",
              "    <div>\n",
              "<style scoped>\n",
              "    .dataframe tbody tr th:only-of-type {\n",
              "        vertical-align: middle;\n",
              "    }\n",
              "\n",
              "    .dataframe tbody tr th {\n",
              "        vertical-align: top;\n",
              "    }\n",
              "\n",
              "    .dataframe thead th {\n",
              "        text-align: right;\n",
              "    }\n",
              "</style>\n",
              "<table border=\"1\" class=\"dataframe\">\n",
              "  <thead>\n",
              "    <tr style=\"text-align: right;\">\n",
              "      <th></th>\n",
              "      <th>0</th>\n",
              "      <th>1</th>\n",
              "      <th>2</th>\n",
              "      <th>3</th>\n",
              "      <th>4</th>\n",
              "    </tr>\n",
              "  </thead>\n",
              "  <tbody>\n",
              "    <tr>\n",
              "      <th>0</th>\n",
              "      <td>5.1</td>\n",
              "      <td>3.5</td>\n",
              "      <td>1.4</td>\n",
              "      <td>0.2</td>\n",
              "      <td>Iris-setosa</td>\n",
              "    </tr>\n",
              "    <tr>\n",
              "      <th>1</th>\n",
              "      <td>4.9</td>\n",
              "      <td>3.0</td>\n",
              "      <td>1.4</td>\n",
              "      <td>0.2</td>\n",
              "      <td>Iris-setosa</td>\n",
              "    </tr>\n",
              "    <tr>\n",
              "      <th>2</th>\n",
              "      <td>4.7</td>\n",
              "      <td>3.2</td>\n",
              "      <td>1.3</td>\n",
              "      <td>0.2</td>\n",
              "      <td>Iris-setosa</td>\n",
              "    </tr>\n",
              "    <tr>\n",
              "      <th>3</th>\n",
              "      <td>4.6</td>\n",
              "      <td>3.1</td>\n",
              "      <td>1.5</td>\n",
              "      <td>0.2</td>\n",
              "      <td>Iris-setosa</td>\n",
              "    </tr>\n",
              "    <tr>\n",
              "      <th>4</th>\n",
              "      <td>5.0</td>\n",
              "      <td>3.6</td>\n",
              "      <td>1.4</td>\n",
              "      <td>0.2</td>\n",
              "      <td>Iris-setosa</td>\n",
              "    </tr>\n",
              "  </tbody>\n",
              "</table>\n",
              "</div>\n",
              "    <div class=\"colab-df-buttons\">\n",
              "\n",
              "  <div class=\"colab-df-container\">\n",
              "    <button class=\"colab-df-convert\" onclick=\"convertToInteractive('df-329cc335-b0e8-4890-834f-404db397e450')\"\n",
              "            title=\"Convert this dataframe to an interactive table.\"\n",
              "            style=\"display:none;\">\n",
              "\n",
              "  <svg xmlns=\"http://www.w3.org/2000/svg\" height=\"24px\" viewBox=\"0 -960 960 960\">\n",
              "    <path d=\"M120-120v-720h720v720H120Zm60-500h600v-160H180v160Zm220 220h160v-160H400v160Zm0 220h160v-160H400v160ZM180-400h160v-160H180v160Zm440 0h160v-160H620v160ZM180-180h160v-160H180v160Zm440 0h160v-160H620v160Z\"/>\n",
              "  </svg>\n",
              "    </button>\n",
              "\n",
              "  <style>\n",
              "    .colab-df-container {\n",
              "      display:flex;\n",
              "      gap: 12px;\n",
              "    }\n",
              "\n",
              "    .colab-df-convert {\n",
              "      background-color: #E8F0FE;\n",
              "      border: none;\n",
              "      border-radius: 50%;\n",
              "      cursor: pointer;\n",
              "      display: none;\n",
              "      fill: #1967D2;\n",
              "      height: 32px;\n",
              "      padding: 0 0 0 0;\n",
              "      width: 32px;\n",
              "    }\n",
              "\n",
              "    .colab-df-convert:hover {\n",
              "      background-color: #E2EBFA;\n",
              "      box-shadow: 0px 1px 2px rgba(60, 64, 67, 0.3), 0px 1px 3px 1px rgba(60, 64, 67, 0.15);\n",
              "      fill: #174EA6;\n",
              "    }\n",
              "\n",
              "    .colab-df-buttons div {\n",
              "      margin-bottom: 4px;\n",
              "    }\n",
              "\n",
              "    [theme=dark] .colab-df-convert {\n",
              "      background-color: #3B4455;\n",
              "      fill: #D2E3FC;\n",
              "    }\n",
              "\n",
              "    [theme=dark] .colab-df-convert:hover {\n",
              "      background-color: #434B5C;\n",
              "      box-shadow: 0px 1px 3px 1px rgba(0, 0, 0, 0.15);\n",
              "      filter: drop-shadow(0px 1px 2px rgba(0, 0, 0, 0.3));\n",
              "      fill: #FFFFFF;\n",
              "    }\n",
              "  </style>\n",
              "\n",
              "    <script>\n",
              "      const buttonEl =\n",
              "        document.querySelector('#df-329cc335-b0e8-4890-834f-404db397e450 button.colab-df-convert');\n",
              "      buttonEl.style.display =\n",
              "        google.colab.kernel.accessAllowed ? 'block' : 'none';\n",
              "\n",
              "      async function convertToInteractive(key) {\n",
              "        const element = document.querySelector('#df-329cc335-b0e8-4890-834f-404db397e450');\n",
              "        const dataTable =\n",
              "          await google.colab.kernel.invokeFunction('convertToInteractive',\n",
              "                                                    [key], {});\n",
              "        if (!dataTable) return;\n",
              "\n",
              "        const docLinkHtml = 'Like what you see? Visit the ' +\n",
              "          '<a target=\"_blank\" href=https://colab.research.google.com/notebooks/data_table.ipynb>data table notebook</a>'\n",
              "          + ' to learn more about interactive tables.';\n",
              "        element.innerHTML = '';\n",
              "        dataTable['output_type'] = 'display_data';\n",
              "        await google.colab.output.renderOutput(dataTable, element);\n",
              "        const docLink = document.createElement('div');\n",
              "        docLink.innerHTML = docLinkHtml;\n",
              "        element.appendChild(docLink);\n",
              "      }\n",
              "    </script>\n",
              "  </div>\n",
              "\n",
              "\n",
              "<div id=\"df-e4b0a690-92ff-42f4-8788-74a0d79c08ad\">\n",
              "  <button class=\"colab-df-quickchart\" onclick=\"quickchart('df-e4b0a690-92ff-42f4-8788-74a0d79c08ad')\"\n",
              "            title=\"Suggest charts\"\n",
              "            style=\"display:none;\">\n",
              "\n",
              "<svg xmlns=\"http://www.w3.org/2000/svg\" height=\"24px\"viewBox=\"0 0 24 24\"\n",
              "     width=\"24px\">\n",
              "    <g>\n",
              "        <path d=\"M19 3H5c-1.1 0-2 .9-2 2v14c0 1.1.9 2 2 2h14c1.1 0 2-.9 2-2V5c0-1.1-.9-2-2-2zM9 17H7v-7h2v7zm4 0h-2V7h2v10zm4 0h-2v-4h2v4z\"/>\n",
              "    </g>\n",
              "</svg>\n",
              "  </button>\n",
              "\n",
              "<style>\n",
              "  .colab-df-quickchart {\n",
              "      --bg-color: #E8F0FE;\n",
              "      --fill-color: #1967D2;\n",
              "      --hover-bg-color: #E2EBFA;\n",
              "      --hover-fill-color: #174EA6;\n",
              "      --disabled-fill-color: #AAA;\n",
              "      --disabled-bg-color: #DDD;\n",
              "  }\n",
              "\n",
              "  [theme=dark] .colab-df-quickchart {\n",
              "      --bg-color: #3B4455;\n",
              "      --fill-color: #D2E3FC;\n",
              "      --hover-bg-color: #434B5C;\n",
              "      --hover-fill-color: #FFFFFF;\n",
              "      --disabled-bg-color: #3B4455;\n",
              "      --disabled-fill-color: #666;\n",
              "  }\n",
              "\n",
              "  .colab-df-quickchart {\n",
              "    background-color: var(--bg-color);\n",
              "    border: none;\n",
              "    border-radius: 50%;\n",
              "    cursor: pointer;\n",
              "    display: none;\n",
              "    fill: var(--fill-color);\n",
              "    height: 32px;\n",
              "    padding: 0;\n",
              "    width: 32px;\n",
              "  }\n",
              "\n",
              "  .colab-df-quickchart:hover {\n",
              "    background-color: var(--hover-bg-color);\n",
              "    box-shadow: 0 1px 2px rgba(60, 64, 67, 0.3), 0 1px 3px 1px rgba(60, 64, 67, 0.15);\n",
              "    fill: var(--button-hover-fill-color);\n",
              "  }\n",
              "\n",
              "  .colab-df-quickchart-complete:disabled,\n",
              "  .colab-df-quickchart-complete:disabled:hover {\n",
              "    background-color: var(--disabled-bg-color);\n",
              "    fill: var(--disabled-fill-color);\n",
              "    box-shadow: none;\n",
              "  }\n",
              "\n",
              "  .colab-df-spinner {\n",
              "    border: 2px solid var(--fill-color);\n",
              "    border-color: transparent;\n",
              "    border-bottom-color: var(--fill-color);\n",
              "    animation:\n",
              "      spin 1s steps(1) infinite;\n",
              "  }\n",
              "\n",
              "  @keyframes spin {\n",
              "    0% {\n",
              "      border-color: transparent;\n",
              "      border-bottom-color: var(--fill-color);\n",
              "      border-left-color: var(--fill-color);\n",
              "    }\n",
              "    20% {\n",
              "      border-color: transparent;\n",
              "      border-left-color: var(--fill-color);\n",
              "      border-top-color: var(--fill-color);\n",
              "    }\n",
              "    30% {\n",
              "      border-color: transparent;\n",
              "      border-left-color: var(--fill-color);\n",
              "      border-top-color: var(--fill-color);\n",
              "      border-right-color: var(--fill-color);\n",
              "    }\n",
              "    40% {\n",
              "      border-color: transparent;\n",
              "      border-right-color: var(--fill-color);\n",
              "      border-top-color: var(--fill-color);\n",
              "    }\n",
              "    60% {\n",
              "      border-color: transparent;\n",
              "      border-right-color: var(--fill-color);\n",
              "    }\n",
              "    80% {\n",
              "      border-color: transparent;\n",
              "      border-right-color: var(--fill-color);\n",
              "      border-bottom-color: var(--fill-color);\n",
              "    }\n",
              "    90% {\n",
              "      border-color: transparent;\n",
              "      border-bottom-color: var(--fill-color);\n",
              "    }\n",
              "  }\n",
              "</style>\n",
              "\n",
              "  <script>\n",
              "    async function quickchart(key) {\n",
              "      const quickchartButtonEl =\n",
              "        document.querySelector('#' + key + ' button');\n",
              "      quickchartButtonEl.disabled = true;  // To prevent multiple clicks.\n",
              "      quickchartButtonEl.classList.add('colab-df-spinner');\n",
              "      try {\n",
              "        const charts = await google.colab.kernel.invokeFunction(\n",
              "            'suggestCharts', [key], {});\n",
              "      } catch (error) {\n",
              "        console.error('Error during call to suggestCharts:', error);\n",
              "      }\n",
              "      quickchartButtonEl.classList.remove('colab-df-spinner');\n",
              "      quickchartButtonEl.classList.add('colab-df-quickchart-complete');\n",
              "    }\n",
              "    (() => {\n",
              "      let quickchartButtonEl =\n",
              "        document.querySelector('#df-e4b0a690-92ff-42f4-8788-74a0d79c08ad button');\n",
              "      quickchartButtonEl.style.display =\n",
              "        google.colab.kernel.accessAllowed ? 'block' : 'none';\n",
              "    })();\n",
              "  </script>\n",
              "</div>\n",
              "\n",
              "    </div>\n",
              "  </div>\n"
            ],
            "application/vnd.google.colaboratory.intrinsic+json": {
              "type": "dataframe",
              "variable_name": "df",
              "summary": "{\n  \"name\": \"df\",\n  \"rows\": 150,\n  \"fields\": [\n    {\n      \"column\": 0,\n      \"properties\": {\n        \"dtype\": \"number\",\n        \"std\": 0.8280661279778629,\n        \"min\": 4.3,\n        \"max\": 7.9,\n        \"num_unique_values\": 35,\n        \"samples\": [\n          6.2,\n          4.5,\n          5.6\n        ],\n        \"semantic_type\": \"\",\n        \"description\": \"\"\n      }\n    },\n    {\n      \"column\": 1,\n      \"properties\": {\n        \"dtype\": \"number\",\n        \"std\": 0.4335943113621737,\n        \"min\": 2.0,\n        \"max\": 4.4,\n        \"num_unique_values\": 23,\n        \"samples\": [\n          2.3,\n          4.0,\n          3.5\n        ],\n        \"semantic_type\": \"\",\n        \"description\": \"\"\n      }\n    },\n    {\n      \"column\": 2,\n      \"properties\": {\n        \"dtype\": \"number\",\n        \"std\": 1.7644204199522617,\n        \"min\": 1.0,\n        \"max\": 6.9,\n        \"num_unique_values\": 43,\n        \"samples\": [\n          6.7,\n          3.8,\n          3.7\n        ],\n        \"semantic_type\": \"\",\n        \"description\": \"\"\n      }\n    },\n    {\n      \"column\": 3,\n      \"properties\": {\n        \"dtype\": \"number\",\n        \"std\": 0.7631607417008414,\n        \"min\": 0.1,\n        \"max\": 2.5,\n        \"num_unique_values\": 22,\n        \"samples\": [\n          0.2,\n          1.2,\n          1.3\n        ],\n        \"semantic_type\": \"\",\n        \"description\": \"\"\n      }\n    },\n    {\n      \"column\": 4,\n      \"properties\": {\n        \"dtype\": \"category\",\n        \"num_unique_values\": 3,\n        \"samples\": [\n          \"Iris-setosa\",\n          \"Iris-versicolor\",\n          \"Iris-virginica\"\n        ],\n        \"semantic_type\": \"\",\n        \"description\": \"\"\n      }\n    }\n  ]\n}"
            }
          },
          "metadata": {},
          "execution_count": 23
        }
      ],
      "source": [
        "# Remote URL의 CSV 데이터 Pandas DataFrame으로 나타내기\n",
        "url = 'https://archive.ics.uci.edu/ml/machine-learning-databases/iris/iris.data'\n",
        "#url = 'https://archive.ics.uci.edu/ml/machine-learning-databases/wine/wine.data'\n",
        "df = pd.read_csv(url, header=None) # 첫번째 행 컬럼으로 인식 안하도록\n",
        "df.head()"
      ]
    },
    {
      "cell_type": "code",
      "source": [],
      "metadata": {
        "id": "95pOvkOJ0IQf"
      },
      "execution_count": null,
      "outputs": []
    },
    {
      "cell_type": "markdown",
      "metadata": {
        "id": "Uxf__dRxxA-K"
      },
      "source": [
        "### Pandas에서 파일 저장하기"
      ]
    },
    {
      "cell_type": "code",
      "execution_count": null,
      "metadata": {
        "id": "ZiHHXkYAl81T"
      },
      "outputs": [],
      "source": [
        "# 사이킷런 머신러닝 라이브러리 설치하기\n",
        "!pip install scikit-learn"
      ]
    },
    {
      "cell_type": "code",
      "execution_count": 18,
      "metadata": {
        "id": "U2eU1fnXxIEO",
        "colab": {
          "base_uri": "https://localhost:8080/",
          "height": 206
        },
        "outputId": "325afba2-2371-4834-df6b-2df2cd51e8c4"
      },
      "outputs": [
        {
          "output_type": "execute_result",
          "data": {
            "text/plain": [
              "   sepal length (cm)  sepal width (cm)  petal length (cm)  petal width (cm)  \\\n",
              "0                5.1               3.5                1.4               0.2   \n",
              "1                4.9               3.0                1.4               0.2   \n",
              "2                4.7               3.2                1.3               0.2   \n",
              "3                4.6               3.1                1.5               0.2   \n",
              "4                5.0               3.6                1.4               0.2   \n",
              "\n",
              "   target target_name  \n",
              "0       0      setosa  \n",
              "1       0      setosa  \n",
              "2       0      setosa  \n",
              "3       0      setosa  \n",
              "4       0      setosa  "
            ],
            "text/html": [
              "\n",
              "  <div id=\"df-6e573b62-fa4d-444b-98e1-11772596b194\" class=\"colab-df-container\">\n",
              "    <div>\n",
              "<style scoped>\n",
              "    .dataframe tbody tr th:only-of-type {\n",
              "        vertical-align: middle;\n",
              "    }\n",
              "\n",
              "    .dataframe tbody tr th {\n",
              "        vertical-align: top;\n",
              "    }\n",
              "\n",
              "    .dataframe thead th {\n",
              "        text-align: right;\n",
              "    }\n",
              "</style>\n",
              "<table border=\"1\" class=\"dataframe\">\n",
              "  <thead>\n",
              "    <tr style=\"text-align: right;\">\n",
              "      <th></th>\n",
              "      <th>sepal length (cm)</th>\n",
              "      <th>sepal width (cm)</th>\n",
              "      <th>petal length (cm)</th>\n",
              "      <th>petal width (cm)</th>\n",
              "      <th>target</th>\n",
              "      <th>target_name</th>\n",
              "    </tr>\n",
              "  </thead>\n",
              "  <tbody>\n",
              "    <tr>\n",
              "      <th>0</th>\n",
              "      <td>5.1</td>\n",
              "      <td>3.5</td>\n",
              "      <td>1.4</td>\n",
              "      <td>0.2</td>\n",
              "      <td>0</td>\n",
              "      <td>setosa</td>\n",
              "    </tr>\n",
              "    <tr>\n",
              "      <th>1</th>\n",
              "      <td>4.9</td>\n",
              "      <td>3.0</td>\n",
              "      <td>1.4</td>\n",
              "      <td>0.2</td>\n",
              "      <td>0</td>\n",
              "      <td>setosa</td>\n",
              "    </tr>\n",
              "    <tr>\n",
              "      <th>2</th>\n",
              "      <td>4.7</td>\n",
              "      <td>3.2</td>\n",
              "      <td>1.3</td>\n",
              "      <td>0.2</td>\n",
              "      <td>0</td>\n",
              "      <td>setosa</td>\n",
              "    </tr>\n",
              "    <tr>\n",
              "      <th>3</th>\n",
              "      <td>4.6</td>\n",
              "      <td>3.1</td>\n",
              "      <td>1.5</td>\n",
              "      <td>0.2</td>\n",
              "      <td>0</td>\n",
              "      <td>setosa</td>\n",
              "    </tr>\n",
              "    <tr>\n",
              "      <th>4</th>\n",
              "      <td>5.0</td>\n",
              "      <td>3.6</td>\n",
              "      <td>1.4</td>\n",
              "      <td>0.2</td>\n",
              "      <td>0</td>\n",
              "      <td>setosa</td>\n",
              "    </tr>\n",
              "  </tbody>\n",
              "</table>\n",
              "</div>\n",
              "    <div class=\"colab-df-buttons\">\n",
              "\n",
              "  <div class=\"colab-df-container\">\n",
              "    <button class=\"colab-df-convert\" onclick=\"convertToInteractive('df-6e573b62-fa4d-444b-98e1-11772596b194')\"\n",
              "            title=\"Convert this dataframe to an interactive table.\"\n",
              "            style=\"display:none;\">\n",
              "\n",
              "  <svg xmlns=\"http://www.w3.org/2000/svg\" height=\"24px\" viewBox=\"0 -960 960 960\">\n",
              "    <path d=\"M120-120v-720h720v720H120Zm60-500h600v-160H180v160Zm220 220h160v-160H400v160Zm0 220h160v-160H400v160ZM180-400h160v-160H180v160Zm440 0h160v-160H620v160ZM180-180h160v-160H180v160Zm440 0h160v-160H620v160Z\"/>\n",
              "  </svg>\n",
              "    </button>\n",
              "\n",
              "  <style>\n",
              "    .colab-df-container {\n",
              "      display:flex;\n",
              "      gap: 12px;\n",
              "    }\n",
              "\n",
              "    .colab-df-convert {\n",
              "      background-color: #E8F0FE;\n",
              "      border: none;\n",
              "      border-radius: 50%;\n",
              "      cursor: pointer;\n",
              "      display: none;\n",
              "      fill: #1967D2;\n",
              "      height: 32px;\n",
              "      padding: 0 0 0 0;\n",
              "      width: 32px;\n",
              "    }\n",
              "\n",
              "    .colab-df-convert:hover {\n",
              "      background-color: #E2EBFA;\n",
              "      box-shadow: 0px 1px 2px rgba(60, 64, 67, 0.3), 0px 1px 3px 1px rgba(60, 64, 67, 0.15);\n",
              "      fill: #174EA6;\n",
              "    }\n",
              "\n",
              "    .colab-df-buttons div {\n",
              "      margin-bottom: 4px;\n",
              "    }\n",
              "\n",
              "    [theme=dark] .colab-df-convert {\n",
              "      background-color: #3B4455;\n",
              "      fill: #D2E3FC;\n",
              "    }\n",
              "\n",
              "    [theme=dark] .colab-df-convert:hover {\n",
              "      background-color: #434B5C;\n",
              "      box-shadow: 0px 1px 3px 1px rgba(0, 0, 0, 0.15);\n",
              "      filter: drop-shadow(0px 1px 2px rgba(0, 0, 0, 0.3));\n",
              "      fill: #FFFFFF;\n",
              "    }\n",
              "  </style>\n",
              "\n",
              "    <script>\n",
              "      const buttonEl =\n",
              "        document.querySelector('#df-6e573b62-fa4d-444b-98e1-11772596b194 button.colab-df-convert');\n",
              "      buttonEl.style.display =\n",
              "        google.colab.kernel.accessAllowed ? 'block' : 'none';\n",
              "\n",
              "      async function convertToInteractive(key) {\n",
              "        const element = document.querySelector('#df-6e573b62-fa4d-444b-98e1-11772596b194');\n",
              "        const dataTable =\n",
              "          await google.colab.kernel.invokeFunction('convertToInteractive',\n",
              "                                                    [key], {});\n",
              "        if (!dataTable) return;\n",
              "\n",
              "        const docLinkHtml = 'Like what you see? Visit the ' +\n",
              "          '<a target=\"_blank\" href=https://colab.research.google.com/notebooks/data_table.ipynb>data table notebook</a>'\n",
              "          + ' to learn more about interactive tables.';\n",
              "        element.innerHTML = '';\n",
              "        dataTable['output_type'] = 'display_data';\n",
              "        await google.colab.output.renderOutput(dataTable, element);\n",
              "        const docLink = document.createElement('div');\n",
              "        docLink.innerHTML = docLinkHtml;\n",
              "        element.appendChild(docLink);\n",
              "      }\n",
              "    </script>\n",
              "  </div>\n",
              "\n",
              "\n",
              "<div id=\"df-6a30f014-6abe-4eb6-b451-a4082c8e1d8c\">\n",
              "  <button class=\"colab-df-quickchart\" onclick=\"quickchart('df-6a30f014-6abe-4eb6-b451-a4082c8e1d8c')\"\n",
              "            title=\"Suggest charts\"\n",
              "            style=\"display:none;\">\n",
              "\n",
              "<svg xmlns=\"http://www.w3.org/2000/svg\" height=\"24px\"viewBox=\"0 0 24 24\"\n",
              "     width=\"24px\">\n",
              "    <g>\n",
              "        <path d=\"M19 3H5c-1.1 0-2 .9-2 2v14c0 1.1.9 2 2 2h14c1.1 0 2-.9 2-2V5c0-1.1-.9-2-2-2zM9 17H7v-7h2v7zm4 0h-2V7h2v10zm4 0h-2v-4h2v4z\"/>\n",
              "    </g>\n",
              "</svg>\n",
              "  </button>\n",
              "\n",
              "<style>\n",
              "  .colab-df-quickchart {\n",
              "      --bg-color: #E8F0FE;\n",
              "      --fill-color: #1967D2;\n",
              "      --hover-bg-color: #E2EBFA;\n",
              "      --hover-fill-color: #174EA6;\n",
              "      --disabled-fill-color: #AAA;\n",
              "      --disabled-bg-color: #DDD;\n",
              "  }\n",
              "\n",
              "  [theme=dark] .colab-df-quickchart {\n",
              "      --bg-color: #3B4455;\n",
              "      --fill-color: #D2E3FC;\n",
              "      --hover-bg-color: #434B5C;\n",
              "      --hover-fill-color: #FFFFFF;\n",
              "      --disabled-bg-color: #3B4455;\n",
              "      --disabled-fill-color: #666;\n",
              "  }\n",
              "\n",
              "  .colab-df-quickchart {\n",
              "    background-color: var(--bg-color);\n",
              "    border: none;\n",
              "    border-radius: 50%;\n",
              "    cursor: pointer;\n",
              "    display: none;\n",
              "    fill: var(--fill-color);\n",
              "    height: 32px;\n",
              "    padding: 0;\n",
              "    width: 32px;\n",
              "  }\n",
              "\n",
              "  .colab-df-quickchart:hover {\n",
              "    background-color: var(--hover-bg-color);\n",
              "    box-shadow: 0 1px 2px rgba(60, 64, 67, 0.3), 0 1px 3px 1px rgba(60, 64, 67, 0.15);\n",
              "    fill: var(--button-hover-fill-color);\n",
              "  }\n",
              "\n",
              "  .colab-df-quickchart-complete:disabled,\n",
              "  .colab-df-quickchart-complete:disabled:hover {\n",
              "    background-color: var(--disabled-bg-color);\n",
              "    fill: var(--disabled-fill-color);\n",
              "    box-shadow: none;\n",
              "  }\n",
              "\n",
              "  .colab-df-spinner {\n",
              "    border: 2px solid var(--fill-color);\n",
              "    border-color: transparent;\n",
              "    border-bottom-color: var(--fill-color);\n",
              "    animation:\n",
              "      spin 1s steps(1) infinite;\n",
              "  }\n",
              "\n",
              "  @keyframes spin {\n",
              "    0% {\n",
              "      border-color: transparent;\n",
              "      border-bottom-color: var(--fill-color);\n",
              "      border-left-color: var(--fill-color);\n",
              "    }\n",
              "    20% {\n",
              "      border-color: transparent;\n",
              "      border-left-color: var(--fill-color);\n",
              "      border-top-color: var(--fill-color);\n",
              "    }\n",
              "    30% {\n",
              "      border-color: transparent;\n",
              "      border-left-color: var(--fill-color);\n",
              "      border-top-color: var(--fill-color);\n",
              "      border-right-color: var(--fill-color);\n",
              "    }\n",
              "    40% {\n",
              "      border-color: transparent;\n",
              "      border-right-color: var(--fill-color);\n",
              "      border-top-color: var(--fill-color);\n",
              "    }\n",
              "    60% {\n",
              "      border-color: transparent;\n",
              "      border-right-color: var(--fill-color);\n",
              "    }\n",
              "    80% {\n",
              "      border-color: transparent;\n",
              "      border-right-color: var(--fill-color);\n",
              "      border-bottom-color: var(--fill-color);\n",
              "    }\n",
              "    90% {\n",
              "      border-color: transparent;\n",
              "      border-bottom-color: var(--fill-color);\n",
              "    }\n",
              "  }\n",
              "</style>\n",
              "\n",
              "  <script>\n",
              "    async function quickchart(key) {\n",
              "      const quickchartButtonEl =\n",
              "        document.querySelector('#' + key + ' button');\n",
              "      quickchartButtonEl.disabled = true;  // To prevent multiple clicks.\n",
              "      quickchartButtonEl.classList.add('colab-df-spinner');\n",
              "      try {\n",
              "        const charts = await google.colab.kernel.invokeFunction(\n",
              "            'suggestCharts', [key], {});\n",
              "      } catch (error) {\n",
              "        console.error('Error during call to suggestCharts:', error);\n",
              "      }\n",
              "      quickchartButtonEl.classList.remove('colab-df-spinner');\n",
              "      quickchartButtonEl.classList.add('colab-df-quickchart-complete');\n",
              "    }\n",
              "    (() => {\n",
              "      let quickchartButtonEl =\n",
              "        document.querySelector('#df-6a30f014-6abe-4eb6-b451-a4082c8e1d8c button');\n",
              "      quickchartButtonEl.style.display =\n",
              "        google.colab.kernel.accessAllowed ? 'block' : 'none';\n",
              "    })();\n",
              "  </script>\n",
              "</div>\n",
              "\n",
              "    </div>\n",
              "  </div>\n"
            ],
            "application/vnd.google.colaboratory.intrinsic+json": {
              "type": "dataframe",
              "variable_name": "df",
              "summary": "{\n  \"name\": \"df\",\n  \"rows\": 150,\n  \"fields\": [\n    {\n      \"column\": \"sepal length (cm)\",\n      \"properties\": {\n        \"dtype\": \"number\",\n        \"std\": 0.8280661279778629,\n        \"min\": 4.3,\n        \"max\": 7.9,\n        \"num_unique_values\": 35,\n        \"samples\": [\n          6.2,\n          4.5,\n          5.6\n        ],\n        \"semantic_type\": \"\",\n        \"description\": \"\"\n      }\n    },\n    {\n      \"column\": \"sepal width (cm)\",\n      \"properties\": {\n        \"dtype\": \"number\",\n        \"std\": 0.435866284936698,\n        \"min\": 2.0,\n        \"max\": 4.4,\n        \"num_unique_values\": 23,\n        \"samples\": [\n          2.3,\n          4.0,\n          3.5\n        ],\n        \"semantic_type\": \"\",\n        \"description\": \"\"\n      }\n    },\n    {\n      \"column\": \"petal length (cm)\",\n      \"properties\": {\n        \"dtype\": \"number\",\n        \"std\": 1.7652982332594667,\n        \"min\": 1.0,\n        \"max\": 6.9,\n        \"num_unique_values\": 43,\n        \"samples\": [\n          6.7,\n          3.8,\n          3.7\n        ],\n        \"semantic_type\": \"\",\n        \"description\": \"\"\n      }\n    },\n    {\n      \"column\": \"petal width (cm)\",\n      \"properties\": {\n        \"dtype\": \"number\",\n        \"std\": 0.7622376689603465,\n        \"min\": 0.1,\n        \"max\": 2.5,\n        \"num_unique_values\": 22,\n        \"samples\": [\n          0.2,\n          1.2,\n          1.3\n        ],\n        \"semantic_type\": \"\",\n        \"description\": \"\"\n      }\n    },\n    {\n      \"column\": \"target\",\n      \"properties\": {\n        \"dtype\": \"number\",\n        \"std\": 0,\n        \"min\": 0,\n        \"max\": 2,\n        \"num_unique_values\": 3,\n        \"samples\": [\n          0,\n          1,\n          2\n        ],\n        \"semantic_type\": \"\",\n        \"description\": \"\"\n      }\n    },\n    {\n      \"column\": \"target_name\",\n      \"properties\": {\n        \"dtype\": \"category\",\n        \"num_unique_values\": 3,\n        \"samples\": [\n          \"setosa\",\n          \"versicolor\",\n          \"virginica\"\n        ],\n        \"semantic_type\": \"\",\n        \"description\": \"\"\n      }\n    }\n  ]\n}"
            }
          },
          "metadata": {},
          "execution_count": 18
        }
      ],
      "source": [
        "# 사이킷런 빌트인 데이터셋(sklearn.datasets): 붓꽃\n",
        "from sklearn.datasets import load_iris\n",
        "\n",
        "iris = load_iris()\n",
        "\n",
        "df = pd.DataFrame(iris['data'], columns=iris['feature_names'])\n",
        "df['target'] = iris['target']        # iris.target\n",
        "df['target_name'] = iris.target_names[iris.target]\n",
        "\n",
        "file = './sample_data/my_iris.csv'\n",
        "df.to_csv(file, index=False)\n",
        "\n",
        "df.head()"
      ]
    },
    {
      "cell_type": "markdown",
      "metadata": {
        "id": "BeY60emTlulV"
      },
      "source": [
        "### [실습문제] 공공데이터 다운받고 DataFrame표로 나타내기"
      ]
    },
    {
      "cell_type": "markdown",
      "metadata": {
        "id": "yEdN1qCJl9aJ"
      },
      "source": [
        "- 데이터 위치: https://kosis.kr/statisticsList/statisticsListIndex.do?parentId=A.1&vwcd=MT_ZTITLE&menuId=M_01_01&outLink=Y&entrType=#content-group"
      ]
    },
    {
      "cell_type": "code",
      "execution_count": 40,
      "metadata": {
        "id": "FjSjtdHjltPM",
        "colab": {
          "base_uri": "https://localhost:8080/",
          "height": 639
        },
        "outputId": "3f7cf337-c11e-4f7a-f33b-606f304465b5"
      },
      "outputs": [
        {
          "output_type": "stream",
          "name": "stderr",
          "text": [
            "/usr/local/lib/python3.10/dist-packages/openpyxl/styles/stylesheet.py:237: UserWarning: Workbook contains no default style, apply openpyxl's default\n",
            "  warn(\"Workbook contains no default style, apply openpyxl's default\")\n"
          ]
        },
        {
          "output_type": "execute_result",
          "data": {
            "text/plain": [
              "      행정구역별     2021     2022     2023\n",
              "1     서울특별시  15650.1  15560.7  15506.4\n",
              "2     부산광역시   4316.4   4272.8   4252.0\n",
              "3     대구광역시   2702.2   2673.7   1586.7\n",
              "4     인천광역시   2772.8   2801.3   2835.7\n",
              "5     광주광역시   2944.0   2931.9   2908.5\n",
              "6     대전광역시   2742.8   2730.7   2724.0\n",
              "7     울산광역시   1055.0   1044.9   1042.0\n",
              "8   세종특별자치시    787.7    822.9    830.7\n",
              "9       경기도   1338.9   1344.9   1354.5\n",
              "10  강원특별자치도     90.4     90.8     90.8\n",
              "11     충청북도    219.4    219.4    221.6\n",
              "12     충청남도    263.8    265.9    268.7\n",
              "13     전라북도    221.4    219.8    219.1\n",
              "14     전라남도    143.9    143.3    143.7\n",
              "15     경상북도    138.4    137.7    140.6\n",
              "16     경상남도    313.6    311.2    310.3\n",
              "17  제주특별자치도    363.8    365.6    365.8"
            ],
            "text/html": [
              "\n",
              "  <div id=\"df-2ba9943d-66ba-4391-a10a-0e701b923aca\" class=\"colab-df-container\">\n",
              "    <div>\n",
              "<style scoped>\n",
              "    .dataframe tbody tr th:only-of-type {\n",
              "        vertical-align: middle;\n",
              "    }\n",
              "\n",
              "    .dataframe tbody tr th {\n",
              "        vertical-align: top;\n",
              "    }\n",
              "\n",
              "    .dataframe thead th {\n",
              "        text-align: right;\n",
              "    }\n",
              "</style>\n",
              "<table border=\"1\" class=\"dataframe\">\n",
              "  <thead>\n",
              "    <tr style=\"text-align: right;\">\n",
              "      <th></th>\n",
              "      <th>행정구역별</th>\n",
              "      <th>2021</th>\n",
              "      <th>2022</th>\n",
              "      <th>2023</th>\n",
              "    </tr>\n",
              "  </thead>\n",
              "  <tbody>\n",
              "    <tr>\n",
              "      <th>1</th>\n",
              "      <td>서울특별시</td>\n",
              "      <td>15650.1</td>\n",
              "      <td>15560.7</td>\n",
              "      <td>15506.4</td>\n",
              "    </tr>\n",
              "    <tr>\n",
              "      <th>2</th>\n",
              "      <td>부산광역시</td>\n",
              "      <td>4316.4</td>\n",
              "      <td>4272.8</td>\n",
              "      <td>4252.0</td>\n",
              "    </tr>\n",
              "    <tr>\n",
              "      <th>3</th>\n",
              "      <td>대구광역시</td>\n",
              "      <td>2702.2</td>\n",
              "      <td>2673.7</td>\n",
              "      <td>1586.7</td>\n",
              "    </tr>\n",
              "    <tr>\n",
              "      <th>4</th>\n",
              "      <td>인천광역시</td>\n",
              "      <td>2772.8</td>\n",
              "      <td>2801.3</td>\n",
              "      <td>2835.7</td>\n",
              "    </tr>\n",
              "    <tr>\n",
              "      <th>5</th>\n",
              "      <td>광주광역시</td>\n",
              "      <td>2944.0</td>\n",
              "      <td>2931.9</td>\n",
              "      <td>2908.5</td>\n",
              "    </tr>\n",
              "    <tr>\n",
              "      <th>6</th>\n",
              "      <td>대전광역시</td>\n",
              "      <td>2742.8</td>\n",
              "      <td>2730.7</td>\n",
              "      <td>2724.0</td>\n",
              "    </tr>\n",
              "    <tr>\n",
              "      <th>7</th>\n",
              "      <td>울산광역시</td>\n",
              "      <td>1055.0</td>\n",
              "      <td>1044.9</td>\n",
              "      <td>1042.0</td>\n",
              "    </tr>\n",
              "    <tr>\n",
              "      <th>8</th>\n",
              "      <td>세종특별자치시</td>\n",
              "      <td>787.7</td>\n",
              "      <td>822.9</td>\n",
              "      <td>830.7</td>\n",
              "    </tr>\n",
              "    <tr>\n",
              "      <th>9</th>\n",
              "      <td>경기도</td>\n",
              "      <td>1338.9</td>\n",
              "      <td>1344.9</td>\n",
              "      <td>1354.5</td>\n",
              "    </tr>\n",
              "    <tr>\n",
              "      <th>10</th>\n",
              "      <td>강원특별자치도</td>\n",
              "      <td>90.4</td>\n",
              "      <td>90.8</td>\n",
              "      <td>90.8</td>\n",
              "    </tr>\n",
              "    <tr>\n",
              "      <th>11</th>\n",
              "      <td>충청북도</td>\n",
              "      <td>219.4</td>\n",
              "      <td>219.4</td>\n",
              "      <td>221.6</td>\n",
              "    </tr>\n",
              "    <tr>\n",
              "      <th>12</th>\n",
              "      <td>충청남도</td>\n",
              "      <td>263.8</td>\n",
              "      <td>265.9</td>\n",
              "      <td>268.7</td>\n",
              "    </tr>\n",
              "    <tr>\n",
              "      <th>13</th>\n",
              "      <td>전라북도</td>\n",
              "      <td>221.4</td>\n",
              "      <td>219.8</td>\n",
              "      <td>219.1</td>\n",
              "    </tr>\n",
              "    <tr>\n",
              "      <th>14</th>\n",
              "      <td>전라남도</td>\n",
              "      <td>143.9</td>\n",
              "      <td>143.3</td>\n",
              "      <td>143.7</td>\n",
              "    </tr>\n",
              "    <tr>\n",
              "      <th>15</th>\n",
              "      <td>경상북도</td>\n",
              "      <td>138.4</td>\n",
              "      <td>137.7</td>\n",
              "      <td>140.6</td>\n",
              "    </tr>\n",
              "    <tr>\n",
              "      <th>16</th>\n",
              "      <td>경상남도</td>\n",
              "      <td>313.6</td>\n",
              "      <td>311.2</td>\n",
              "      <td>310.3</td>\n",
              "    </tr>\n",
              "    <tr>\n",
              "      <th>17</th>\n",
              "      <td>제주특별자치도</td>\n",
              "      <td>363.8</td>\n",
              "      <td>365.6</td>\n",
              "      <td>365.8</td>\n",
              "    </tr>\n",
              "  </tbody>\n",
              "</table>\n",
              "</div>\n",
              "    <div class=\"colab-df-buttons\">\n",
              "\n",
              "  <div class=\"colab-df-container\">\n",
              "    <button class=\"colab-df-convert\" onclick=\"convertToInteractive('df-2ba9943d-66ba-4391-a10a-0e701b923aca')\"\n",
              "            title=\"Convert this dataframe to an interactive table.\"\n",
              "            style=\"display:none;\">\n",
              "\n",
              "  <svg xmlns=\"http://www.w3.org/2000/svg\" height=\"24px\" viewBox=\"0 -960 960 960\">\n",
              "    <path d=\"M120-120v-720h720v720H120Zm60-500h600v-160H180v160Zm220 220h160v-160H400v160Zm0 220h160v-160H400v160ZM180-400h160v-160H180v160Zm440 0h160v-160H620v160ZM180-180h160v-160H180v160Zm440 0h160v-160H620v160Z\"/>\n",
              "  </svg>\n",
              "    </button>\n",
              "\n",
              "  <style>\n",
              "    .colab-df-container {\n",
              "      display:flex;\n",
              "      gap: 12px;\n",
              "    }\n",
              "\n",
              "    .colab-df-convert {\n",
              "      background-color: #E8F0FE;\n",
              "      border: none;\n",
              "      border-radius: 50%;\n",
              "      cursor: pointer;\n",
              "      display: none;\n",
              "      fill: #1967D2;\n",
              "      height: 32px;\n",
              "      padding: 0 0 0 0;\n",
              "      width: 32px;\n",
              "    }\n",
              "\n",
              "    .colab-df-convert:hover {\n",
              "      background-color: #E2EBFA;\n",
              "      box-shadow: 0px 1px 2px rgba(60, 64, 67, 0.3), 0px 1px 3px 1px rgba(60, 64, 67, 0.15);\n",
              "      fill: #174EA6;\n",
              "    }\n",
              "\n",
              "    .colab-df-buttons div {\n",
              "      margin-bottom: 4px;\n",
              "    }\n",
              "\n",
              "    [theme=dark] .colab-df-convert {\n",
              "      background-color: #3B4455;\n",
              "      fill: #D2E3FC;\n",
              "    }\n",
              "\n",
              "    [theme=dark] .colab-df-convert:hover {\n",
              "      background-color: #434B5C;\n",
              "      box-shadow: 0px 1px 3px 1px rgba(0, 0, 0, 0.15);\n",
              "      filter: drop-shadow(0px 1px 2px rgba(0, 0, 0, 0.3));\n",
              "      fill: #FFFFFF;\n",
              "    }\n",
              "  </style>\n",
              "\n",
              "    <script>\n",
              "      const buttonEl =\n",
              "        document.querySelector('#df-2ba9943d-66ba-4391-a10a-0e701b923aca button.colab-df-convert');\n",
              "      buttonEl.style.display =\n",
              "        google.colab.kernel.accessAllowed ? 'block' : 'none';\n",
              "\n",
              "      async function convertToInteractive(key) {\n",
              "        const element = document.querySelector('#df-2ba9943d-66ba-4391-a10a-0e701b923aca');\n",
              "        const dataTable =\n",
              "          await google.colab.kernel.invokeFunction('convertToInteractive',\n",
              "                                                    [key], {});\n",
              "        if (!dataTable) return;\n",
              "\n",
              "        const docLinkHtml = 'Like what you see? Visit the ' +\n",
              "          '<a target=\"_blank\" href=https://colab.research.google.com/notebooks/data_table.ipynb>data table notebook</a>'\n",
              "          + ' to learn more about interactive tables.';\n",
              "        element.innerHTML = '';\n",
              "        dataTable['output_type'] = 'display_data';\n",
              "        await google.colab.output.renderOutput(dataTable, element);\n",
              "        const docLink = document.createElement('div');\n",
              "        docLink.innerHTML = docLinkHtml;\n",
              "        element.appendChild(docLink);\n",
              "      }\n",
              "    </script>\n",
              "  </div>\n",
              "\n",
              "\n",
              "<div id=\"df-06df8a07-9e68-45da-bd06-b71a341262ba\">\n",
              "  <button class=\"colab-df-quickchart\" onclick=\"quickchart('df-06df8a07-9e68-45da-bd06-b71a341262ba')\"\n",
              "            title=\"Suggest charts\"\n",
              "            style=\"display:none;\">\n",
              "\n",
              "<svg xmlns=\"http://www.w3.org/2000/svg\" height=\"24px\"viewBox=\"0 0 24 24\"\n",
              "     width=\"24px\">\n",
              "    <g>\n",
              "        <path d=\"M19 3H5c-1.1 0-2 .9-2 2v14c0 1.1.9 2 2 2h14c1.1 0 2-.9 2-2V5c0-1.1-.9-2-2-2zM9 17H7v-7h2v7zm4 0h-2V7h2v10zm4 0h-2v-4h2v4z\"/>\n",
              "    </g>\n",
              "</svg>\n",
              "  </button>\n",
              "\n",
              "<style>\n",
              "  .colab-df-quickchart {\n",
              "      --bg-color: #E8F0FE;\n",
              "      --fill-color: #1967D2;\n",
              "      --hover-bg-color: #E2EBFA;\n",
              "      --hover-fill-color: #174EA6;\n",
              "      --disabled-fill-color: #AAA;\n",
              "      --disabled-bg-color: #DDD;\n",
              "  }\n",
              "\n",
              "  [theme=dark] .colab-df-quickchart {\n",
              "      --bg-color: #3B4455;\n",
              "      --fill-color: #D2E3FC;\n",
              "      --hover-bg-color: #434B5C;\n",
              "      --hover-fill-color: #FFFFFF;\n",
              "      --disabled-bg-color: #3B4455;\n",
              "      --disabled-fill-color: #666;\n",
              "  }\n",
              "\n",
              "  .colab-df-quickchart {\n",
              "    background-color: var(--bg-color);\n",
              "    border: none;\n",
              "    border-radius: 50%;\n",
              "    cursor: pointer;\n",
              "    display: none;\n",
              "    fill: var(--fill-color);\n",
              "    height: 32px;\n",
              "    padding: 0;\n",
              "    width: 32px;\n",
              "  }\n",
              "\n",
              "  .colab-df-quickchart:hover {\n",
              "    background-color: var(--hover-bg-color);\n",
              "    box-shadow: 0 1px 2px rgba(60, 64, 67, 0.3), 0 1px 3px 1px rgba(60, 64, 67, 0.15);\n",
              "    fill: var(--button-hover-fill-color);\n",
              "  }\n",
              "\n",
              "  .colab-df-quickchart-complete:disabled,\n",
              "  .colab-df-quickchart-complete:disabled:hover {\n",
              "    background-color: var(--disabled-bg-color);\n",
              "    fill: var(--disabled-fill-color);\n",
              "    box-shadow: none;\n",
              "  }\n",
              "\n",
              "  .colab-df-spinner {\n",
              "    border: 2px solid var(--fill-color);\n",
              "    border-color: transparent;\n",
              "    border-bottom-color: var(--fill-color);\n",
              "    animation:\n",
              "      spin 1s steps(1) infinite;\n",
              "  }\n",
              "\n",
              "  @keyframes spin {\n",
              "    0% {\n",
              "      border-color: transparent;\n",
              "      border-bottom-color: var(--fill-color);\n",
              "      border-left-color: var(--fill-color);\n",
              "    }\n",
              "    20% {\n",
              "      border-color: transparent;\n",
              "      border-left-color: var(--fill-color);\n",
              "      border-top-color: var(--fill-color);\n",
              "    }\n",
              "    30% {\n",
              "      border-color: transparent;\n",
              "      border-left-color: var(--fill-color);\n",
              "      border-top-color: var(--fill-color);\n",
              "      border-right-color: var(--fill-color);\n",
              "    }\n",
              "    40% {\n",
              "      border-color: transparent;\n",
              "      border-right-color: var(--fill-color);\n",
              "      border-top-color: var(--fill-color);\n",
              "    }\n",
              "    60% {\n",
              "      border-color: transparent;\n",
              "      border-right-color: var(--fill-color);\n",
              "    }\n",
              "    80% {\n",
              "      border-color: transparent;\n",
              "      border-right-color: var(--fill-color);\n",
              "      border-bottom-color: var(--fill-color);\n",
              "    }\n",
              "    90% {\n",
              "      border-color: transparent;\n",
              "      border-bottom-color: var(--fill-color);\n",
              "    }\n",
              "  }\n",
              "</style>\n",
              "\n",
              "  <script>\n",
              "    async function quickchart(key) {\n",
              "      const quickchartButtonEl =\n",
              "        document.querySelector('#' + key + ' button');\n",
              "      quickchartButtonEl.disabled = true;  // To prevent multiple clicks.\n",
              "      quickchartButtonEl.classList.add('colab-df-spinner');\n",
              "      try {\n",
              "        const charts = await google.colab.kernel.invokeFunction(\n",
              "            'suggestCharts', [key], {});\n",
              "      } catch (error) {\n",
              "        console.error('Error during call to suggestCharts:', error);\n",
              "      }\n",
              "      quickchartButtonEl.classList.remove('colab-df-spinner');\n",
              "      quickchartButtonEl.classList.add('colab-df-quickchart-complete');\n",
              "    }\n",
              "    (() => {\n",
              "      let quickchartButtonEl =\n",
              "        document.querySelector('#df-06df8a07-9e68-45da-bd06-b71a341262ba button');\n",
              "      quickchartButtonEl.style.display =\n",
              "        google.colab.kernel.accessAllowed ? 'block' : 'none';\n",
              "    })();\n",
              "  </script>\n",
              "</div>\n",
              "\n",
              "  <div id=\"id_4b4849de-507e-468e-9ada-d91aca18d650\">\n",
              "    <style>\n",
              "      .colab-df-generate {\n",
              "        background-color: #E8F0FE;\n",
              "        border: none;\n",
              "        border-radius: 50%;\n",
              "        cursor: pointer;\n",
              "        display: none;\n",
              "        fill: #1967D2;\n",
              "        height: 32px;\n",
              "        padding: 0 0 0 0;\n",
              "        width: 32px;\n",
              "      }\n",
              "\n",
              "      .colab-df-generate:hover {\n",
              "        background-color: #E2EBFA;\n",
              "        box-shadow: 0px 1px 2px rgba(60, 64, 67, 0.3), 0px 1px 3px 1px rgba(60, 64, 67, 0.15);\n",
              "        fill: #174EA6;\n",
              "      }\n",
              "\n",
              "      [theme=dark] .colab-df-generate {\n",
              "        background-color: #3B4455;\n",
              "        fill: #D2E3FC;\n",
              "      }\n",
              "\n",
              "      [theme=dark] .colab-df-generate:hover {\n",
              "        background-color: #434B5C;\n",
              "        box-shadow: 0px 1px 3px 1px rgba(0, 0, 0, 0.15);\n",
              "        filter: drop-shadow(0px 1px 2px rgba(0, 0, 0, 0.3));\n",
              "        fill: #FFFFFF;\n",
              "      }\n",
              "    </style>\n",
              "    <button class=\"colab-df-generate\" onclick=\"generateWithVariable('df')\"\n",
              "            title=\"Generate code using this dataframe.\"\n",
              "            style=\"display:none;\">\n",
              "\n",
              "  <svg xmlns=\"http://www.w3.org/2000/svg\" height=\"24px\"viewBox=\"0 0 24 24\"\n",
              "       width=\"24px\">\n",
              "    <path d=\"M7,19H8.4L18.45,9,17,7.55,7,17.6ZM5,21V16.75L18.45,3.32a2,2,0,0,1,2.83,0l1.4,1.43a1.91,1.91,0,0,1,.58,1.4,1.91,1.91,0,0,1-.58,1.4L9.25,21ZM18.45,9,17,7.55Zm-12,3A5.31,5.31,0,0,0,4.9,8.1,5.31,5.31,0,0,0,1,6.5,5.31,5.31,0,0,0,4.9,4.9,5.31,5.31,0,0,0,6.5,1,5.31,5.31,0,0,0,8.1,4.9,5.31,5.31,0,0,0,12,6.5,5.46,5.46,0,0,0,6.5,12Z\"/>\n",
              "  </svg>\n",
              "    </button>\n",
              "    <script>\n",
              "      (() => {\n",
              "      const buttonEl =\n",
              "        document.querySelector('#id_4b4849de-507e-468e-9ada-d91aca18d650 button.colab-df-generate');\n",
              "      buttonEl.style.display =\n",
              "        google.colab.kernel.accessAllowed ? 'block' : 'none';\n",
              "\n",
              "      buttonEl.onclick = () => {\n",
              "        google.colab.notebook.generateWithVariable('df');\n",
              "      }\n",
              "      })();\n",
              "    </script>\n",
              "  </div>\n",
              "\n",
              "    </div>\n",
              "  </div>\n"
            ],
            "application/vnd.google.colaboratory.intrinsic+json": {
              "type": "dataframe",
              "variable_name": "df",
              "summary": "{\n  \"name\": \"df\",\n  \"rows\": 17,\n  \"fields\": [\n    {\n      \"column\": \"\\ud589\\uc815\\uad6c\\uc5ed\\ubcc4\",\n      \"properties\": {\n        \"dtype\": \"string\",\n        \"num_unique_values\": 17,\n        \"samples\": [\n          \"\\uc11c\\uc6b8\\ud2b9\\ubcc4\\uc2dc\",\n          \"\\ubd80\\uc0b0\\uad11\\uc5ed\\uc2dc\",\n          \"\\ub300\\uc804\\uad11\\uc5ed\\uc2dc\"\n        ],\n        \"semantic_type\": \"\",\n        \"description\": \"\"\n      }\n    },\n    {\n      \"column\": \"2021\",\n      \"properties\": {\n        \"dtype\": \"number\",\n        \"std\": 3726.5920715376215,\n        \"min\": 90.4,\n        \"max\": 15650.1,\n        \"num_unique_values\": 17,\n        \"samples\": [\n          15650.1,\n          4316.4,\n          2742.8\n        ],\n        \"semantic_type\": \"\",\n        \"description\": \"\"\n      }\n    },\n    {\n      \"column\": \"2022\",\n      \"properties\": {\n        \"dtype\": \"number\",\n        \"std\": 3703.8260374855463,\n        \"min\": 90.8,\n        \"max\": 15560.7,\n        \"num_unique_values\": 17,\n        \"samples\": [\n          15560.7,\n          4272.8,\n          2730.7\n        ],\n        \"semantic_type\": \"\",\n        \"description\": \"\"\n      }\n    },\n    {\n      \"column\": \"2023\",\n      \"properties\": {\n        \"dtype\": \"number\",\n        \"std\": 3689.3658004339673,\n        \"min\": 90.8,\n        \"max\": 15506.4,\n        \"num_unique_values\": 17,\n        \"samples\": [\n          15506.4,\n          4252.0,\n          2724.0\n        ],\n        \"semantic_type\": \"\",\n        \"description\": \"\"\n      }\n    }\n  ]\n}"
            }
          },
          "metadata": {},
          "execution_count": 40
        }
      ],
      "source": [
        "import pandas as pd\n",
        "\n",
        "# CSV 인구밀도_인구주택총조사기준___시도_20241021111732파일 읽기\n",
        "file = './인구밀도_241021.xlsx'\n",
        "#df = pd.read_csv(file, encoding='cp949')\n",
        "df = pd.read_excel(file)\n",
        "# 데이터 전처리하기\n",
        "# (첫번째 행: 전국 행 삭제하기)\n",
        "df.drop([0], axis=0, inplace=True)   # 인덱스 0번 행 삭제하기\n",
        "\n",
        "\n",
        "# DataFrame을 CSV 파일로 저장하기\n",
        "df.to_csv('./my_data.csv', encoding='cp949')\n",
        "df"
      ]
    },
    {
      "cell_type": "markdown",
      "metadata": {
        "id": "91P2awlQLp-K"
      },
      "source": [
        "-----------"
      ]
    },
    {
      "cell_type": "markdown",
      "metadata": {
        "id": "3jDWQ53txem5"
      },
      "source": [
        "### 2-3. Matplotlib"
      ]
    },
    {
      "cell_type": "markdown",
      "metadata": {
        "id": "VT_3Pde3zd5n"
      },
      "source": [
        "- 맷플롯립(matplotlib) : 매트랩(matlab) 기능을 파이썬에서 그대로 사용하도록 하는 시각화 모듈\n",
        "- MATLAB: 매스웍스에서 개발한 수치 해석 및 프로그래밍 환경을 제공하는 공학용 소프트웨어. 행렬을 기반으로 한 계산 기능을 지원하며 함수나 데이터를 그림으로 그리는 기능 및 프로그래밍을 통한 알고리즘 구현 등을 제공함\n",
        "- 매트랩을 포장(wrapping)해서 맷플롯립을 지원\n",
        " - - import matplotlib.pyplot as plt\n",
        " <br><br>\n",
        "- https://matplotlib.org/cheatsheets/_images/cheatsheets-1.png\n",
        "- https://matplotlib.org/cheatsheets/_images/cheatsheets-2.png"
      ]
    },
    {
      "cell_type": "code",
      "execution_count": 42,
      "metadata": {
        "id": "wySO1v46y-Tg"
      },
      "outputs": [],
      "source": [
        "# 코랩에서 한글 폰트 종류와 이름이 win과 다를 수 있다!!!\n",
        "import matplotlib.pyplot as plt\n",
        "\n",
        "\n",
        "# plt.rc('font', family='NanumGothic')        # for Colab\n",
        "# plt.rc(\"font\", family = \"Malgun Gothic\")        # for Win\n",
        "# plt.rc('font', family='AppleGothic')            # for Mac\n",
        "plt.rcParams['font.family'] = 'NanumGothic' # for Colab\n",
        "plt.rcParams['font.size'] = 12\n",
        "plt.rcParams['figure.figsize'] = (5, 3)        # 그래프 크기(인치)\n",
        "plt.rcParams['axes.unicode_minus'] = False     # 그래프 축에서 마이너스 표시"
      ]
    },
    {
      "cell_type": "markdown",
      "metadata": {
        "id": "S6PbnH4fLp-K"
      },
      "source": [
        "### matplotlib 사용"
      ]
    },
    {
      "cell_type": "code",
      "execution_count": 43,
      "metadata": {
        "id": "KkMGoP8PLp-K",
        "colab": {
          "base_uri": "https://localhost:8080/",
          "height": 354
        },
        "outputId": "70b46e38-3167-411f-f0d3-1bd2e91465cd"
      },
      "outputs": [
        {
          "output_type": "stream",
          "name": "stdout",
          "text": [
            "X축 값:  [2005, 2006, 2007, 2008, 2009, 2010, 2011, 2012, 2013, 2014]\n",
            "Y축 값:  [15, 7, 2, 10, 8, 5, 14, 9, 18, 8]\n"
          ]
        },
        {
          "output_type": "display_data",
          "data": {
            "text/plain": [
              "<Figure size 500x300 with 1 Axes>"
            ],
            "image/png": "[encoded data removed]"
          },
          "metadata": {}
        }
      ],
      "source": [
        "X = list(range(2005, 2015, 1))  # X좌표\n",
        "Y = [15,7,2,10,8,5,14,9,18,8]   # Y좌표\n",
        "print('X축 값: ', X)\n",
        "print('Y축 값: ', Y)\n",
        "\n",
        "# plt.plot(X, Y)  # 기본 선 그래프\n",
        "# plt.plot(X, Y, linestyle='dashdot', color='r') # 빨간색 점선 그래프\n",
        "plt.plot(X, Y, color='k', marker='^', linestyle='solid',\n",
        "         linewidth=2, markersize=8, markerfacecolor='red')\n",
        "plt.grid(True)\n",
        "plt.title('년도별 그래프')\n",
        "plt.show()"
      ]
    },
    {
      "cell_type": "markdown",
      "metadata": {
        "id": "tYNLg1O_Lp-K"
      },
      "source": [
        "#### 선그래프"
      ]
    },
    {
      "cell_type": "code",
      "execution_count": null,
      "metadata": {
        "id": "gVbCluPOLp-K"
      },
      "outputs": [],
      "source": [
        "data    = [[15,7,2,10,8,5,14,9,18,8]]\n",
        "columns = list(range(2005,2015,1))\n",
        "index   = ['횟수']\n",
        "\n",
        "df = pd.DataFrame(data, columns=columns, index=index)\n",
        "df.columns.name = '연도'\n",
        "\n",
        "x = df.columns    #x = df.columns\n",
        "y = df.values[0]  #y = df.values[0]\n",
        "\n",
        "plt.plot(x, y, 'o', linestyle='dashed', c='b')\n",
        "plt.title('년도별 그래프')\n",
        "plt.show()"
      ]
    },
    {
      "cell_type": "markdown",
      "metadata": {
        "id": "C8ugbsZSLp-L"
      },
      "source": [
        "### [실습] : 2개 선그래프 나타내기"
      ]
    },
    {
      "cell_type": "code",
      "execution_count": null,
      "metadata": {
        "id": "G9L7EowYLp-L",
        "scrolled": false
      },
      "outputs": [],
      "source": [
        "# X축, Y축 데이터\n",
        "X1 = list(range(2005,2015,1))\n",
        "X2 = list(range(2008,2018,1))\n",
        "Y = [15,7,2,10,8,5,14,9,18,8]\n",
        "\n",
        "plt.plot(X1, Y, 'o', linestyle='solid', c='c', label='X1')     #선 그래프\n",
        "plt.plot(X2, Y, 'X', linestyle='solid', c='m', label='X2')     #선 그래프\n",
        "plt.title('년도별 그래프')\n",
        "plt.grid(False)\n",
        "plt.legend()\n",
        "plt.show()"
      ]
    },
    {
      "cell_type": "code",
      "source": [
        "#help(plt.plot)\n",
        "dir(plt.plot)"
      ],
      "metadata": {
        "colab": {
          "base_uri": "https://localhost:8080/"
        },
        "id": "tPIGFdMu7t69",
        "outputId": "3b0e6d3e-7da9-451e-8832-0dc7e27c39bd"
      },
      "execution_count": 47,
      "outputs": [
        {
          "output_type": "execute_result",
          "data": {
            "text/plain": [
              "['__annotations__',\n",
              " '__builtins__',\n",
              " '__call__',\n",
              " '__class__',\n",
              " '__closure__',\n",
              " '__code__',\n",
              " '__defaults__',\n",
              " '__delattr__',\n",
              " '__dict__',\n",
              " '__dir__',\n",
              " '__doc__',\n",
              " '__eq__',\n",
              " '__format__',\n",
              " '__ge__',\n",
              " '__get__',\n",
              " '__getattribute__',\n",
              " '__globals__',\n",
              " '__gt__',\n",
              " '__hash__',\n",
              " '__init__',\n",
              " '__init_subclass__',\n",
              " '__kwdefaults__',\n",
              " '__le__',\n",
              " '__lt__',\n",
              " '__module__',\n",
              " '__name__',\n",
              " '__ne__',\n",
              " '__new__',\n",
              " '__qualname__',\n",
              " '__reduce__',\n",
              " '__reduce_ex__',\n",
              " '__repr__',\n",
              " '__setattr__',\n",
              " '__sizeof__',\n",
              " '__str__',\n",
              " '__subclasshook__']"
            ]
          },
          "metadata": {},
          "execution_count": 47
        }
      ]
    },
    {
      "cell_type": "code",
      "execution_count": null,
      "metadata": {
        "id": "f8JGIViyLp-L",
        "scrolled": false
      },
      "outputs": [],
      "source": [
        "a = np.array([10,14,19,20,25])\n",
        "plt.plot(a)\n",
        "\n",
        "a2 = np.arange(20)\n",
        "plt.plot(a2)\n",
        "\n",
        "plt.show()"
      ]
    },
    {
      "cell_type": "markdown",
      "metadata": {
        "id": "eWW3Qr1uLp-L"
      },
      "source": [
        "### 2차 방정식의 그래프 : f(x) = a*x^2 + b, 포물선 방정식"
      ]
    },
    {
      "cell_type": "code",
      "execution_count": 48,
      "metadata": {
        "id": "LYSy_R_TLp-L",
        "scrolled": true,
        "colab": {
          "base_uri": "https://localhost:8080/",
          "height": 293
        },
        "outputId": "7303b78d-0c9c-401f-bdbd-423d38463fcb"
      },
      "outputs": [
        {
          "output_type": "display_data",
          "data": {
            "text/plain": [
              "<Figure size 500x300 with 1 Axes>"
            ],
            "image/png": "[encoded data removed]"
          },
          "metadata": {}
        }
      ],
      "source": [
        "x = np.arange(-4.5,5,0.5)\n",
        "y = 2*x**2\n",
        "plt.plot(x, y)\n",
        "\n",
        "plt.plot(x, 4*x)\n",
        "plt.plot(x,-3*x)\n",
        "plt.show()"
      ]
    },
    {
      "cell_type": "markdown",
      "source": [
        "#### 산점도"
      ],
      "metadata": {
        "id": "bwlGUBNdFCd_"
      }
    },
    {
      "cell_type": "code",
      "source": [
        "x = list(range(2005,2015,1))\n",
        "y  = [15,7,2,10,8,5,14,9,18,8]\n",
        "\n",
        "plt.scatter(x, y)\n",
        "plt.show()"
      ],
      "metadata": {
        "id": "bE0mxM2mFCn2",
        "colab": {
          "base_uri": "https://localhost:8080/",
          "height": 293
        },
        "outputId": "c0e6a896-bba4-4d67-f07a-4e96727e5b8d"
      },
      "execution_count": 49,
      "outputs": [
        {
          "output_type": "display_data",
          "data": {
            "text/plain": [
              "<Figure size 500x300 with 1 Axes>"
            ],
            "image/png": "[encoded data removed]"
          },
          "metadata": {}
        }
      ]
    },
    {
      "cell_type": "markdown",
      "source": [
        "- 점 크기 지정"
      ],
      "metadata": {
        "id": "36XeKmaFGUsR"
      }
    },
    {
      "cell_type": "code",
      "source": [
        "plt.scatter(x, y,  s=500, c='red', alpha=0.4)  # s:마커크기: 500, 컬러:red\n",
        "for a, b in zip(x, y):\n",
        "    plt.text(a, b, str(b), fontsize=9,\n",
        "             horizontalalignment='center', verticalalignment='center')  # x,y좌표에 글자 넣기\n",
        "plt.show()"
      ],
      "metadata": {
        "id": "ZUDZFIeVGTFY",
        "colab": {
          "base_uri": "https://localhost:8080/",
          "height": 293
        },
        "outputId": "41213892-8744-4b8b-8a8e-f9338086df0b"
      },
      "execution_count": 50,
      "outputs": [
        {
          "output_type": "display_data",
          "data": {
            "text/plain": [
              "<Figure size 500x300 with 1 Axes>"
            ],
            "image/png": "[encoded data removed]"
          },
          "metadata": {}
        }
      ]
    },
    {
      "cell_type": "markdown",
      "source": [
        "- 색상, 투명도 지정"
      ],
      "metadata": {
        "id": "pyqYezqOGZ9Q"
      }
    },
    {
      "cell_type": "code",
      "source": [
        "import numpy as np\n",
        "\n",
        "# Fixing random state for reproducibility\n",
        "np.random.seed(12345678)\n",
        "\n",
        "N = 50\n",
        "x = np.random.rand(N)\n",
        "y = np.random.rand(N)\n",
        "colors = np.random.rand(N)\n",
        "area = (30 * np.random.rand(N))**2  # 0 to 15 point radii\n",
        "\n",
        "plt.scatter(x, y, s=area, c=colors, alpha=0.5)\n",
        "plt.show()"
      ],
      "metadata": {
        "id": "DY2f6IrSGeZK"
      },
      "execution_count": null,
      "outputs": []
    },
    {
      "cell_type": "markdown",
      "metadata": {
        "id": "n35aMbLCLp-L"
      },
      "source": [
        "-------"
      ]
    },
    {
      "cell_type": "markdown",
      "metadata": {
        "id": "yBXsXouaLp-L"
      },
      "source": [
        "#### 막대 그래프"
      ]
    },
    {
      "cell_type": "code",
      "execution_count": null,
      "metadata": {
        "id": "PctHSBVyLp-M",
        "scrolled": true
      },
      "outputs": [],
      "source": [
        "# X축, Y축 데이터\n",
        "X = list(range(2005,2015,1))\n",
        "Y = [15,7,2,10,8,5,14,9,18,8]\n",
        "\n",
        "plt.bar(X, Y)     # 막대 그래프\n",
        "plt.grid(False)\n",
        "plt.title('년도별 그래프')\n",
        "plt.show()"
      ]
    },
    {
      "cell_type": "markdown",
      "source": [
        "- 가로 막대 그래프"
      ],
      "metadata": {
        "id": "HxTpOPe0G79l"
      }
    },
    {
      "cell_type": "code",
      "execution_count": null,
      "metadata": {
        "id": "5-r_aj9sLp-M",
        "scrolled": true
      },
      "outputs": [],
      "source": [
        "plt.barh(X, Y)     # 막대 그래프\n",
        "plt.grid(False)\n",
        "plt.title('년도별 그래프')\n",
        "plt.show()"
      ]
    },
    {
      "cell_type": "markdown",
      "source": [
        "- 막대 색상 다르게 그리기"
      ],
      "metadata": {
        "id": "D99mxsFcG_Ab"
      }
    },
    {
      "cell_type": "code",
      "execution_count": null,
      "metadata": {
        "id": "8dR5FDzGLp-M",
        "scrolled": true
      },
      "outputs": [],
      "source": [
        "#그래프 색상 지정\n",
        "colors = ['r','g','b','c','m','y','k','w']  # 기본색상  # Hexa코드 or CSS컬러사용\n",
        "plt.bar(X, Y,color=colors)\n",
        "plt.show()"
      ]
    },
    {
      "cell_type": "markdown",
      "source": [
        "- 막대 그래프 겹쳐 그리기"
      ],
      "metadata": {
        "id": "IEU8X8zmG20M"
      }
    },
    {
      "cell_type": "code",
      "execution_count": null,
      "metadata": {
        "id": "rbWfWZZmLp-M"
      },
      "outputs": [],
      "source": [
        "# X축, Y축 데이터\n",
        "X1 = list(range(2005,2015,1))\n",
        "X2 = [x+3 for x in X1]\n",
        "Y = [15,7,2,10,8,5,14,9,18,8]\n",
        "print(list(set(X1+X2)))\n",
        "\n",
        "plt.bar(X1, Y)     # 막대 그래프\n",
        "plt.bar(X2, Y)     # 막대 그래프\n",
        "plt.title('년도별 그래프')\n",
        "plt.xticks(list(set(X1+X2)), rotation=45)           # x축 레이블 기울이기\n",
        "plt.grid(False)\n",
        "plt.show()"
      ]
    },
    {
      "cell_type": "markdown",
      "metadata": {
        "id": "k8Qm4UQWLp-M"
      },
      "source": [
        "- 2개 막대 그래프"
      ]
    },
    {
      "cell_type": "code",
      "execution_count": 51,
      "metadata": {
        "id": "-PRUBCpsLp-M",
        "colab": {
          "base_uri": "https://localhost:8080/",
          "height": 341
        },
        "outputId": "0ee46ade-d5db-415f-c4f0-603af0c63f97"
      },
      "outputs": [
        {
          "output_type": "display_data",
          "data": {
            "text/plain": [
              "<Figure size 500x300 with 1 Axes>"
            ],
            "image/png": "[encoded data removed]"
          },
          "metadata": {}
        }
      ],
      "source": [
        "# X축, Y축 데이터\n",
        "X = list(range(2005,2015,1))\n",
        "Y1= [15,7,2,10,8,5,14,9,18,8]\n",
        "Y2= [y+1 for y in Y1]\n",
        "lable = X\n",
        "X = np.arange(len(X))\n",
        "\n",
        "plt.bar(X-0.2, Y1, width=0.4, label='Y1')     # 막대 그래프\n",
        "plt.bar(X+0.2, Y2, width=0.4, label='Y2')     # 막대 그래프\n",
        "plt.xticks(X, lable)\n",
        "\n",
        "plt.title('년도별 그래프')\n",
        "plt.grid(False)\n",
        "plt.legend()\n",
        "plt.xticks(rotation=45)\n",
        "plt.show()"
      ]
    },
    {
      "cell_type": "markdown",
      "metadata": {
        "id": "zqvyC_oPqUHl"
      },
      "source": [
        "- 누적 막대 그래프"
      ]
    },
    {
      "cell_type": "code",
      "execution_count": null,
      "metadata": {
        "id": "J7ZBMS1aqXbC"
      },
      "outputs": [],
      "source": [
        "data = np.array([[5., 25., 50., 20.],\n",
        "                 [4., 23., 51., 17],\n",
        "                 [6., 22., 52., 19]])\n",
        "\n",
        "color_list = ['b', 'g', 'r']\n",
        "data_label = [\"A\",\"B\",\"C\"]\n",
        "X = np.arange(data.shape[1])\n",
        "print(X)\n",
        "\n",
        "for i in range(3):\n",
        "    plt.bar(X, data[i],\n",
        "            bottom = np.sum(data[:i], axis=0),\n",
        "            color = color_list[i],\n",
        "            label=data_label[i])\n",
        "\n",
        "plt.legend()\n",
        "plt.show()"
      ]
    },
    {
      "cell_type": "markdown",
      "metadata": {
        "id": "CkPB_ZPYqbFS"
      },
      "source": [
        "- 혼합 그래프"
      ]
    },
    {
      "cell_type": "code",
      "execution_count": null,
      "metadata": {
        "id": "RSzSQSByLp-M",
        "scrolled": true
      },
      "outputs": [],
      "source": [
        "# X축, Y축 데이터\n",
        "X = list(range(2005,2015,1))\n",
        "Y1= [15,7,2,10,8,5,14,9,18,8]\n",
        "Y2= [y+1 for y in Y1]\n",
        "\n",
        "plt.plot(X, Y1, 'o', linestyle='dashed', c='r', label='Y1') # 선 그래프\n",
        "plt.bar(X, Y2, width=0.4, label='Y2')     # 막대 그래프\n",
        "plt.xticks(X, lable)\n",
        "\n",
        "plt.title('년도별 그래프')\n",
        "plt.grid(False)\n",
        "plt.legend()\n",
        "plt.xticks(list(set(X1+X2)), rotation=45)\n",
        "plt.show()"
      ]
    },
    {
      "cell_type": "markdown",
      "metadata": {
        "id": "7Uv4n1DGLp-M"
      },
      "source": [
        "-------"
      ]
    },
    {
      "cell_type": "markdown",
      "metadata": {
        "id": "LWlPAFnMLp-N"
      },
      "source": [
        "### 원(파이) 그래프"
      ]
    },
    {
      "cell_type": "code",
      "execution_count": null,
      "metadata": {
        "id": "n40XPfhVLp-N"
      },
      "outputs": [],
      "source": [
        "import matplotlib.pyplot as plt\n",
        "import pandas as pd\n",
        "\n",
        "idx = ['1학년','2학년','3학년','4학년']\n",
        "val = [16,12,7,5]\n",
        "per = [val[x]/sum(val) *100 for x in range(len(val))]\n",
        "\n",
        "plt.pie(per, autopct='%1.1f%%',\n",
        "              textprops=dict(color=\"w\"))\n",
        "plt.title(\"학년별 동아리 회원수\")\n",
        "plt.legend(idx, title='학년', loc=\"center right\",\n",
        "          bbox_to_anchor=(1, 0, 0.5, 1))\n",
        "plt.show()"
      ]
    },
    {
      "cell_type": "markdown",
      "metadata": {
        "id": "9v7EoMxVrI6g"
      },
      "source": [
        "\n",
        "\n",
        "---\n",
        "\n"
      ]
    },
    {
      "cell_type": "markdown",
      "metadata": {
        "id": "HfNu3TM8qhVi"
      },
      "source": [
        "### 히스토그램(historgram)\n",
        "데이터 분포 표현"
      ]
    },
    {
      "cell_type": "code",
      "execution_count": null,
      "metadata": {
        "id": "GL3vnQp3qgdM"
      },
      "outputs": [],
      "source": [
        "N = 1000\n",
        "X = np.random.normal(size=N)\n",
        "\n",
        "plt.hist(X,bins=100)\n",
        "plt.show()"
      ]
    },
    {
      "cell_type": "markdown",
      "metadata": {
        "id": "Fj1ASmZ2qlX6"
      },
      "source": [
        "### 상자그림(boxplot)\n",
        "- 상자그림(boxplot) : 사분위수를 시각화하여 데이터의 분포와 밀집 정도를 표현"
      ]
    },
    {
      "cell_type": "code",
      "execution_count": null,
      "metadata": {
        "id": "Gl3eY_Bmql09"
      },
      "outputs": [],
      "source": [
        "data = np.random.randn(100,5)\n",
        "plt.boxplot(data)\n",
        "plt.show()"
      ]
    },
    {
      "cell_type": "markdown",
      "metadata": {
        "id": "pNI0FoYurEFT"
      },
      "source": [
        "\n",
        "\n",
        "---\n",
        "\n"
      ]
    },
    {
      "cell_type": "markdown",
      "metadata": {
        "id": "5sjEILZlpEiD"
      },
      "source": [
        "### 2-4. Seaborn\n"
      ]
    },
    {
      "cell_type": "markdown",
      "metadata": {
        "id": "B3u3UdehpPS7"
      },
      "source": [
        "- 시본(seaborn) : 맷플롯립을 바탕으로 다양한 함수 사용을 돕는 일종의 래퍼(wrapper) 모듈\n",
        "- 맷플롯립과 동일한 결과물이 나오며, 작성 과정이 간단\n",
        "- xticks 설정하지 않아도 각 축에 라벨 자동으로 생성\n",
        "- 데이터프레임과 x, y에 해당하는 열 이름만 지정하면 됨\n",
        "- sns.set_style(\"그래프 스타일\") : darkgrid(default), whitegrid, dark, white, ticks\n",
        "- sns.despine() : 축, 테두리 지정 : left, right, top, bottom # default"
      ]
    },
    {
      "cell_type": "markdown",
      "source": [
        "- 선 그래프"
      ],
      "metadata": {
        "id": "KYg08yjuHdXd"
      }
    },
    {
      "cell_type": "code",
      "execution_count": null,
      "metadata": {
        "id": "7loo4ABipPbx"
      },
      "outputs": [],
      "source": [
        "import numpy as np\n",
        "import pandas as pd\n",
        "import matplotlib.pyplot as plt\n",
        "import seaborn as sns                # (1)seaborn 모듈 호출\n",
        "\n",
        "fmri = sns.load_dataset(\"fmri\")       # (2) fmri 데이터셋 사용\n",
        "sns.set_style(\"whitegrid\")            # (3) 기본 스타일 적용\n",
        "sns.lineplot(x=\"timepoint\", y=\"signal\", data=fmri) # (4) 선그래프 작성\n",
        "plt.show()"
      ]
    },
    {
      "cell_type": "code",
      "execution_count": null,
      "metadata": {
        "id": "tfcPL84QpPk5"
      },
      "outputs": [],
      "source": [
        "fmri.sample(n=10, random_state=1)"
      ]
    },
    {
      "cell_type": "code",
      "execution_count": null,
      "metadata": {
        "id": "x83E7dz3rXV_"
      },
      "outputs": [],
      "source": [
        "sns.lineplot(x=\"timepoint\", y=\"signal\", hue=\"event\", data=fmri)"
      ]
    },
    {
      "cell_type": "markdown",
      "metadata": {
        "id": "gAtsnwyWrf1x"
      },
      "source": [
        "- 회귀 그래프(regression plot)\n",
        "    - 회귀식을 적용하여 선형회귀 추세선을 그래프에 함께 작성\n",
        "    - 선형회귀 추세선 : 데이터를 기반으로 데이터의 x값 대비 y값 변화를 예측하는 직선\n",
        "    - 함수 regplot 사용"
      ]
    },
    {
      "cell_type": "code",
      "source": [
        "import pandas as pd\n",
        "import matplotlib.pyplot as plt\n",
        "import seaborn as sns\n",
        "\n",
        "df = pd.read_excel('인구밀도_인구주택총조사기준.xlsx')\n",
        "df.head()\n",
        "\n",
        "sns.lineplot(data=df, x='행정구역별', y='2023')\n",
        "plt.xticks(rotation=45)\n",
        "plt.show()"
      ],
      "metadata": {
        "colab": {
          "base_uri": "https://localhost:8080/",
          "height": 502
        },
        "collapsed": true,
        "id": "8E27We47YxYz",
        "outputId": "dfaa55bb-96bb-4d64-d217-ad408591c151"
      },
      "execution_count": 2,
      "outputs": [
        {
          "output_type": "stream",
          "name": "stderr",
          "text": [
            "/usr/local/lib/python3.10/dist-packages/openpyxl/styles/stylesheet.py:237: UserWarning: Workbook contains no default style, apply openpyxl's default\n",
            "  warn(\"Workbook contains no default style, apply openpyxl's default\")\n"
          ]
        },
        {
          "output_type": "display_data",
          "data": {
            "text/plain": [
              "<Figure size 600x400 with 1 Axes>"
            ],
            "image/png": "[encoded data removed]"
          },
          "metadata": {}
        }
      ]
    },
    {
      "cell_type": "code",
      "execution_count": 3,
      "metadata": {
        "id": "jobn0ezyrXZX",
        "colab": {
          "base_uri": "https://localhost:8080/",
          "height": 407
        },
        "outputId": "7a929636-4352-4a7d-a15a-a73497920b25"
      },
      "outputs": [
        {
          "output_type": "execute_result",
          "data": {
            "text/plain": [
              "<Axes: xlabel='total_bill', ylabel='tip'>"
            ]
          },
          "metadata": {},
          "execution_count": 3
        },
        {
          "output_type": "display_data",
          "data": {
            "text/plain": [
              "<Figure size 600x400 with 1 Axes>"
            ],
            "image/png": "[encoded data removed]"
          },
          "metadata": {}
        }
      ],
      "source": [
        "tips = sns.load_dataset(\"tips\")\n",
        "tips\n",
        "sns.regplot(x=\"total_bill\", y=\"tip\", data=tips, x_ci=95)"
      ]
    },
    {
      "cell_type": "markdown",
      "metadata": {
        "id": "_IP4k74Jr3H2"
      },
      "source": [
        "- 산점도\n",
        "    - 산점도(scatter plot) : x, y를 기준으로 데이터의 분포 표현\n",
        "    - 함수 scatterplot 사용"
      ]
    },
    {
      "cell_type": "code",
      "execution_count": 4,
      "metadata": {
        "id": "7Hki8C6Er3Te",
        "colab": {
          "base_uri": "https://localhost:8080/",
          "height": 407
        },
        "outputId": "c004567a-e01e-4de1-caae-8ce19d79322e"
      },
      "outputs": [
        {
          "output_type": "execute_result",
          "data": {
            "text/plain": [
              "<Axes: xlabel='total_bill', ylabel='tip'>"
            ]
          },
          "metadata": {},
          "execution_count": 4
        },
        {
          "output_type": "display_data",
          "data": {
            "text/plain": [
              "<Figure size 600x400 with 1 Axes>"
            ],
            "image/png": "[encoded data removed]"
          },
          "metadata": {}
        }
      ],
      "source": [
        "tips = sns.load_dataset(\"tips\")\n",
        "sns.scatterplot(x=\"total_bill\", y=\"tip\", hue=\"time\", data=tips)"
      ]
    },
    {
      "cell_type": "markdown",
      "metadata": {
        "id": "Db5shRnJsAV5"
      },
      "source": [
        "- 비교 그래프(counter plot)\n",
        "    -  범주형 데이터의 항목별 개수"
      ]
    },
    {
      "cell_type": "code",
      "execution_count": null,
      "metadata": {
        "id": "7sF2QlO8sAmw"
      },
      "outputs": [],
      "source": [
        "tips = sns.load_dataset(\"tips\")\n",
        "sns.countplot(x=\"smoker\", hue=\"time\", data=tips)"
      ]
    },
    {
      "cell_type": "markdown",
      "source": [
        "- 히트맵(heatmap)\n",
        "    - 수치형 데이터의 상관계수로 상관관계를 그려주는 그래프"
      ],
      "metadata": {
        "id": "CSRUbSqHI0m1"
      }
    },
    {
      "cell_type": "code",
      "source": [
        "sns.heatmap(tips.corr(numeric_only=True), annot=True)\n"
      ],
      "metadata": {
        "id": "1kxgcEUmI0wk",
        "colab": {
          "base_uri": "https://localhost:8080/",
          "height": 392
        },
        "outputId": "89d32e2b-5be1-4c9e-e96f-103ba93687c8"
      },
      "execution_count": 5,
      "outputs": [
        {
          "output_type": "execute_result",
          "data": {
            "text/plain": [
              "<Axes: >"
            ]
          },
          "metadata": {},
          "execution_count": 5
        },
        {
          "output_type": "display_data",
          "data": {
            "text/plain": [
              "<Figure size 600x400 with 2 Axes>"
            ],
            "image/png": "[encoded data removed]"
          },
          "metadata": {}
        }
      ]
    },
    {
      "cell_type": "markdown",
      "metadata": {
        "id": "s-Rflz3asJPm"
      },
      "source": [
        "- 분포를 나타내는 그래프\n",
        "    - 바이올린 플롯(violin plot) : 상자그림과 분포도를 한 번에 나타낼 수 있음"
      ]
    },
    {
      "cell_type": "code",
      "execution_count": null,
      "metadata": {
        "id": "luHl8yMOsJal"
      },
      "outputs": [],
      "source": [
        "sns.violinplot(x=\"day\", y=\"total_bill\", hue=\"smoker\",data=tips, palette=\"muted\")"
      ]
    },
    {
      "cell_type": "markdown",
      "metadata": {
        "id": "TQoQhcDLsRgP"
      },
      "source": [
        "- 스웜 플롯(swarm plot)\n",
        "    - 바이올린 플롯과 같은 형태에 산점도로 데이터 분포를 나타냄"
      ]
    },
    {
      "cell_type": "code",
      "execution_count": null,
      "metadata": {
        "id": "aXyMfEArsRpG"
      },
      "outputs": [],
      "source": [
        "sns.swarmplot(x=\"day\", y=\"total_bill\", hue=\"smoker\", data=tips, palette=\"muted\")"
      ]
    },
    {
      "cell_type": "markdown",
      "metadata": {
        "id": "wpu6_xebsZNO"
      },
      "source": [
        "- 다양한 범주형 데이터를 나타내는 패싯그리드\n",
        "    - 패싯그리드(FacetGrid) : 그래프의 틀만 제공하여 적당한 그래프를 그려주는 클래스\n",
        "    - 그리드가 생성된 후 맵(map)을 사용하여 그래프 만듦\n",
        "    - 각 FacetGrid에 있는 개별 그래프 영역에 그래프를 집어넣는 구조\n",
        "    - 전체 데이터를 범주형 데이터의 다양한 관점에서 나눠서 볼 수 있음"
      ]
    },
    {
      "cell_type": "code",
      "execution_count": 6,
      "metadata": {
        "id": "e7S6fVZ0sZbe",
        "colab": {
          "base_uri": "https://localhost:8080/",
          "height": 626
        },
        "outputId": "c77ed1b8-490b-4dcc-fc08-c484ae3f4e57"
      },
      "outputs": [
        {
          "output_type": "execute_result",
          "data": {
            "text/plain": [
              "<seaborn.axisgrid.FacetGrid at 0x78e218120d30>"
            ]
          },
          "metadata": {},
          "execution_count": 6
        },
        {
          "output_type": "display_data",
          "data": {
            "text/plain": [
              "<Figure size 600x600 with 4 Axes>"
            ],
            "image/png": "[encoded data removed]"
          },
          "metadata": {}
        }
      ],
      "source": [
        "g = sns.FacetGrid(tips, col=\"time\", row=\"sex\")\n",
        "g.map(sns.scatterplot, \"total_bill\", \"tip\")"
      ]
    },
    {
      "cell_type": "code",
      "execution_count": null,
      "metadata": {
        "id": "6LPn4_uxsiDa"
      },
      "outputs": [],
      "source": [
        "g = sns.FacetGrid(tips, col=\"time\", row=\"sex\")\n",
        "g.map_dataframe(sns.histplot, x=\"total_bill\")"
      ]
    },
    {
      "cell_type": "markdown",
      "metadata": {
        "id": "XLWzcXW6pK-W"
      },
      "source": [
        "### 2-5. Plotly\n",
        "- 플롯리(plotly) : 비즈니스 인텔리전스(Business Intelligence) 대시보드로 개발된 도구\n",
        "- 맷플롯립이나 시본은 데이터 분석가들이 데이터의 형태나 분포를 살피기 위해 코드로 사용하는 도구\n",
        "- 문법은 맷플롯립이나 시본과 유사\n",
        "- 인터랙션 그래프를 지원\n",
        " * 생성된 그래프에 마우스 커서를 올리면 데이터를 볼 수 있음 (인터랙션 그래프)"
      ]
    },
    {
      "cell_type": "code",
      "execution_count": null,
      "metadata": {
        "id": "nJBb6j0rpQRa"
      },
      "outputs": [],
      "source": [
        "import plotly.express as px\n",
        "\n",
        "df = px.data.iris()     # iris는 판다스 데이터프레임\n",
        "fig = px.scatter(df, x=\"sepal_width\", y=\"sepal_length\")\n",
        "fig.show()"
      ]
    },
    {
      "cell_type": "markdown",
      "metadata": {
        "id": "Cfw18WMYswkj"
      },
      "source": [
        "- 좌표 그래프(coordinates plot)\n",
        "    - 데이터 간 관계를 표현(시본은 제공하지 않지만 플롯리에서 제공하는 기능)"
      ]
    },
    {
      "cell_type": "code",
      "execution_count": null,
      "metadata": {
        "id": "9phXr-A3swtB"
      },
      "outputs": [],
      "source": [
        "fig = px.parallel_coordinates(df, color=\"species_id\",\n",
        "        labels={\"species_id\": \"Species\",\n",
        "                \"sepal_width\": \"Sepal Width\", \"sepal_length\": \"Sepal Length\",\n",
        "                \"petal_width\": \"Petal Width\", \"petal_length\": \"Petal Length\", },\n",
        "                color_continuous_scale=  px.colors.diverging.Tealrose, color_continuous_midpoint=2)\n",
        "fig.show()"
      ]
    },
    {
      "cell_type": "markdown",
      "source": [
        "#### 샘플 데이터: 전세계 행복지수"
      ],
      "metadata": {
        "id": "Hr7dOtNCNyWy"
      }
    },
    {
      "cell_type": "code",
      "source": [
        "import plotly.express as px\n",
        "\n",
        "filename = './world-happiness-report-2021.csv'\n",
        "happiness_data = pd.read_csv(filename)\n",
        "happiness.head()\n",
        "happiness = happiness_data.iloc[:,[0,1,2,6,7,8,9,10,11]]\n",
        "happiness.head()"
      ],
      "metadata": {
        "id": "jrBW8MWwMDFb",
        "colab": {
          "base_uri": "https://localhost:8080/",
          "height": 327
        },
        "outputId": "7faa3c9e-d34b-44c4-e32c-fc50fe855c9d"
      },
      "execution_count": 9,
      "outputs": [
        {
          "output_type": "execute_result",
          "data": {
            "text/plain": [
              "  Country name Regional indicator  Ladder score  Logged GDP per capita  \\\n",
              "0      Finland     Western Europe         7.842                 10.775   \n",
              "1      Denmark     Western Europe         7.620                 10.933   \n",
              "2  Switzerland     Western Europe         7.571                 11.117   \n",
              "3      Iceland     Western Europe         7.554                 10.878   \n",
              "4  Netherlands     Western Europe         7.464                 10.932   \n",
              "\n",
              "   Social support  Healthy life expectancy  Freedom to make life choices  \\\n",
              "0           0.954                     72.0                         0.949   \n",
              "1           0.954                     72.7                         0.946   \n",
              "2           0.942                     74.4                         0.919   \n",
              "3           0.983                     73.0                         0.955   \n",
              "4           0.942                     72.4                         0.913   \n",
              "\n",
              "   Generosity  Perceptions of corruption  \n",
              "0      -0.098                      0.186  \n",
              "1       0.030                      0.179  \n",
              "2       0.025                      0.292  \n",
              "3       0.160                      0.673  \n",
              "4       0.175                      0.338  "
            ],
            "text/html": [
              "\n",
              "  <div id=\"df-77dc101f-3841-4c75-a9ca-a94a6c0b5521\" class=\"colab-df-container\">\n",
              "    <div>\n",
              "<style scoped>\n",
              "    .dataframe tbody tr th:only-of-type {\n",
              "        vertical-align: middle;\n",
              "    }\n",
              "\n",
              "    .dataframe tbody tr th {\n",
              "        vertical-align: top;\n",
              "    }\n",
              "\n",
              "    .dataframe thead th {\n",
              "        text-align: right;\n",
              "    }\n",
              "</style>\n",
              "<table border=\"1\" class=\"dataframe\">\n",
              "  <thead>\n",
              "    <tr style=\"text-align: right;\">\n",
              "      <th></th>\n",
              "      <th>Country name</th>\n",
              "      <th>Regional indicator</th>\n",
              "      <th>Ladder score</th>\n",
              "      <th>Logged GDP per capita</th>\n",
              "      <th>Social support</th>\n",
              "      <th>Healthy life expectancy</th>\n",
              "      <th>Freedom to make life choices</th>\n",
              "      <th>Generosity</th>\n",
              "      <th>Perceptions of corruption</th>\n",
              "    </tr>\n",
              "  </thead>\n",
              "  <tbody>\n",
              "    <tr>\n",
              "      <th>0</th>\n",
              "      <td>Finland</td>\n",
              "      <td>Western Europe</td>\n",
              "      <td>7.842</td>\n",
              "      <td>10.775</td>\n",
              "      <td>0.954</td>\n",
              "      <td>72.0</td>\n",
              "      <td>0.949</td>\n",
              "      <td>-0.098</td>\n",
              "      <td>0.186</td>\n",
              "    </tr>\n",
              "    <tr>\n",
              "      <th>1</th>\n",
              "      <td>Denmark</td>\n",
              "      <td>Western Europe</td>\n",
              "      <td>7.620</td>\n",
              "      <td>10.933</td>\n",
              "      <td>0.954</td>\n",
              "      <td>72.7</td>\n",
              "      <td>0.946</td>\n",
              "      <td>0.030</td>\n",
              "      <td>0.179</td>\n",
              "    </tr>\n",
              "    <tr>\n",
              "      <th>2</th>\n",
              "      <td>Switzerland</td>\n",
              "      <td>Western Europe</td>\n",
              "      <td>7.571</td>\n",
              "      <td>11.117</td>\n",
              "      <td>0.942</td>\n",
              "      <td>74.4</td>\n",
              "      <td>0.919</td>\n",
              "      <td>0.025</td>\n",
              "      <td>0.292</td>\n",
              "    </tr>\n",
              "    <tr>\n",
              "      <th>3</th>\n",
              "      <td>Iceland</td>\n",
              "      <td>Western Europe</td>\n",
              "      <td>7.554</td>\n",
              "      <td>10.878</td>\n",
              "      <td>0.983</td>\n",
              "      <td>73.0</td>\n",
              "      <td>0.955</td>\n",
              "      <td>0.160</td>\n",
              "      <td>0.673</td>\n",
              "    </tr>\n",
              "    <tr>\n",
              "      <th>4</th>\n",
              "      <td>Netherlands</td>\n",
              "      <td>Western Europe</td>\n",
              "      <td>7.464</td>\n",
              "      <td>10.932</td>\n",
              "      <td>0.942</td>\n",
              "      <td>72.4</td>\n",
              "      <td>0.913</td>\n",
              "      <td>0.175</td>\n",
              "      <td>0.338</td>\n",
              "    </tr>\n",
              "  </tbody>\n",
              "</table>\n",
              "</div>\n",
              "    <div class=\"colab-df-buttons\">\n",
              "\n",
              "  <div class=\"colab-df-container\">\n",
              "    <button class=\"colab-df-convert\" onclick=\"convertToInteractive('df-77dc101f-3841-4c75-a9ca-a94a6c0b5521')\"\n",
              "            title=\"Convert this dataframe to an interactive table.\"\n",
              "            style=\"display:none;\">\n",
              "\n",
              "  <svg xmlns=\"http://www.w3.org/2000/svg\" height=\"24px\" viewBox=\"0 -960 960 960\">\n",
              "    <path d=\"M120-120v-720h720v720H120Zm60-500h600v-160H180v160Zm220 220h160v-160H400v160Zm0 220h160v-160H400v160ZM180-400h160v-160H180v160Zm440 0h160v-160H620v160ZM180-180h160v-160H180v160Zm440 0h160v-160H620v160Z\"/>\n",
              "  </svg>\n",
              "    </button>\n",
              "\n",
              "  <style>\n",
              "    .colab-df-container {\n",
              "      display:flex;\n",
              "      gap: 12px;\n",
              "    }\n",
              "\n",
              "    .colab-df-convert {\n",
              "      background-color: #E8F0FE;\n",
              "      border: none;\n",
              "      border-radius: 50%;\n",
              "      cursor: pointer;\n",
              "      display: none;\n",
              "      fill: #1967D2;\n",
              "      height: 32px;\n",
              "      padding: 0 0 0 0;\n",
              "      width: 32px;\n",
              "    }\n",
              "\n",
              "    .colab-df-convert:hover {\n",
              "      background-color: #E2EBFA;\n",
              "      box-shadow: 0px 1px 2px rgba(60, 64, 67, 0.3), 0px 1px 3px 1px rgba(60, 64, 67, 0.15);\n",
              "      fill: #174EA6;\n",
              "    }\n",
              "\n",
              "    .colab-df-buttons div {\n",
              "      margin-bottom: 4px;\n",
              "    }\n",
              "\n",
              "    [theme=dark] .colab-df-convert {\n",
              "      background-color: #3B4455;\n",
              "      fill: #D2E3FC;\n",
              "    }\n",
              "\n",
              "    [theme=dark] .colab-df-convert:hover {\n",
              "      background-color: #434B5C;\n",
              "      box-shadow: 0px 1px 3px 1px rgba(0, 0, 0, 0.15);\n",
              "      filter: drop-shadow(0px 1px 2px rgba(0, 0, 0, 0.3));\n",
              "      fill: #FFFFFF;\n",
              "    }\n",
              "  </style>\n",
              "\n",
              "    <script>\n",
              "      const buttonEl =\n",
              "        document.querySelector('#df-77dc101f-3841-4c75-a9ca-a94a6c0b5521 button.colab-df-convert');\n",
              "      buttonEl.style.display =\n",
              "        google.colab.kernel.accessAllowed ? 'block' : 'none';\n",
              "\n",
              "      async function convertToInteractive(key) {\n",
              "        const element = document.querySelector('#df-77dc101f-3841-4c75-a9ca-a94a6c0b5521');\n",
              "        const dataTable =\n",
              "          await google.colab.kernel.invokeFunction('convertToInteractive',\n",
              "                                                    [key], {});\n",
              "        if (!dataTable) return;\n",
              "\n",
              "        const docLinkHtml = 'Like what you see? Visit the ' +\n",
              "          '<a target=\"_blank\" href=https://colab.research.google.com/notebooks/data_table.ipynb>data table notebook</a>'\n",
              "          + ' to learn more about interactive tables.';\n",
              "        element.innerHTML = '';\n",
              "        dataTable['output_type'] = 'display_data';\n",
              "        await google.colab.output.renderOutput(dataTable, element);\n",
              "        const docLink = document.createElement('div');\n",
              "        docLink.innerHTML = docLinkHtml;\n",
              "        element.appendChild(docLink);\n",
              "      }\n",
              "    </script>\n",
              "  </div>\n",
              "\n",
              "\n",
              "<div id=\"df-26d633c0-56d8-49d7-9b3a-9fa444dec721\">\n",
              "  <button class=\"colab-df-quickchart\" onclick=\"quickchart('df-26d633c0-56d8-49d7-9b3a-9fa444dec721')\"\n",
              "            title=\"Suggest charts\"\n",
              "            style=\"display:none;\">\n",
              "\n",
              "<svg xmlns=\"http://www.w3.org/2000/svg\" height=\"24px\"viewBox=\"0 0 24 24\"\n",
              "     width=\"24px\">\n",
              "    <g>\n",
              "        <path d=\"M19 3H5c-1.1 0-2 .9-2 2v14c0 1.1.9 2 2 2h14c1.1 0 2-.9 2-2V5c0-1.1-.9-2-2-2zM9 17H7v-7h2v7zm4 0h-2V7h2v10zm4 0h-2v-4h2v4z\"/>\n",
              "    </g>\n",
              "</svg>\n",
              "  </button>\n",
              "\n",
              "<style>\n",
              "  .colab-df-quickchart {\n",
              "      --bg-color: #E8F0FE;\n",
              "      --fill-color: #1967D2;\n",
              "      --hover-bg-color: #E2EBFA;\n",
              "      --hover-fill-color: #174EA6;\n",
              "      --disabled-fill-color: #AAA;\n",
              "      --disabled-bg-color: #DDD;\n",
              "  }\n",
              "\n",
              "  [theme=dark] .colab-df-quickchart {\n",
              "      --bg-color: #3B4455;\n",
              "      --fill-color: #D2E3FC;\n",
              "      --hover-bg-color: #434B5C;\n",
              "      --hover-fill-color: #FFFFFF;\n",
              "      --disabled-bg-color: #3B4455;\n",
              "      --disabled-fill-color: #666;\n",
              "  }\n",
              "\n",
              "  .colab-df-quickchart {\n",
              "    background-color: var(--bg-color);\n",
              "    border: none;\n",
              "    border-radius: 50%;\n",
              "    cursor: pointer;\n",
              "    display: none;\n",
              "    fill: var(--fill-color);\n",
              "    height: 32px;\n",
              "    padding: 0;\n",
              "    width: 32px;\n",
              "  }\n",
              "\n",
              "  .colab-df-quickchart:hover {\n",
              "    background-color: var(--hover-bg-color);\n",
              "    box-shadow: 0 1px 2px rgba(60, 64, 67, 0.3), 0 1px 3px 1px rgba(60, 64, 67, 0.15);\n",
              "    fill: var(--button-hover-fill-color);\n",
              "  }\n",
              "\n",
              "  .colab-df-quickchart-complete:disabled,\n",
              "  .colab-df-quickchart-complete:disabled:hover {\n",
              "    background-color: var(--disabled-bg-color);\n",
              "    fill: var(--disabled-fill-color);\n",
              "    box-shadow: none;\n",
              "  }\n",
              "\n",
              "  .colab-df-spinner {\n",
              "    border: 2px solid var(--fill-color);\n",
              "    border-color: transparent;\n",
              "    border-bottom-color: var(--fill-color);\n",
              "    animation:\n",
              "      spin 1s steps(1) infinite;\n",
              "  }\n",
              "\n",
              "  @keyframes spin {\n",
              "    0% {\n",
              "      border-color: transparent;\n",
              "      border-bottom-color: var(--fill-color);\n",
              "      border-left-color: var(--fill-color);\n",
              "    }\n",
              "    20% {\n",
              "      border-color: transparent;\n",
              "      border-left-color: var(--fill-color);\n",
              "      border-top-color: var(--fill-color);\n",
              "    }\n",
              "    30% {\n",
              "      border-color: transparent;\n",
              "      border-left-color: var(--fill-color);\n",
              "      border-top-color: var(--fill-color);\n",
              "      border-right-color: var(--fill-color);\n",
              "    }\n",
              "    40% {\n",
              "      border-color: transparent;\n",
              "      border-right-color: var(--fill-color);\n",
              "      border-top-color: var(--fill-color);\n",
              "    }\n",
              "    60% {\n",
              "      border-color: transparent;\n",
              "      border-right-color: var(--fill-color);\n",
              "    }\n",
              "    80% {\n",
              "      border-color: transparent;\n",
              "      border-right-color: var(--fill-color);\n",
              "      border-bottom-color: var(--fill-color);\n",
              "    }\n",
              "    90% {\n",
              "      border-color: transparent;\n",
              "      border-bottom-color: var(--fill-color);\n",
              "    }\n",
              "  }\n",
              "</style>\n",
              "\n",
              "  <script>\n",
              "    async function quickchart(key) {\n",
              "      const quickchartButtonEl =\n",
              "        document.querySelector('#' + key + ' button');\n",
              "      quickchartButtonEl.disabled = true;  // To prevent multiple clicks.\n",
              "      quickchartButtonEl.classList.add('colab-df-spinner');\n",
              "      try {\n",
              "        const charts = await google.colab.kernel.invokeFunction(\n",
              "            'suggestCharts', [key], {});\n",
              "      } catch (error) {\n",
              "        console.error('Error during call to suggestCharts:', error);\n",
              "      }\n",
              "      quickchartButtonEl.classList.remove('colab-df-spinner');\n",
              "      quickchartButtonEl.classList.add('colab-df-quickchart-complete');\n",
              "    }\n",
              "    (() => {\n",
              "      let quickchartButtonEl =\n",
              "        document.querySelector('#df-26d633c0-56d8-49d7-9b3a-9fa444dec721 button');\n",
              "      quickchartButtonEl.style.display =\n",
              "        google.colab.kernel.accessAllowed ? 'block' : 'none';\n",
              "    })();\n",
              "  </script>\n",
              "</div>\n",
              "\n",
              "    </div>\n",
              "  </div>\n"
            ],
            "application/vnd.google.colaboratory.intrinsic+json": {
              "type": "dataframe",
              "variable_name": "happiness",
              "summary": "{\n  \"name\": \"happiness\",\n  \"rows\": 149,\n  \"fields\": [\n    {\n      \"column\": \"Country name\",\n      \"properties\": {\n        \"dtype\": \"string\",\n        \"num_unique_values\": 149,\n        \"samples\": [\n          \"North Cyprus\",\n          \"United States\",\n          \"Iran\"\n        ],\n        \"semantic_type\": \"\",\n        \"description\": \"\"\n      }\n    },\n    {\n      \"column\": \"Regional indicator\",\n      \"properties\": {\n        \"dtype\": \"category\",\n        \"num_unique_values\": 10,\n        \"samples\": [\n          \"Sub-Saharan Africa\",\n          \"North America and ANZ\",\n          \"East Asia\"\n        ],\n        \"semantic_type\": \"\",\n        \"description\": \"\"\n      }\n    },\n    {\n      \"column\": \"Ladder score\",\n      \"properties\": {\n        \"dtype\": \"number\",\n        \"std\": 1.0739235658235977,\n        \"min\": 2.523,\n        \"max\": 7.842,\n        \"num_unique_values\": 147,\n        \"samples\": [\n          4.355,\n          6.012,\n          3.658\n        ],\n        \"semantic_type\": \"\",\n        \"description\": \"\"\n      }\n    },\n    {\n      \"column\": \"Logged GDP per capita\",\n      \"properties\": {\n        \"dtype\": \"number\",\n        \"std\": 1.1586014476640767,\n        \"min\": 6.635,\n        \"max\": 11.647,\n        \"num_unique_values\": 148,\n        \"samples\": [\n          9.182,\n          9.557,\n          7.578\n        ],\n        \"semantic_type\": \"\",\n        \"description\": \"\"\n      }\n    },\n    {\n      \"column\": \"Social support\",\n      \"properties\": {\n        \"dtype\": \"number\",\n        \"std\": 0.11488902720653998,\n        \"min\": 0.463,\n        \"max\": 0.983,\n        \"num_unique_values\": 119,\n        \"samples\": [\n          0.853,\n          0.74,\n          0.908\n        ],\n        \"semantic_type\": \"\",\n        \"description\": \"\"\n      }\n    },\n    {\n      \"column\": \"Healthy life expectancy\",\n      \"properties\": {\n        \"dtype\": \"number\",\n        \"std\": 6.762043090404309,\n        \"min\": 48.478,\n        \"max\": 76.953,\n        \"num_unique_values\": 135,\n        \"samples\": [\n          64.902,\n          68.034,\n          66.3\n        ],\n        \"semantic_type\": \"\",\n        \"description\": \"\"\n      }\n    },\n    {\n      \"column\": \"Freedom to make life choices\",\n      \"properties\": {\n        \"dtype\": \"number\",\n        \"std\": 0.11333178506605256,\n        \"min\": 0.382,\n        \"max\": 0.97,\n        \"num_unique_values\": 126,\n        \"samples\": [\n          0.873,\n          0.783,\n          0.893\n        ],\n        \"semantic_type\": \"\",\n        \"description\": \"\"\n      }\n    },\n    {\n      \"column\": \"Generosity\",\n      \"properties\": {\n        \"dtype\": \"number\",\n        \"std\": 0.15065670021779695,\n        \"min\": -0.288,\n        \"max\": 0.542,\n        \"num_unique_values\": 130,\n        \"samples\": [\n          -0.244,\n          -0.044,\n          -0.153\n        ],\n        \"semantic_type\": \"\",\n        \"description\": \"\"\n      }\n    },\n    {\n      \"column\": \"Perceptions of corruption\",\n      \"properties\": {\n        \"dtype\": \"number\",\n        \"std\": 0.17922631911280354,\n        \"min\": 0.082,\n        \"max\": 0.939,\n        \"num_unique_values\": 130,\n        \"samples\": [\n          0.638,\n          0.856,\n          0.646\n        ],\n        \"semantic_type\": \"\",\n        \"description\": \"\"\n      }\n    }\n  ]\n}"
            }
          },
          "metadata": {},
          "execution_count": 9
        }
      ]
    },
    {
      "cell_type": "markdown",
      "source": [
        "- 가로막대형그래프 시각화 : 행복지수가 높거나, 낮은 국가"
      ],
      "metadata": {
        "id": "NZX3XcElMX5D"
      }
    },
    {
      "cell_type": "code",
      "source": [
        "happinessFilter = happiness[(happiness.loc[:,'Ladder score']>=7.5) |\\\n",
        "                            (happiness.loc[:,'Ladder score']<=3.5)]\n",
        "sns.barplot(x='Ladder score', y='Country name', data=happinessFilter, palette='coolwarm')"
      ],
      "metadata": {
        "id": "BhhlkCnCMVBx"
      },
      "execution_count": null,
      "outputs": []
    },
    {
      "cell_type": "code",
      "source": [
        "happiness[happiness.loc[:,'Ladder score']>= 7.5]"
      ],
      "metadata": {
        "colab": {
          "base_uri": "https://localhost:8080/",
          "height": 279
        },
        "id": "5tuq94eQi8f2",
        "outputId": "f3f4c12a-4151-42c7-a86d-04711331f450"
      },
      "execution_count": 10,
      "outputs": [
        {
          "output_type": "execute_result",
          "data": {
            "text/plain": [
              "  Country name Regional indicator  Ladder score  Logged GDP per capita  \\\n",
              "0      Finland     Western Europe         7.842                 10.775   \n",
              "1      Denmark     Western Europe         7.620                 10.933   \n",
              "2  Switzerland     Western Europe         7.571                 11.117   \n",
              "3      Iceland     Western Europe         7.554                 10.878   \n",
              "\n",
              "   Social support  Healthy life expectancy  Freedom to make life choices  \\\n",
              "0           0.954                     72.0                         0.949   \n",
              "1           0.954                     72.7                         0.946   \n",
              "2           0.942                     74.4                         0.919   \n",
              "3           0.983                     73.0                         0.955   \n",
              "\n",
              "   Generosity  Perceptions of corruption  \n",
              "0      -0.098                      0.186  \n",
              "1       0.030                      0.179  \n",
              "2       0.025                      0.292  \n",
              "3       0.160                      0.673  "
            ],
            "text/html": [
              "\n",
              "  <div id=\"df-1e396837-5744-44bb-ae2f-c28fb5c1a4fe\" class=\"colab-df-container\">\n",
              "    <div>\n",
              "<style scoped>\n",
              "    .dataframe tbody tr th:only-of-type {\n",
              "        vertical-align: middle;\n",
              "    }\n",
              "\n",
              "    .dataframe tbody tr th {\n",
              "        vertical-align: top;\n",
              "    }\n",
              "\n",
              "    .dataframe thead th {\n",
              "        text-align: right;\n",
              "    }\n",
              "</style>\n",
              "<table border=\"1\" class=\"dataframe\">\n",
              "  <thead>\n",
              "    <tr style=\"text-align: right;\">\n",
              "      <th></th>\n",
              "      <th>Country name</th>\n",
              "      <th>Regional indicator</th>\n",
              "      <th>Ladder score</th>\n",
              "      <th>Logged GDP per capita</th>\n",
              "      <th>Social support</th>\n",
              "      <th>Healthy life expectancy</th>\n",
              "      <th>Freedom to make life choices</th>\n",
              "      <th>Generosity</th>\n",
              "      <th>Perceptions of corruption</th>\n",
              "    </tr>\n",
              "  </thead>\n",
              "  <tbody>\n",
              "    <tr>\n",
              "      <th>0</th>\n",
              "      <td>Finland</td>\n",
              "      <td>Western Europe</td>\n",
              "      <td>7.842</td>\n",
              "      <td>10.775</td>\n",
              "      <td>0.954</td>\n",
              "      <td>72.0</td>\n",
              "      <td>0.949</td>\n",
              "      <td>-0.098</td>\n",
              "      <td>0.186</td>\n",
              "    </tr>\n",
              "    <tr>\n",
              "      <th>1</th>\n",
              "      <td>Denmark</td>\n",
              "      <td>Western Europe</td>\n",
              "      <td>7.620</td>\n",
              "      <td>10.933</td>\n",
              "      <td>0.954</td>\n",
              "      <td>72.7</td>\n",
              "      <td>0.946</td>\n",
              "      <td>0.030</td>\n",
              "      <td>0.179</td>\n",
              "    </tr>\n",
              "    <tr>\n",
              "      <th>2</th>\n",
              "      <td>Switzerland</td>\n",
              "      <td>Western Europe</td>\n",
              "      <td>7.571</td>\n",
              "      <td>11.117</td>\n",
              "      <td>0.942</td>\n",
              "      <td>74.4</td>\n",
              "      <td>0.919</td>\n",
              "      <td>0.025</td>\n",
              "      <td>0.292</td>\n",
              "    </tr>\n",
              "    <tr>\n",
              "      <th>3</th>\n",
              "      <td>Iceland</td>\n",
              "      <td>Western Europe</td>\n",
              "      <td>7.554</td>\n",
              "      <td>10.878</td>\n",
              "      <td>0.983</td>\n",
              "      <td>73.0</td>\n",
              "      <td>0.955</td>\n",
              "      <td>0.160</td>\n",
              "      <td>0.673</td>\n",
              "    </tr>\n",
              "  </tbody>\n",
              "</table>\n",
              "</div>\n",
              "    <div class=\"colab-df-buttons\">\n",
              "\n",
              "  <div class=\"colab-df-container\">\n",
              "    <button class=\"colab-df-convert\" onclick=\"convertToInteractive('df-1e396837-5744-44bb-ae2f-c28fb5c1a4fe')\"\n",
              "            title=\"Convert this dataframe to an interactive table.\"\n",
              "            style=\"display:none;\">\n",
              "\n",
              "  <svg xmlns=\"http://www.w3.org/2000/svg\" height=\"24px\" viewBox=\"0 -960 960 960\">\n",
              "    <path d=\"M120-120v-720h720v720H120Zm60-500h600v-160H180v160Zm220 220h160v-160H400v160Zm0 220h160v-160H400v160ZM180-400h160v-160H180v160Zm440 0h160v-160H620v160ZM180-180h160v-160H180v160Zm440 0h160v-160H620v160Z\"/>\n",
              "  </svg>\n",
              "    </button>\n",
              "\n",
              "  <style>\n",
              "    .colab-df-container {\n",
              "      display:flex;\n",
              "      gap: 12px;\n",
              "    }\n",
              "\n",
              "    .colab-df-convert {\n",
              "      background-color: #E8F0FE;\n",
              "      border: none;\n",
              "      border-radius: 50%;\n",
              "      cursor: pointer;\n",
              "      display: none;\n",
              "      fill: #1967D2;\n",
              "      height: 32px;\n",
              "      padding: 0 0 0 0;\n",
              "      width: 32px;\n",
              "    }\n",
              "\n",
              "    .colab-df-convert:hover {\n",
              "      background-color: #E2EBFA;\n",
              "      box-shadow: 0px 1px 2px rgba(60, 64, 67, 0.3), 0px 1px 3px 1px rgba(60, 64, 67, 0.15);\n",
              "      fill: #174EA6;\n",
              "    }\n",
              "\n",
              "    .colab-df-buttons div {\n",
              "      margin-bottom: 4px;\n",
              "    }\n",
              "\n",
              "    [theme=dark] .colab-df-convert {\n",
              "      background-color: #3B4455;\n",
              "      fill: #D2E3FC;\n",
              "    }\n",
              "\n",
              "    [theme=dark] .colab-df-convert:hover {\n",
              "      background-color: #434B5C;\n",
              "      box-shadow: 0px 1px 3px 1px rgba(0, 0, 0, 0.15);\n",
              "      filter: drop-shadow(0px 1px 2px rgba(0, 0, 0, 0.3));\n",
              "      fill: #FFFFFF;\n",
              "    }\n",
              "  </style>\n",
              "\n",
              "    <script>\n",
              "      const buttonEl =\n",
              "        document.querySelector('#df-1e396837-5744-44bb-ae2f-c28fb5c1a4fe button.colab-df-convert');\n",
              "      buttonEl.style.display =\n",
              "        google.colab.kernel.accessAllowed ? 'block' : 'none';\n",
              "\n",
              "      async function convertToInteractive(key) {\n",
              "        const element = document.querySelector('#df-1e396837-5744-44bb-ae2f-c28fb5c1a4fe');\n",
              "        const dataTable =\n",
              "          await google.colab.kernel.invokeFunction('convertToInteractive',\n",
              "                                                    [key], {});\n",
              "        if (!dataTable) return;\n",
              "\n",
              "        const docLinkHtml = 'Like what you see? Visit the ' +\n",
              "          '<a target=\"_blank\" href=https://colab.research.google.com/notebooks/data_table.ipynb>data table notebook</a>'\n",
              "          + ' to learn more about interactive tables.';\n",
              "        element.innerHTML = '';\n",
              "        dataTable['output_type'] = 'display_data';\n",
              "        await google.colab.output.renderOutput(dataTable, element);\n",
              "        const docLink = document.createElement('div');\n",
              "        docLink.innerHTML = docLinkHtml;\n",
              "        element.appendChild(docLink);\n",
              "      }\n",
              "    </script>\n",
              "  </div>\n",
              "\n",
              "\n",
              "<div id=\"df-111dd777-6a53-462d-91ae-862669c44e51\">\n",
              "  <button class=\"colab-df-quickchart\" onclick=\"quickchart('df-111dd777-6a53-462d-91ae-862669c44e51')\"\n",
              "            title=\"Suggest charts\"\n",
              "            style=\"display:none;\">\n",
              "\n",
              "<svg xmlns=\"http://www.w3.org/2000/svg\" height=\"24px\"viewBox=\"0 0 24 24\"\n",
              "     width=\"24px\">\n",
              "    <g>\n",
              "        <path d=\"M19 3H5c-1.1 0-2 .9-2 2v14c0 1.1.9 2 2 2h14c1.1 0 2-.9 2-2V5c0-1.1-.9-2-2-2zM9 17H7v-7h2v7zm4 0h-2V7h2v10zm4 0h-2v-4h2v4z\"/>\n",
              "    </g>\n",
              "</svg>\n",
              "  </button>\n",
              "\n",
              "<style>\n",
              "  .colab-df-quickchart {\n",
              "      --bg-color: #E8F0FE;\n",
              "      --fill-color: #1967D2;\n",
              "      --hover-bg-color: #E2EBFA;\n",
              "      --hover-fill-color: #174EA6;\n",
              "      --disabled-fill-color: #AAA;\n",
              "      --disabled-bg-color: #DDD;\n",
              "  }\n",
              "\n",
              "  [theme=dark] .colab-df-quickchart {\n",
              "      --bg-color: #3B4455;\n",
              "      --fill-color: #D2E3FC;\n",
              "      --hover-bg-color: #434B5C;\n",
              "      --hover-fill-color: #FFFFFF;\n",
              "      --disabled-bg-color: #3B4455;\n",
              "      --disabled-fill-color: #666;\n",
              "  }\n",
              "\n",
              "  .colab-df-quickchart {\n",
              "    background-color: var(--bg-color);\n",
              "    border: none;\n",
              "    border-radius: 50%;\n",
              "    cursor: pointer;\n",
              "    display: none;\n",
              "    fill: var(--fill-color);\n",
              "    height: 32px;\n",
              "    padding: 0;\n",
              "    width: 32px;\n",
              "  }\n",
              "\n",
              "  .colab-df-quickchart:hover {\n",
              "    background-color: var(--hover-bg-color);\n",
              "    box-shadow: 0 1px 2px rgba(60, 64, 67, 0.3), 0 1px 3px 1px rgba(60, 64, 67, 0.15);\n",
              "    fill: var(--button-hover-fill-color);\n",
              "  }\n",
              "\n",
              "  .colab-df-quickchart-complete:disabled,\n",
              "  .colab-df-quickchart-complete:disabled:hover {\n",
              "    background-color: var(--disabled-bg-color);\n",
              "    fill: var(--disabled-fill-color);\n",
              "    box-shadow: none;\n",
              "  }\n",
              "\n",
              "  .colab-df-spinner {\n",
              "    border: 2px solid var(--fill-color);\n",
              "    border-color: transparent;\n",
              "    border-bottom-color: var(--fill-color);\n",
              "    animation:\n",
              "      spin 1s steps(1) infinite;\n",
              "  }\n",
              "\n",
              "  @keyframes spin {\n",
              "    0% {\n",
              "      border-color: transparent;\n",
              "      border-bottom-color: var(--fill-color);\n",
              "      border-left-color: var(--fill-color);\n",
              "    }\n",
              "    20% {\n",
              "      border-color: transparent;\n",
              "      border-left-color: var(--fill-color);\n",
              "      border-top-color: var(--fill-color);\n",
              "    }\n",
              "    30% {\n",
              "      border-color: transparent;\n",
              "      border-left-color: var(--fill-color);\n",
              "      border-top-color: var(--fill-color);\n",
              "      border-right-color: var(--fill-color);\n",
              "    }\n",
              "    40% {\n",
              "      border-color: transparent;\n",
              "      border-right-color: var(--fill-color);\n",
              "      border-top-color: var(--fill-color);\n",
              "    }\n",
              "    60% {\n",
              "      border-color: transparent;\n",
              "      border-right-color: var(--fill-color);\n",
              "    }\n",
              "    80% {\n",
              "      border-color: transparent;\n",
              "      border-right-color: var(--fill-color);\n",
              "      border-bottom-color: var(--fill-color);\n",
              "    }\n",
              "    90% {\n",
              "      border-color: transparent;\n",
              "      border-bottom-color: var(--fill-color);\n",
              "    }\n",
              "  }\n",
              "</style>\n",
              "\n",
              "  <script>\n",
              "    async function quickchart(key) {\n",
              "      const quickchartButtonEl =\n",
              "        document.querySelector('#' + key + ' button');\n",
              "      quickchartButtonEl.disabled = true;  // To prevent multiple clicks.\n",
              "      quickchartButtonEl.classList.add('colab-df-spinner');\n",
              "      try {\n",
              "        const charts = await google.colab.kernel.invokeFunction(\n",
              "            'suggestCharts', [key], {});\n",
              "      } catch (error) {\n",
              "        console.error('Error during call to suggestCharts:', error);\n",
              "      }\n",
              "      quickchartButtonEl.classList.remove('colab-df-spinner');\n",
              "      quickchartButtonEl.classList.add('colab-df-quickchart-complete');\n",
              "    }\n",
              "    (() => {\n",
              "      let quickchartButtonEl =\n",
              "        document.querySelector('#df-111dd777-6a53-462d-91ae-862669c44e51 button');\n",
              "      quickchartButtonEl.style.display =\n",
              "        google.colab.kernel.accessAllowed ? 'block' : 'none';\n",
              "    })();\n",
              "  </script>\n",
              "</div>\n",
              "\n",
              "    </div>\n",
              "  </div>\n"
            ],
            "application/vnd.google.colaboratory.intrinsic+json": {
              "type": "dataframe",
              "summary": "{\n  \"name\": \"happiness[happiness\",\n  \"rows\": 4,\n  \"fields\": [\n    {\n      \"column\": \"Country name\",\n      \"properties\": {\n        \"dtype\": \"string\",\n        \"num_unique_values\": 4,\n        \"samples\": [\n          \"Denmark\",\n          \"Iceland\",\n          \"Finland\"\n        ],\n        \"semantic_type\": \"\",\n        \"description\": \"\"\n      }\n    },\n    {\n      \"column\": \"Regional indicator\",\n      \"properties\": {\n        \"dtype\": \"category\",\n        \"num_unique_values\": 1,\n        \"samples\": [\n          \"Western Europe\"\n        ],\n        \"semantic_type\": \"\",\n        \"description\": \"\"\n      }\n    },\n    {\n      \"column\": \"Ladder score\",\n      \"properties\": {\n        \"dtype\": \"number\",\n        \"std\": 0.13313996394771913,\n        \"min\": 7.554,\n        \"max\": 7.842,\n        \"num_unique_values\": 4,\n        \"samples\": [\n          7.62\n        ],\n        \"semantic_type\": \"\",\n        \"description\": \"\"\n      }\n    },\n    {\n      \"column\": \"Logged GDP per capita\",\n      \"properties\": {\n        \"dtype\": \"number\",\n        \"std\": 0.14333498061068953,\n        \"min\": 10.775,\n        \"max\": 11.117,\n        \"num_unique_values\": 4,\n        \"samples\": [\n          10.933\n        ],\n        \"semantic_type\": \"\",\n        \"description\": \"\"\n      }\n    },\n    {\n      \"column\": \"Social support\",\n      \"properties\": {\n        \"dtype\": \"number\",\n        \"std\": 0.017442763542512424,\n        \"min\": 0.942,\n        \"max\": 0.983,\n        \"num_unique_values\": 3,\n        \"samples\": [\n          0.954\n        ],\n        \"semantic_type\": \"\",\n        \"description\": \"\"\n      }\n    },\n    {\n      \"column\": \"Healthy life expectancy\",\n      \"properties\": {\n        \"dtype\": \"number\",\n        \"std\": 1.0078855755160592,\n        \"min\": 72.0,\n        \"max\": 74.4,\n        \"num_unique_values\": 4,\n        \"samples\": [\n          72.7\n        ],\n        \"semantic_type\": \"\",\n        \"description\": \"\"\n      }\n    },\n    {\n      \"column\": \"Freedom to make life choices\",\n      \"properties\": {\n        \"dtype\": \"number\",\n        \"std\": 0.015945218719101935,\n        \"min\": 0.919,\n        \"max\": 0.955,\n        \"num_unique_values\": 4,\n        \"samples\": [\n          0.946\n        ],\n        \"semantic_type\": \"\",\n        \"description\": \"\"\n      }\n    },\n    {\n      \"column\": \"Generosity\",\n      \"properties\": {\n        \"dtype\": \"number\",\n        \"std\": 0.10536721501491818,\n        \"min\": -0.098,\n        \"max\": 0.16,\n        \"num_unique_values\": 4,\n        \"samples\": [\n          0.03\n        ],\n        \"semantic_type\": \"\",\n        \"description\": \"\"\n      }\n    },\n    {\n      \"column\": \"Perceptions of corruption\",\n      \"properties\": {\n        \"dtype\": \"number\",\n        \"std\": 0.2328125139821025,\n        \"min\": 0.179,\n        \"max\": 0.673,\n        \"num_unique_values\": 4,\n        \"samples\": [\n          0.179\n        ],\n        \"semantic_type\": \"\",\n        \"description\": \"\"\n      }\n    }\n  ]\n}"
            }
          },
          "metadata": {},
          "execution_count": 10
        }
      ]
    },
    {
      "cell_type": "markdown",
      "source": [
        "- 지역별 행복지수의 분포 시각화"
      ],
      "metadata": {
        "id": "znJxbREEMbZx"
      }
    },
    {
      "cell_type": "code",
      "source": [
        "sns.boxplot(x='Ladder score', y='Regional indicator', data=happiness, orient='h')"
      ],
      "metadata": {
        "id": "eGKPkjc2MbiP",
        "colab": {
          "base_uri": "https://localhost:8080/",
          "height": 407
        },
        "outputId": "8e33248b-d3c9-4a52-ce92-4f71c6d771c3"
      },
      "execution_count": 11,
      "outputs": [
        {
          "output_type": "execute_result",
          "data": {
            "text/plain": [
              "<Axes: xlabel='Ladder score', ylabel='Regional indicator'>"
            ]
          },
          "metadata": {},
          "execution_count": 11
        },
        {
          "output_type": "display_data",
          "data": {
            "text/plain": [
              "<Figure size 600x400 with 1 Axes>"
            ],
            "image/png": "[encoded data removed]"
          },
          "metadata": {}
        }
      ]
    },
    {
      "cell_type": "markdown",
      "source": [
        "- treemap 시각화\n",
        "    - `px.treemap(data_frame=데이터프레임객체, path=[부모열,자식열], values=열속성, color=열속성)`\n",
        "    * path는 [부모,자식] 순서로 작성\n",
        "    * values는 사각형 크기가 나타내는 속성\n",
        "    * color는 색상으로 표현하는 속성"
      ],
      "metadata": {
        "id": "DA5Vy1PfMo0V"
      }
    },
    {
      "cell_type": "code",
      "source": [
        "fig = px.treemap(data_frame=happiness,\n",
        "                 path=[px.Constant('world'),'Regional indicator','Country name'],\n",
        "                 values='Ladder score',\n",
        "                 color='Ladder score')\n",
        "fig.update_layout(title='나라별 행복 지수', title_x=0.5, width=900, height=900)\n",
        "fig.show()"
      ],
      "metadata": {
        "id": "l22JTFHTMoM1",
        "colab": {
          "base_uri": "https://localhost:8080/",
          "height": 937
        },
        "outputId": "f5a4615a-5ba0-4677-a440-c2d0a70199d7"
      },
      "execution_count": 12,
      "outputs": [
        {
          "output_type": "display_data",
          "data": {
            "text/html": [
              "<html>\n",
              "<head><meta charset=\"utf-8\" /></head>\n",
              "<body>\n",
              "    <div>            <script src=\"https://cdnjs.cloudflare.com/ajax/libs/mathjax/2.7.5/MathJax.js?config=TeX-AMS-MML_SVG\"></script><script type=\"text/javascript\">if (window.MathJax && window.MathJax.Hub && window.MathJax.Hub.Config) {window.MathJax.Hub.Config({SVG: {font: \"STIX-Web\"}});}</script>                <script type=\"text/javascript\">window.PlotlyConfig = {MathJaxConfig: 'local'};</script>\n",
              "        <script charset=\"utf-8\" src=\"https://cdn.plot.ly/plotly-2.35.2.min.js\"></script>                <div id=\"0fad96b9-a716-4e42-bd90-e71427e88226\" class=\"plotly-graph-div\" style=\"height:900px; width:900px;\"></div>            <script type=\"text/javascript\">                                    window.PLOTLYENV=window.PLOTLYENV || {};                                    if (document.getElementById(\"0fad96b9-a716-4e42-bd90-e71427e88226\")) {                    Plotly.newPlot(                        \"0fad96b9-a716-4e42-bd90-e71427e88226\",                        [{\"branchvalues\":\"total\",\"customdata\":[[2.523],[5.117],[4.887],[5.929],[5.283],[7.183],[7.268],[5.171],[6.647000000000001],[5.025],[5.534],[6.833999999999999],[5.045],[5.716],[5.813],[3.467],[6.33],[5.266],[4.834],[3.775],[4.83],[5.142],[7.103],[4.355],[6.172000000000001],[5.339],[6.012],[4.289],[5.342],[7.068999999999999],[5.882000000000001],[6.223000000000001],[6.965],[7.62],[5.545],[5.764],[4.283],[6.061],[6.189],[4.275],[7.842],[6.69],[4.852],[5.051],[4.891],[7.155],[5.088],[5.722999999999999],[6.435],[4.984],[3.615],[5.919],[5.477],[5.992],[7.554],[3.819],[5.345],[4.721],[4.854],[7.084999999999999],[7.156999999999999],[6.4830000000000005],[5.306],[6.309000000000001],[5.94],[4.395],[6.152],[4.607],[6.372],[6.105999999999999],[5.744],[5.03],[6.032],[4.584],[3.512],[4.625],[5.41],[6.255],[7.324],[4.208],[3.6],[5.384],[5.198],[4.723],[6.602],[4.227],[6.049],[6.317000000000001],[5.766],[5.677],[5.581],[4.918],[4.794],[4.426],[4.574],[5.269],[7.464],[7.277],[5.972],[5.074],[4.759],[5.536],[5.101],[7.392],[4.934],[4.517],[6.180000000000001],[5.653],[5.839999999999999],[5.88],[6.1659999999999995],[5.929],[6.14],[5.477],[3.4149999999999996],[6.494],[5.132],[6.078],[3.849],[6.377],[6.331],[6.461],[4.956],[5.845],[6.491],[4.325],[4.308],[7.363],[7.571],[6.584],[5.466],[3.623],[5.984999999999999],[4.107],[4.596],[4.948],[5.066],[4.636],[4.875],[6.561],[7.064],[6.951],[6.431000000000001],[6.179],[4.892],[5.411],[3.658],[4.073],[3.1450000000000005],[6.0230375659763515],[5.499184043655874],[5.838089036773564],[5.985376960249152],[5.399807789397764],[7.130505295644244],[4.632311484900139],[5.467975507520342],[4.587246203669941],[6.9742682886518415],[5.739888416083106]],\"domain\":{\"x\":[0.0,1.0],\"y\":[0.0,1.0]},\"hovertemplate\":\"labels=%{label}\\u003cbr\\u003eLadder score_sum=%{value}\\u003cbr\\u003eparent=%{parent}\\u003cbr\\u003eid=%{id}\\u003cbr\\u003eLadder score=%{color}\\u003cextra\\u003e\\u003c\\u002fextra\\u003e\",\"ids\":[\"world\\u002fSouth Asia\\u002fAfghanistan\",\"world\\u002fCentral and Eastern Europe\\u002fAlbania\",\"world\\u002fMiddle East and North Africa\\u002fAlgeria\",\"world\\u002fLatin America and Caribbean\\u002fArgentina\",\"world\\u002fCommonwealth of Independent States\\u002fArmenia\",\"world\\u002fNorth America and ANZ\\u002fAustralia\",\"world\\u002fWestern Europe\\u002fAustria\",\"world\\u002fCommonwealth of Independent States\\u002fAzerbaijan\",\"world\\u002fMiddle East and North Africa\\u002fBahrain\",\"world\\u002fSouth Asia\\u002fBangladesh\",\"world\\u002fCommonwealth of Independent States\\u002fBelarus\",\"world\\u002fWestern Europe\\u002fBelgium\",\"world\\u002fSub-Saharan Africa\\u002fBenin\",\"world\\u002fLatin America and Caribbean\\u002fBolivia\",\"world\\u002fCentral and Eastern Europe\\u002fBosnia and Herzegovina\",\"world\\u002fSub-Saharan Africa\\u002fBotswana\",\"world\\u002fLatin America and Caribbean\\u002fBrazil\",\"world\\u002fCentral and Eastern Europe\\u002fBulgaria\",\"world\\u002fSub-Saharan Africa\\u002fBurkina Faso\",\"world\\u002fSub-Saharan Africa\\u002fBurundi\",\"world\\u002fSoutheast Asia\\u002fCambodia\",\"world\\u002fSub-Saharan Africa\\u002fCameroon\",\"world\\u002fNorth America and ANZ\\u002fCanada\",\"world\\u002fSub-Saharan Africa\\u002fChad\",\"world\\u002fLatin America and Caribbean\\u002fChile\",\"world\\u002fEast Asia\\u002fChina\",\"world\\u002fLatin America and Caribbean\\u002fColombia\",\"world\\u002fSub-Saharan Africa\\u002fComoros\",\"world\\u002fSub-Saharan Africa\\u002fCongo (Brazzaville)\",\"world\\u002fLatin America and Caribbean\\u002fCosta Rica\",\"world\\u002fCentral and Eastern Europe\\u002fCroatia\",\"world\\u002fWestern Europe\\u002fCyprus\",\"world\\u002fCentral and Eastern Europe\\u002fCzech Republic\",\"world\\u002fWestern Europe\\u002fDenmark\",\"world\\u002fLatin America and Caribbean\\u002fDominican Republic\",\"world\\u002fLatin America and Caribbean\\u002fEcuador\",\"world\\u002fMiddle East and North Africa\\u002fEgypt\",\"world\\u002fLatin America and Caribbean\\u002fEl Salvador\",\"world\\u002fCentral and Eastern Europe\\u002fEstonia\",\"world\\u002fSub-Saharan Africa\\u002fEthiopia\",\"world\\u002fWestern Europe\\u002fFinland\",\"world\\u002fWestern Europe\\u002fFrance\",\"world\\u002fSub-Saharan Africa\\u002fGabon\",\"world\\u002fSub-Saharan Africa\\u002fGambia\",\"world\\u002fCommonwealth of Independent States\\u002fGeorgia\",\"world\\u002fWestern Europe\\u002fGermany\",\"world\\u002fSub-Saharan Africa\\u002fGhana\",\"world\\u002fWestern Europe\\u002fGreece\",\"world\\u002fLatin America and Caribbean\\u002fGuatemala\",\"world\\u002fSub-Saharan Africa\\u002fGuinea\",\"world\\u002fLatin America and Caribbean\\u002fHaiti\",\"world\\u002fLatin America and Caribbean\\u002fHonduras\",\"world\\u002fEast Asia\\u002fHong Kong S.A.R. of China\",\"world\\u002fCentral and Eastern Europe\\u002fHungary\",\"world\\u002fWestern Europe\\u002fIceland\",\"world\\u002fSouth Asia\\u002fIndia\",\"world\\u002fSoutheast Asia\\u002fIndonesia\",\"world\\u002fMiddle East and North Africa\\u002fIran\",\"world\\u002fMiddle East and North Africa\\u002fIraq\",\"world\\u002fWestern Europe\\u002fIreland\",\"world\\u002fMiddle East and North Africa\\u002fIsrael\",\"world\\u002fWestern Europe\\u002fItaly\",\"world\\u002fSub-Saharan Africa\\u002fIvory Coast\",\"world\\u002fLatin America and Caribbean\\u002fJamaica\",\"world\\u002fEast Asia\\u002fJapan\",\"world\\u002fMiddle East and North Africa\\u002fJordan\",\"world\\u002fCommonwealth of Independent States\\u002fKazakhstan\",\"world\\u002fSub-Saharan Africa\\u002fKenya\",\"world\\u002fCentral and Eastern Europe\\u002fKosovo\",\"world\\u002fMiddle East and North Africa\\u002fKuwait\",\"world\\u002fCommonwealth of Independent States\\u002fKyrgyzstan\",\"world\\u002fSoutheast Asia\\u002fLaos\",\"world\\u002fCentral and Eastern Europe\\u002fLatvia\",\"world\\u002fMiddle East and North Africa\\u002fLebanon\",\"world\\u002fSub-Saharan Africa\\u002fLesotho\",\"world\\u002fSub-Saharan Africa\\u002fLiberia\",\"world\\u002fMiddle East and North Africa\\u002fLibya\",\"world\\u002fCentral and Eastern Europe\\u002fLithuania\",\"world\\u002fWestern Europe\\u002fLuxembourg\",\"world\\u002fSub-Saharan Africa\\u002fMadagascar\",\"world\\u002fSub-Saharan Africa\\u002fMalawi\",\"world\\u002fSoutheast Asia\\u002fMalaysia\",\"world\\u002fSouth Asia\\u002fMaldives\",\"world\\u002fSub-Saharan Africa\\u002fMali\",\"world\\u002fWestern Europe\\u002fMalta\",\"world\\u002fSub-Saharan Africa\\u002fMauritania\",\"world\\u002fSub-Saharan Africa\\u002fMauritius\",\"world\\u002fLatin America and Caribbean\\u002fMexico\",\"world\\u002fCommonwealth of Independent States\\u002fMoldova\",\"world\\u002fEast Asia\\u002fMongolia\",\"world\\u002fCentral and Eastern Europe\\u002fMontenegro\",\"world\\u002fMiddle East and North Africa\\u002fMorocco\",\"world\\u002fSub-Saharan Africa\\u002fMozambique\",\"world\\u002fSoutheast Asia\\u002fMyanmar\",\"world\\u002fSub-Saharan Africa\\u002fNamibia\",\"world\\u002fSouth Asia\\u002fNepal\",\"world\\u002fWestern Europe\\u002fNetherlands\",\"world\\u002fNorth America and ANZ\\u002fNew Zealand\",\"world\\u002fLatin America and Caribbean\\u002fNicaragua\",\"world\\u002fSub-Saharan Africa\\u002fNiger\",\"world\\u002fSub-Saharan Africa\\u002fNigeria\",\"world\\u002fWestern Europe\\u002fNorth Cyprus\",\"world\\u002fCentral and Eastern Europe\\u002fNorth Macedonia\",\"world\\u002fWestern Europe\\u002fNorway\",\"world\\u002fSouth Asia\\u002fPakistan\",\"world\\u002fMiddle East and North Africa\\u002fPalestinian Territories\",\"world\\u002fLatin America and Caribbean\\u002fPanama\",\"world\\u002fLatin America and Caribbean\\u002fParaguay\",\"world\\u002fLatin America and Caribbean\\u002fPeru\",\"world\\u002fSoutheast Asia\\u002fPhilippines\",\"world\\u002fCentral and Eastern Europe\\u002fPoland\",\"world\\u002fWestern Europe\\u002fPortugal\",\"world\\u002fCentral and Eastern Europe\\u002fRomania\",\"world\\u002fCommonwealth of Independent States\\u002fRussia\",\"world\\u002fSub-Saharan Africa\\u002fRwanda\",\"world\\u002fMiddle East and North Africa\\u002fSaudi Arabia\",\"world\\u002fSub-Saharan Africa\\u002fSenegal\",\"world\\u002fCentral and Eastern Europe\\u002fSerbia\",\"world\\u002fSub-Saharan Africa\\u002fSierra Leone\",\"world\\u002fSoutheast Asia\\u002fSingapore\",\"world\\u002fCentral and Eastern Europe\\u002fSlovakia\",\"world\\u002fCentral and Eastern Europe\\u002fSlovenia\",\"world\\u002fSub-Saharan Africa\\u002fSouth Africa\",\"world\\u002fEast Asia\\u002fSouth Korea\",\"world\\u002fWestern Europe\\u002fSpain\",\"world\\u002fSouth Asia\\u002fSri Lanka\",\"world\\u002fSub-Saharan Africa\\u002fSwaziland\",\"world\\u002fWestern Europe\\u002fSweden\",\"world\\u002fWestern Europe\\u002fSwitzerland\",\"world\\u002fEast Asia\\u002fTaiwan Province of China\",\"world\\u002fCommonwealth of Independent States\\u002fTajikistan\",\"world\\u002fSub-Saharan Africa\\u002fTanzania\",\"world\\u002fSoutheast Asia\\u002fThailand\",\"world\\u002fSub-Saharan Africa\\u002fTogo\",\"world\\u002fMiddle East and North Africa\\u002fTunisia\",\"world\\u002fMiddle East and North Africa\\u002fTurkey\",\"world\\u002fCommonwealth of Independent States\\u002fTurkmenistan\",\"world\\u002fSub-Saharan Africa\\u002fUganda\",\"world\\u002fCommonwealth of Independent States\\u002fUkraine\",\"world\\u002fMiddle East and North Africa\\u002fUnited Arab Emirates\",\"world\\u002fWestern Europe\\u002fUnited Kingdom\",\"world\\u002fNorth America and ANZ\\u002fUnited States\",\"world\\u002fLatin America and Caribbean\\u002fUruguay\",\"world\\u002fCommonwealth of Independent States\\u002fUzbekistan\",\"world\\u002fLatin America and Caribbean\\u002fVenezuela\",\"world\\u002fSoutheast Asia\\u002fVietnam\",\"world\\u002fMiddle East and North Africa\\u002fYemen\",\"world\\u002fSub-Saharan Africa\\u002fZambia\",\"world\\u002fSub-Saharan Africa\\u002fZimbabwe\",\"world\\u002fCentral and Eastern Europe\",\"world\\u002fCommonwealth of Independent States\",\"world\\u002fEast Asia\",\"world\\u002fLatin America and Caribbean\",\"world\\u002fMiddle East and North Africa\",\"world\\u002fNorth America and ANZ\",\"world\\u002fSouth Asia\",\"world\\u002fSoutheast Asia\",\"world\\u002fSub-Saharan Africa\",\"world\\u002fWestern Europe\",\"world\"],\"labels\":[\"Afghanistan\",\"Albania\",\"Algeria\",\"Argentina\",\"Armenia\",\"Australia\",\"Austria\",\"Azerbaijan\",\"Bahrain\",\"Bangladesh\",\"Belarus\",\"Belgium\",\"Benin\",\"Bolivia\",\"Bosnia and Herzegovina\",\"Botswana\",\"Brazil\",\"Bulgaria\",\"Burkina Faso\",\"Burundi\",\"Cambodia\",\"Cameroon\",\"Canada\",\"Chad\",\"Chile\",\"China\",\"Colombia\",\"Comoros\",\"Congo (Brazzaville)\",\"Costa Rica\",\"Croatia\",\"Cyprus\",\"Czech Republic\",\"Denmark\",\"Dominican Republic\",\"Ecuador\",\"Egypt\",\"El Salvador\",\"Estonia\",\"Ethiopia\",\"Finland\",\"France\",\"Gabon\",\"Gambia\",\"Georgia\",\"Germany\",\"Ghana\",\"Greece\",\"Guatemala\",\"Guinea\",\"Haiti\",\"Honduras\",\"Hong Kong S.A.R. of China\",\"Hungary\",\"Iceland\",\"India\",\"Indonesia\",\"Iran\",\"Iraq\",\"Ireland\",\"Israel\",\"Italy\",\"Ivory Coast\",\"Jamaica\",\"Japan\",\"Jordan\",\"Kazakhstan\",\"Kenya\",\"Kosovo\",\"Kuwait\",\"Kyrgyzstan\",\"Laos\",\"Latvia\",\"Lebanon\",\"Lesotho\",\"Liberia\",\"Libya\",\"Lithuania\",\"Luxembourg\",\"Madagascar\",\"Malawi\",\"Malaysia\",\"Maldives\",\"Mali\",\"Malta\",\"Mauritania\",\"Mauritius\",\"Mexico\",\"Moldova\",\"Mongolia\",\"Montenegro\",\"Morocco\",\"Mozambique\",\"Myanmar\",\"Namibia\",\"Nepal\",\"Netherlands\",\"New Zealand\",\"Nicaragua\",\"Niger\",\"Nigeria\",\"North Cyprus\",\"North Macedonia\",\"Norway\",\"Pakistan\",\"Palestinian Territories\",\"Panama\",\"Paraguay\",\"Peru\",\"Philippines\",\"Poland\",\"Portugal\",\"Romania\",\"Russia\",\"Rwanda\",\"Saudi Arabia\",\"Senegal\",\"Serbia\",\"Sierra Leone\",\"Singapore\",\"Slovakia\",\"Slovenia\",\"South Africa\",\"South Korea\",\"Spain\",\"Sri Lanka\",\"Swaziland\",\"Sweden\",\"Switzerland\",\"Taiwan Province of China\",\"Tajikistan\",\"Tanzania\",\"Thailand\",\"Togo\",\"Tunisia\",\"Turkey\",\"Turkmenistan\",\"Uganda\",\"Ukraine\",\"United Arab Emirates\",\"United Kingdom\",\"United States\",\"Uruguay\",\"Uzbekistan\",\"Venezuela\",\"Vietnam\",\"Yemen\",\"Zambia\",\"Zimbabwe\",\"Central and Eastern Europe\",\"Commonwealth of Independent States\",\"East Asia\",\"Latin America and Caribbean\",\"Middle East and North Africa\",\"North America and ANZ\",\"South Asia\",\"Southeast Asia\",\"Sub-Saharan Africa\",\"Western Europe\",\"world\"],\"marker\":{\"coloraxis\":\"coloraxis\",\"colors\":[2.523,5.117,4.887,5.929,5.283,7.183,7.268,5.171,6.647000000000001,5.025,5.534,6.833999999999999,5.045,5.716,5.813,3.467,6.33,5.266,4.834,3.775,4.83,5.142,7.103,4.355,6.172000000000001,5.339,6.012,4.289,5.342,7.068999999999999,5.882000000000001,6.223000000000001,6.965,7.62,5.545,5.764,4.283,6.061,6.189,4.275,7.842,6.69,4.852,5.051,4.891,7.155,5.088,5.722999999999999,6.435,4.984,3.615,5.919,5.477,5.992,7.554,3.819,5.345,4.721,4.854,7.084999999999999,7.156999999999999,6.4830000000000005,5.306,6.309000000000001,5.94,4.395,6.152,4.607,6.372,6.105999999999999,5.744,5.03,6.032,4.584,3.512,4.625,5.41,6.255,7.324,4.208,3.6,5.384,5.198,4.723,6.602,4.227,6.049,6.317000000000001,5.766,5.677,5.581,4.918,4.794,4.426,4.574,5.269,7.464,7.277,5.972,5.074,4.759,5.536,5.101,7.392,4.934,4.517,6.180000000000001,5.653,5.839999999999999,5.88,6.1659999999999995,5.929,6.14,5.477,3.4149999999999996,6.494,5.132,6.078,3.849,6.377,6.331,6.461,4.956,5.845,6.491,4.325,4.308,7.363,7.571,6.584,5.466,3.623,5.984999999999999,4.107,4.596,4.948,5.066,4.636,4.875,6.561,7.064,6.951,6.431000000000001,6.179,4.892,5.411,3.658,4.073,3.1450000000000005,6.0230375659763515,5.499184043655874,5.838089036773564,5.985376960249152,5.399807789397764,7.130505295644244,4.632311484900139,5.467975507520342,4.587246203669941,6.9742682886518415,5.739888416083106]},\"name\":\"\",\"parents\":[\"world\\u002fSouth Asia\",\"world\\u002fCentral and Eastern Europe\",\"world\\u002fMiddle East and North Africa\",\"world\\u002fLatin America and Caribbean\",\"world\\u002fCommonwealth of Independent States\",\"world\\u002fNorth America and ANZ\",\"world\\u002fWestern Europe\",\"world\\u002fCommonwealth of Independent States\",\"world\\u002fMiddle East and North Africa\",\"world\\u002fSouth Asia\",\"world\\u002fCommonwealth of Independent States\",\"world\\u002fWestern Europe\",\"world\\u002fSub-Saharan Africa\",\"world\\u002fLatin America and Caribbean\",\"world\\u002fCentral and Eastern Europe\",\"world\\u002fSub-Saharan Africa\",\"world\\u002fLatin America and Caribbean\",\"world\\u002fCentral and Eastern Europe\",\"world\\u002fSub-Saharan Africa\",\"world\\u002fSub-Saharan Africa\",\"world\\u002fSoutheast Asia\",\"world\\u002fSub-Saharan Africa\",\"world\\u002fNorth America and ANZ\",\"world\\u002fSub-Saharan Africa\",\"world\\u002fLatin America and Caribbean\",\"world\\u002fEast Asia\",\"world\\u002fLatin America and Caribbean\",\"world\\u002fSub-Saharan Africa\",\"world\\u002fSub-Saharan Africa\",\"world\\u002fLatin America and Caribbean\",\"world\\u002fCentral and Eastern Europe\",\"world\\u002fWestern Europe\",\"world\\u002fCentral and Eastern Europe\",\"world\\u002fWestern Europe\",\"world\\u002fLatin America and Caribbean\",\"world\\u002fLatin America and Caribbean\",\"world\\u002fMiddle East and North Africa\",\"world\\u002fLatin America and Caribbean\",\"world\\u002fCentral and Eastern Europe\",\"world\\u002fSub-Saharan Africa\",\"world\\u002fWestern Europe\",\"world\\u002fWestern Europe\",\"world\\u002fSub-Saharan Africa\",\"world\\u002fSub-Saharan Africa\",\"world\\u002fCommonwealth of Independent States\",\"world\\u002fWestern Europe\",\"world\\u002fSub-Saharan Africa\",\"world\\u002fWestern Europe\",\"world\\u002fLatin America and Caribbean\",\"world\\u002fSub-Saharan Africa\",\"world\\u002fLatin America and Caribbean\",\"world\\u002fLatin America and Caribbean\",\"world\\u002fEast Asia\",\"world\\u002fCentral and Eastern Europe\",\"world\\u002fWestern Europe\",\"world\\u002fSouth Asia\",\"world\\u002fSoutheast Asia\",\"world\\u002fMiddle East and North Africa\",\"world\\u002fMiddle East and North Africa\",\"world\\u002fWestern Europe\",\"world\\u002fMiddle East and North Africa\",\"world\\u002fWestern Europe\",\"world\\u002fSub-Saharan Africa\",\"world\\u002fLatin America and Caribbean\",\"world\\u002fEast Asia\",\"world\\u002fMiddle East and North Africa\",\"world\\u002fCommonwealth of Independent States\",\"world\\u002fSub-Saharan Africa\",\"world\\u002fCentral and Eastern Europe\",\"world\\u002fMiddle East and North Africa\",\"world\\u002fCommonwealth of Independent States\",\"world\\u002fSoutheast Asia\",\"world\\u002fCentral and Eastern Europe\",\"world\\u002fMiddle East and North Africa\",\"world\\u002fSub-Saharan Africa\",\"world\\u002fSub-Saharan Africa\",\"world\\u002fMiddle East and North Africa\",\"world\\u002fCentral and Eastern Europe\",\"world\\u002fWestern Europe\",\"world\\u002fSub-Saharan Africa\",\"world\\u002fSub-Saharan Africa\",\"world\\u002fSoutheast Asia\",\"world\\u002fSouth Asia\",\"world\\u002fSub-Saharan Africa\",\"world\\u002fWestern Europe\",\"world\\u002fSub-Saharan Africa\",\"world\\u002fSub-Saharan Africa\",\"world\\u002fLatin America and Caribbean\",\"world\\u002fCommonwealth of Independent States\",\"world\\u002fEast Asia\",\"world\\u002fCentral and Eastern Europe\",\"world\\u002fMiddle East and North Africa\",\"world\\u002fSub-Saharan Africa\",\"world\\u002fSoutheast Asia\",\"world\\u002fSub-Saharan Africa\",\"world\\u002fSouth Asia\",\"world\\u002fWestern Europe\",\"world\\u002fNorth America and ANZ\",\"world\\u002fLatin America and Caribbean\",\"world\\u002fSub-Saharan Africa\",\"world\\u002fSub-Saharan Africa\",\"world\\u002fWestern Europe\",\"world\\u002fCentral and Eastern Europe\",\"world\\u002fWestern Europe\",\"world\\u002fSouth Asia\",\"world\\u002fMiddle East and North Africa\",\"world\\u002fLatin America and Caribbean\",\"world\\u002fLatin America and Caribbean\",\"world\\u002fLatin America and Caribbean\",\"world\\u002fSoutheast Asia\",\"world\\u002fCentral and Eastern Europe\",\"world\\u002fWestern Europe\",\"world\\u002fCentral and Eastern Europe\",\"world\\u002fCommonwealth of Independent States\",\"world\\u002fSub-Saharan Africa\",\"world\\u002fMiddle East and North Africa\",\"world\\u002fSub-Saharan Africa\",\"world\\u002fCentral and Eastern Europe\",\"world\\u002fSub-Saharan Africa\",\"world\\u002fSoutheast Asia\",\"world\\u002fCentral and Eastern Europe\",\"world\\u002fCentral and Eastern Europe\",\"world\\u002fSub-Saharan Africa\",\"world\\u002fEast Asia\",\"world\\u002fWestern Europe\",\"world\\u002fSouth Asia\",\"world\\u002fSub-Saharan Africa\",\"world\\u002fWestern Europe\",\"world\\u002fWestern Europe\",\"world\\u002fEast Asia\",\"world\\u002fCommonwealth of Independent States\",\"world\\u002fSub-Saharan Africa\",\"world\\u002fSoutheast Asia\",\"world\\u002fSub-Saharan Africa\",\"world\\u002fMiddle East and North Africa\",\"world\\u002fMiddle East and North Africa\",\"world\\u002fCommonwealth of Independent States\",\"world\\u002fSub-Saharan Africa\",\"world\\u002fCommonwealth of Independent States\",\"world\\u002fMiddle East and North Africa\",\"world\\u002fWestern Europe\",\"world\\u002fNorth America and ANZ\",\"world\\u002fLatin America and Caribbean\",\"world\\u002fCommonwealth of Independent States\",\"world\\u002fLatin America and Caribbean\",\"world\\u002fSoutheast Asia\",\"world\\u002fMiddle East and North Africa\",\"world\\u002fSub-Saharan Africa\",\"world\\u002fSub-Saharan Africa\",\"world\",\"world\",\"world\",\"world\",\"world\",\"world\",\"world\",\"world\",\"world\",\"world\",\"\"],\"values\":[2.523,5.117,4.887,5.929,5.283,7.183,7.268,5.171,6.647,5.025,5.534,6.834,5.045,5.716,5.813,3.467,6.33,5.266,4.834,3.775,4.83,5.142,7.103,4.355,6.172,5.339,6.012,4.289,5.342,7.069,5.882,6.223,6.965,7.62,5.545,5.764,4.283,6.061,6.189,4.275,7.842,6.69,4.852,5.051,4.891,7.155,5.088,5.723,6.435,4.984,3.615,5.919,5.477,5.992,7.554,3.819,5.345,4.721,4.854,7.085,7.157,6.483,5.306,6.309,5.94,4.395,6.152,4.607,6.372,6.106,5.744,5.03,6.032,4.584,3.512,4.625,5.41,6.255,7.324,4.208,3.6,5.384,5.198,4.723,6.602,4.227,6.049,6.317,5.766,5.677,5.581,4.918,4.794,4.426,4.574,5.269,7.464,7.277,5.972,5.074,4.759,5.536,5.101,7.392,4.934,4.517,6.18,5.653,5.84,5.88,6.166,5.929,6.14,5.477,3.415,6.494,5.132,6.078,3.849,6.377,6.331,6.461,4.956,5.845,6.491,4.325,4.308,7.363,7.571,6.584,5.466,3.623,5.985,4.107,4.596,4.948,5.066,4.636,4.875,6.561,7.064,6.951,6.431,6.179,4.892,5.411,3.658,4.073,3.145,101.741,65.604,34.862,118.161,88.736,28.514,31.093,48.668,161.80100000000002,145.213,824.393],\"type\":\"treemap\"}],                        {\"template\":{\"data\":{\"histogram2dcontour\":[{\"type\":\"histogram2dcontour\",\"colorbar\":{\"outlinewidth\":0,\"ticks\":\"\"},\"colorscale\":[[0.0,\"#0d0887\"],[0.1111111111111111,\"#46039f\"],[0.2222222222222222,\"#7201a8\"],[0.3333333333333333,\"#9c179e\"],[0.4444444444444444,\"#bd3786\"],[0.5555555555555556,\"#d8576b\"],[0.6666666666666666,\"#ed7953\"],[0.7777777777777778,\"#fb9f3a\"],[0.8888888888888888,\"#fdca26\"],[1.0,\"#f0f921\"]]}],\"choropleth\":[{\"type\":\"choropleth\",\"colorbar\":{\"outlinewidth\":0,\"ticks\":\"\"}}],\"histogram2d\":[{\"type\":\"histogram2d\",\"colorbar\":{\"outlinewidth\":0,\"ticks\":\"\"},\"colorscale\":[[0.0,\"#0d0887\"],[0.1111111111111111,\"#46039f\"],[0.2222222222222222,\"#7201a8\"],[0.3333333333333333,\"#9c179e\"],[0.4444444444444444,\"#bd3786\"],[0.5555555555555556,\"#d8576b\"],[0.6666666666666666,\"#ed7953\"],[0.7777777777777778,\"#fb9f3a\"],[0.8888888888888888,\"#fdca26\"],[1.0,\"#f0f921\"]]}],\"heatmap\":[{\"type\":\"heatmap\",\"colorbar\":{\"outlinewidth\":0,\"ticks\":\"\"},\"colorscale\":[[0.0,\"#0d0887\"],[0.1111111111111111,\"#46039f\"],[0.2222222222222222,\"#7201a8\"],[0.3333333333333333,\"#9c179e\"],[0.4444444444444444,\"#bd3786\"],[0.5555555555555556,\"#d8576b\"],[0.6666666666666666,\"#ed7953\"],[0.7777777777777778,\"#fb9f3a\"],[0.8888888888888888,\"#fdca26\"],[1.0,\"#f0f921\"]]}],\"heatmapgl\":[{\"type\":\"heatmapgl\",\"colorbar\":{\"outlinewidth\":0,\"ticks\":\"\"},\"colorscale\":[[0.0,\"#0d0887\"],[0.1111111111111111,\"#46039f\"],[0.2222222222222222,\"#7201a8\"],[0.3333333333333333,\"#9c179e\"],[0.4444444444444444,\"#bd3786\"],[0.5555555555555556,\"#d8576b\"],[0.6666666666666666,\"#ed7953\"],[0.7777777777777778,\"#fb9f3a\"],[0.8888888888888888,\"#fdca26\"],[1.0,\"#f0f921\"]]}],\"contourcarpet\":[{\"type\":\"contourcarpet\",\"colorbar\":{\"outlinewidth\":0,\"ticks\":\"\"}}],\"contour\":[{\"type\":\"contour\",\"colorbar\":{\"outlinewidth\":0,\"ticks\":\"\"},\"colorscale\":[[0.0,\"#0d0887\"],[0.1111111111111111,\"#46039f\"],[0.2222222222222222,\"#7201a8\"],[0.3333333333333333,\"#9c179e\"],[0.4444444444444444,\"#bd3786\"],[0.5555555555555556,\"#d8576b\"],[0.6666666666666666,\"#ed7953\"],[0.7777777777777778,\"#fb9f3a\"],[0.8888888888888888,\"#fdca26\"],[1.0,\"#f0f921\"]]}],\"surface\":[{\"type\":\"surface\",\"colorbar\":{\"outlinewidth\":0,\"ticks\":\"\"},\"colorscale\":[[0.0,\"#0d0887\"],[0.1111111111111111,\"#46039f\"],[0.2222222222222222,\"#7201a8\"],[0.3333333333333333,\"#9c179e\"],[0.4444444444444444,\"#bd3786\"],[0.5555555555555556,\"#d8576b\"],[0.6666666666666666,\"#ed7953\"],[0.7777777777777778,\"#fb9f3a\"],[0.8888888888888888,\"#fdca26\"],[1.0,\"#f0f921\"]]}],\"mesh3d\":[{\"type\":\"mesh3d\",\"colorbar\":{\"outlinewidth\":0,\"ticks\":\"\"}}],\"scatter\":[{\"fillpattern\":{\"fillmode\":\"overlay\",\"size\":10,\"solidity\":0.2},\"type\":\"scatter\"}],\"parcoords\":[{\"type\":\"parcoords\",\"line\":{\"colorbar\":{\"outlinewidth\":0,\"ticks\":\"\"}}}],\"scatterpolargl\":[{\"type\":\"scatterpolargl\",\"marker\":{\"colorbar\":{\"outlinewidth\":0,\"ticks\":\"\"}}}],\"bar\":[{\"error_x\":{\"color\":\"#2a3f5f\"},\"error_y\":{\"color\":\"#2a3f5f\"},\"marker\":{\"line\":{\"color\":\"#E5ECF6\",\"width\":0.5},\"pattern\":{\"fillmode\":\"overlay\",\"size\":10,\"solidity\":0.2}},\"type\":\"bar\"}],\"scattergeo\":[{\"type\":\"scattergeo\",\"marker\":{\"colorbar\":{\"outlinewidth\":0,\"ticks\":\"\"}}}],\"scatterpolar\":[{\"type\":\"scatterpolar\",\"marker\":{\"colorbar\":{\"outlinewidth\":0,\"ticks\":\"\"}}}],\"histogram\":[{\"marker\":{\"pattern\":{\"fillmode\":\"overlay\",\"size\":10,\"solidity\":0.2}},\"type\":\"histogram\"}],\"scattergl\":[{\"type\":\"scattergl\",\"marker\":{\"colorbar\":{\"outlinewidth\":0,\"ticks\":\"\"}}}],\"scatter3d\":[{\"type\":\"scatter3d\",\"line\":{\"colorbar\":{\"outlinewidth\":0,\"ticks\":\"\"}},\"marker\":{\"colorbar\":{\"outlinewidth\":0,\"ticks\":\"\"}}}],\"scattermapbox\":[{\"type\":\"scattermapbox\",\"marker\":{\"colorbar\":{\"outlinewidth\":0,\"ticks\":\"\"}}}],\"scatterternary\":[{\"type\":\"scatterternary\",\"marker\":{\"colorbar\":{\"outlinewidth\":0,\"ticks\":\"\"}}}],\"scattercarpet\":[{\"type\":\"scattercarpet\",\"marker\":{\"colorbar\":{\"outlinewidth\":0,\"ticks\":\"\"}}}],\"carpet\":[{\"aaxis\":{\"endlinecolor\":\"#2a3f5f\",\"gridcolor\":\"white\",\"linecolor\":\"white\",\"minorgridcolor\":\"white\",\"startlinecolor\":\"#2a3f5f\"},\"baxis\":{\"endlinecolor\":\"#2a3f5f\",\"gridcolor\":\"white\",\"linecolor\":\"white\",\"minorgridcolor\":\"white\",\"startlinecolor\":\"#2a3f5f\"},\"type\":\"carpet\"}],\"table\":[{\"cells\":{\"fill\":{\"color\":\"#EBF0F8\"},\"line\":{\"color\":\"white\"}},\"header\":{\"fill\":{\"color\":\"#C8D4E3\"},\"line\":{\"color\":\"white\"}},\"type\":\"table\"}],\"barpolar\":[{\"marker\":{\"line\":{\"color\":\"#E5ECF6\",\"width\":0.5},\"pattern\":{\"fillmode\":\"overlay\",\"size\":10,\"solidity\":0.2}},\"type\":\"barpolar\"}],\"pie\":[{\"automargin\":true,\"type\":\"pie\"}]},\"layout\":{\"autotypenumbers\":\"strict\",\"colorway\":[\"#636efa\",\"#EF553B\",\"#00cc96\",\"#ab63fa\",\"#FFA15A\",\"#19d3f3\",\"#FF6692\",\"#B6E880\",\"#FF97FF\",\"#FECB52\"],\"font\":{\"color\":\"#2a3f5f\"},\"hovermode\":\"closest\",\"hoverlabel\":{\"align\":\"left\"},\"paper_bgcolor\":\"white\",\"plot_bgcolor\":\"#E5ECF6\",\"polar\":{\"bgcolor\":\"#E5ECF6\",\"angularaxis\":{\"gridcolor\":\"white\",\"linecolor\":\"white\",\"ticks\":\"\"},\"radialaxis\":{\"gridcolor\":\"white\",\"linecolor\":\"white\",\"ticks\":\"\"}},\"ternary\":{\"bgcolor\":\"#E5ECF6\",\"aaxis\":{\"gridcolor\":\"white\",\"linecolor\":\"white\",\"ticks\":\"\"},\"baxis\":{\"gridcolor\":\"white\",\"linecolor\":\"white\",\"ticks\":\"\"},\"caxis\":{\"gridcolor\":\"white\",\"linecolor\":\"white\",\"ticks\":\"\"}},\"coloraxis\":{\"colorbar\":{\"outlinewidth\":0,\"ticks\":\"\"}},\"colorscale\":{\"sequential\":[[0.0,\"#0d0887\"],[0.1111111111111111,\"#46039f\"],[0.2222222222222222,\"#7201a8\"],[0.3333333333333333,\"#9c179e\"],[0.4444444444444444,\"#bd3786\"],[0.5555555555555556,\"#d8576b\"],[0.6666666666666666,\"#ed7953\"],[0.7777777777777778,\"#fb9f3a\"],[0.8888888888888888,\"#fdca26\"],[1.0,\"#f0f921\"]],\"sequentialminus\":[[0.0,\"#0d0887\"],[0.1111111111111111,\"#46039f\"],[0.2222222222222222,\"#7201a8\"],[0.3333333333333333,\"#9c179e\"],[0.4444444444444444,\"#bd3786\"],[0.5555555555555556,\"#d8576b\"],[0.6666666666666666,\"#ed7953\"],[0.7777777777777778,\"#fb9f3a\"],[0.8888888888888888,\"#fdca26\"],[1.0,\"#f0f921\"]],\"diverging\":[[0,\"#8e0152\"],[0.1,\"#c51b7d\"],[0.2,\"#de77ae\"],[0.3,\"#f1b6da\"],[0.4,\"#fde0ef\"],[0.5,\"#f7f7f7\"],[0.6,\"#e6f5d0\"],[0.7,\"#b8e186\"],[0.8,\"#7fbc41\"],[0.9,\"#4d9221\"],[1,\"#276419\"]]},\"xaxis\":{\"gridcolor\":\"white\",\"linecolor\":\"white\",\"ticks\":\"\",\"title\":{\"standoff\":15},\"zerolinecolor\":\"white\",\"automargin\":true,\"zerolinewidth\":2},\"yaxis\":{\"gridcolor\":\"white\",\"linecolor\":\"white\",\"ticks\":\"\",\"title\":{\"standoff\":15},\"zerolinecolor\":\"white\",\"automargin\":true,\"zerolinewidth\":2},\"scene\":{\"xaxis\":{\"backgroundcolor\":\"#E5ECF6\",\"gridcolor\":\"white\",\"linecolor\":\"white\",\"showbackground\":true,\"ticks\":\"\",\"zerolinecolor\":\"white\",\"gridwidth\":2},\"yaxis\":{\"backgroundcolor\":\"#E5ECF6\",\"gridcolor\":\"white\",\"linecolor\":\"white\",\"showbackground\":true,\"ticks\":\"\",\"zerolinecolor\":\"white\",\"gridwidth\":2},\"zaxis\":{\"backgroundcolor\":\"#E5ECF6\",\"gridcolor\":\"white\",\"linecolor\":\"white\",\"showbackground\":true,\"ticks\":\"\",\"zerolinecolor\":\"white\",\"gridwidth\":2}},\"shapedefaults\":{\"line\":{\"color\":\"#2a3f5f\"}},\"annotationdefaults\":{\"arrowcolor\":\"#2a3f5f\",\"arrowhead\":0,\"arrowwidth\":1},\"geo\":{\"bgcolor\":\"white\",\"landcolor\":\"#E5ECF6\",\"subunitcolor\":\"white\",\"showland\":true,\"showlakes\":true,\"lakecolor\":\"white\"},\"title\":{\"x\":0.05},\"mapbox\":{\"style\":\"light\"}}},\"coloraxis\":{\"colorbar\":{\"title\":{\"text\":\"Ladder score\"}},\"colorscale\":[[0.0,\"#0d0887\"],[0.1111111111111111,\"#46039f\"],[0.2222222222222222,\"#7201a8\"],[0.3333333333333333,\"#9c179e\"],[0.4444444444444444,\"#bd3786\"],[0.5555555555555556,\"#d8576b\"],[0.6666666666666666,\"#ed7953\"],[0.7777777777777778,\"#fb9f3a\"],[0.8888888888888888,\"#fdca26\"],[1.0,\"#f0f921\"]]},\"legend\":{\"tracegroupgap\":0},\"margin\":{\"t\":60},\"title\":{\"text\":\"\\ub098\\ub77c\\ubcc4 \\ud589\\ubcf5 \\uc9c0\\uc218\",\"x\":0.5},\"width\":900,\"height\":900},                        {\"responsive\": true}                    ).then(function(){\n",
              "                            \n",
              "var gd = document.getElementById('0fad96b9-a716-4e42-bd90-e71427e88226');\n",
              "var x = new MutationObserver(function (mutations, observer) {{\n",
              "        var display = window.getComputedStyle(gd).display;\n",
              "        if (!display || display === 'none') {{\n",
              "            console.log([gd, 'removed!']);\n",
              "            Plotly.purge(gd);\n",
              "            observer.disconnect();\n",
              "        }}\n",
              "}});\n",
              "\n",
              "// Listen for the removal of the full notebook cells\n",
              "var notebookContainer = gd.closest('#notebook-container');\n",
              "if (notebookContainer) {{\n",
              "    x.observe(notebookContainer, {childList: true});\n",
              "}}\n",
              "\n",
              "// Listen for the clearing of the current output cell\n",
              "var outputEl = gd.closest('.output');\n",
              "if (outputEl) {{\n",
              "    x.observe(outputEl, {childList: true});\n",
              "}}\n",
              "\n",
              "                        })                };                            </script>        </div>\n",
              "</body>\n",
              "</html>"
            ]
          },
          "metadata": {}
        }
      ]
    },
    {
      "cell_type": "markdown",
      "source": [
        "- sunburst 시각화"
      ],
      "metadata": {
        "id": "OgC3D7oUNGra"
      }
    },
    {
      "cell_type": "code",
      "source": [
        "fig = px.sunburst(data_frame=happiness,\n",
        "                  path=['Regional indicator', 'Country name'],\n",
        "                  values='Ladder score',\n",
        "                  color='Ladder score')\n",
        "fig.update_layout(title='나라별 행복 지수', title_x=0.5, width=1200, height=900)\n",
        "fig.show()"
      ],
      "metadata": {
        "id": "IODdoZdrNHev",
        "colab": {
          "base_uri": "https://localhost:8080/",
          "height": 937
        },
        "outputId": "6bb93ea8-feb7-4cd5-bb72-fafc8fd1db4d"
      },
      "execution_count": 13,
      "outputs": [
        {
          "output_type": "display_data",
          "data": {
            "text/html": [
              "<html>\n",
              "<head><meta charset=\"utf-8\" /></head>\n",
              "<body>\n",
              "    <div>            <script src=\"https://cdnjs.cloudflare.com/ajax/libs/mathjax/2.7.5/MathJax.js?config=TeX-AMS-MML_SVG\"></script><script type=\"text/javascript\">if (window.MathJax && window.MathJax.Hub && window.MathJax.Hub.Config) {window.MathJax.Hub.Config({SVG: {font: \"STIX-Web\"}});}</script>                <script type=\"text/javascript\">window.PlotlyConfig = {MathJaxConfig: 'local'};</script>\n",
              "        <script charset=\"utf-8\" src=\"https://cdn.plot.ly/plotly-2.35.2.min.js\"></script>                <div id=\"7fd2201f-3b12-4db0-8fa6-6136e0d37d9c\" class=\"plotly-graph-div\" style=\"height:900px; width:1200px;\"></div>            <script type=\"text/javascript\">                                    window.PLOTLYENV=window.PLOTLYENV || {};                                    if (document.getElementById(\"7fd2201f-3b12-4db0-8fa6-6136e0d37d9c\")) {                    Plotly.newPlot(                        \"7fd2201f-3b12-4db0-8fa6-6136e0d37d9c\",                        [{\"branchvalues\":\"total\",\"customdata\":[[2.523],[5.117],[4.887],[5.929],[5.283],[7.183],[7.268],[5.171],[6.647000000000001],[5.025],[5.534],[6.833999999999999],[5.045],[5.716],[5.813],[3.467],[6.33],[5.266],[4.834],[3.775],[4.83],[5.142],[7.103],[4.355],[6.172000000000001],[5.339],[6.012],[4.289],[5.342],[7.068999999999999],[5.882000000000001],[6.223000000000001],[6.965],[7.62],[5.545],[5.764],[4.283],[6.061],[6.189],[4.275],[7.842],[6.69],[4.852],[5.051],[4.891],[7.155],[5.088],[5.722999999999999],[6.435],[4.984],[3.615],[5.919],[5.477],[5.992],[7.554],[3.819],[5.345],[4.721],[4.854],[7.084999999999999],[7.156999999999999],[6.4830000000000005],[5.306],[6.309000000000001],[5.94],[4.395],[6.152],[4.607],[6.372],[6.105999999999999],[5.744],[5.03],[6.032],[4.584],[3.512],[4.625],[5.41],[6.255],[7.324],[4.208],[3.6],[5.384],[5.198],[4.723],[6.602],[4.227],[6.049],[6.317000000000001],[5.766],[5.677],[5.581],[4.918],[4.794],[4.426],[4.574],[5.269],[7.464],[7.277],[5.972],[5.074],[4.759],[5.536],[5.101],[7.392],[4.934],[4.517],[6.180000000000001],[5.653],[5.839999999999999],[5.88],[6.1659999999999995],[5.929],[6.14],[5.477],[3.4149999999999996],[6.494],[5.132],[6.078],[3.849],[6.377],[6.331],[6.461],[4.956],[5.845],[6.491],[4.325],[4.308],[7.363],[7.571],[6.584],[5.466],[3.623],[5.984999999999999],[4.107],[4.596],[4.948],[5.066],[4.636],[4.875],[6.561],[7.064],[6.951],[6.431000000000001],[6.179],[4.892],[5.411],[3.658],[4.073],[3.1450000000000005],[6.0230375659763515],[5.499184043655874],[5.838089036773564],[5.985376960249152],[5.399807789397764],[7.130505295644244],[4.632311484900139],[5.467975507520342],[4.587246203669941],[6.9742682886518415]],\"domain\":{\"x\":[0.0,1.0],\"y\":[0.0,1.0]},\"hovertemplate\":\"labels=%{label}\\u003cbr\\u003eLadder score_sum=%{value}\\u003cbr\\u003eparent=%{parent}\\u003cbr\\u003eid=%{id}\\u003cbr\\u003eLadder score=%{color}\\u003cextra\\u003e\\u003c\\u002fextra\\u003e\",\"ids\":[\"South Asia\\u002fAfghanistan\",\"Central and Eastern Europe\\u002fAlbania\",\"Middle East and North Africa\\u002fAlgeria\",\"Latin America and Caribbean\\u002fArgentina\",\"Commonwealth of Independent States\\u002fArmenia\",\"North America and ANZ\\u002fAustralia\",\"Western Europe\\u002fAustria\",\"Commonwealth of Independent States\\u002fAzerbaijan\",\"Middle East and North Africa\\u002fBahrain\",\"South Asia\\u002fBangladesh\",\"Commonwealth of Independent States\\u002fBelarus\",\"Western Europe\\u002fBelgium\",\"Sub-Saharan Africa\\u002fBenin\",\"Latin America and Caribbean\\u002fBolivia\",\"Central and Eastern Europe\\u002fBosnia and Herzegovina\",\"Sub-Saharan Africa\\u002fBotswana\",\"Latin America and Caribbean\\u002fBrazil\",\"Central and Eastern Europe\\u002fBulgaria\",\"Sub-Saharan Africa\\u002fBurkina Faso\",\"Sub-Saharan Africa\\u002fBurundi\",\"Southeast Asia\\u002fCambodia\",\"Sub-Saharan Africa\\u002fCameroon\",\"North America and ANZ\\u002fCanada\",\"Sub-Saharan Africa\\u002fChad\",\"Latin America and Caribbean\\u002fChile\",\"East Asia\\u002fChina\",\"Latin America and Caribbean\\u002fColombia\",\"Sub-Saharan Africa\\u002fComoros\",\"Sub-Saharan Africa\\u002fCongo (Brazzaville)\",\"Latin America and Caribbean\\u002fCosta Rica\",\"Central and Eastern Europe\\u002fCroatia\",\"Western Europe\\u002fCyprus\",\"Central and Eastern Europe\\u002fCzech Republic\",\"Western Europe\\u002fDenmark\",\"Latin America and Caribbean\\u002fDominican Republic\",\"Latin America and Caribbean\\u002fEcuador\",\"Middle East and North Africa\\u002fEgypt\",\"Latin America and Caribbean\\u002fEl Salvador\",\"Central and Eastern Europe\\u002fEstonia\",\"Sub-Saharan Africa\\u002fEthiopia\",\"Western Europe\\u002fFinland\",\"Western Europe\\u002fFrance\",\"Sub-Saharan Africa\\u002fGabon\",\"Sub-Saharan Africa\\u002fGambia\",\"Commonwealth of Independent States\\u002fGeorgia\",\"Western Europe\\u002fGermany\",\"Sub-Saharan Africa\\u002fGhana\",\"Western Europe\\u002fGreece\",\"Latin America and Caribbean\\u002fGuatemala\",\"Sub-Saharan Africa\\u002fGuinea\",\"Latin America and Caribbean\\u002fHaiti\",\"Latin America and Caribbean\\u002fHonduras\",\"East Asia\\u002fHong Kong S.A.R. of China\",\"Central and Eastern Europe\\u002fHungary\",\"Western Europe\\u002fIceland\",\"South Asia\\u002fIndia\",\"Southeast Asia\\u002fIndonesia\",\"Middle East and North Africa\\u002fIran\",\"Middle East and North Africa\\u002fIraq\",\"Western Europe\\u002fIreland\",\"Middle East and North Africa\\u002fIsrael\",\"Western Europe\\u002fItaly\",\"Sub-Saharan Africa\\u002fIvory Coast\",\"Latin America and Caribbean\\u002fJamaica\",\"East Asia\\u002fJapan\",\"Middle East and North Africa\\u002fJordan\",\"Commonwealth of Independent States\\u002fKazakhstan\",\"Sub-Saharan Africa\\u002fKenya\",\"Central and Eastern Europe\\u002fKosovo\",\"Middle East and North Africa\\u002fKuwait\",\"Commonwealth of Independent States\\u002fKyrgyzstan\",\"Southeast Asia\\u002fLaos\",\"Central and Eastern Europe\\u002fLatvia\",\"Middle East and North Africa\\u002fLebanon\",\"Sub-Saharan Africa\\u002fLesotho\",\"Sub-Saharan Africa\\u002fLiberia\",\"Middle East and North Africa\\u002fLibya\",\"Central and Eastern Europe\\u002fLithuania\",\"Western Europe\\u002fLuxembourg\",\"Sub-Saharan Africa\\u002fMadagascar\",\"Sub-Saharan Africa\\u002fMalawi\",\"Southeast Asia\\u002fMalaysia\",\"South Asia\\u002fMaldives\",\"Sub-Saharan Africa\\u002fMali\",\"Western Europe\\u002fMalta\",\"Sub-Saharan Africa\\u002fMauritania\",\"Sub-Saharan Africa\\u002fMauritius\",\"Latin America and Caribbean\\u002fMexico\",\"Commonwealth of Independent States\\u002fMoldova\",\"East Asia\\u002fMongolia\",\"Central and Eastern Europe\\u002fMontenegro\",\"Middle East and North Africa\\u002fMorocco\",\"Sub-Saharan Africa\\u002fMozambique\",\"Southeast Asia\\u002fMyanmar\",\"Sub-Saharan Africa\\u002fNamibia\",\"South Asia\\u002fNepal\",\"Western Europe\\u002fNetherlands\",\"North America and ANZ\\u002fNew Zealand\",\"Latin America and Caribbean\\u002fNicaragua\",\"Sub-Saharan Africa\\u002fNiger\",\"Sub-Saharan Africa\\u002fNigeria\",\"Western Europe\\u002fNorth Cyprus\",\"Central and Eastern Europe\\u002fNorth Macedonia\",\"Western Europe\\u002fNorway\",\"South Asia\\u002fPakistan\",\"Middle East and North Africa\\u002fPalestinian Territories\",\"Latin America and Caribbean\\u002fPanama\",\"Latin America and Caribbean\\u002fParaguay\",\"Latin America and Caribbean\\u002fPeru\",\"Southeast Asia\\u002fPhilippines\",\"Central and Eastern Europe\\u002fPoland\",\"Western Europe\\u002fPortugal\",\"Central and Eastern Europe\\u002fRomania\",\"Commonwealth of Independent States\\u002fRussia\",\"Sub-Saharan Africa\\u002fRwanda\",\"Middle East and North Africa\\u002fSaudi Arabia\",\"Sub-Saharan Africa\\u002fSenegal\",\"Central and Eastern Europe\\u002fSerbia\",\"Sub-Saharan Africa\\u002fSierra Leone\",\"Southeast Asia\\u002fSingapore\",\"Central and Eastern Europe\\u002fSlovakia\",\"Central and Eastern Europe\\u002fSlovenia\",\"Sub-Saharan Africa\\u002fSouth Africa\",\"East Asia\\u002fSouth Korea\",\"Western Europe\\u002fSpain\",\"South Asia\\u002fSri Lanka\",\"Sub-Saharan Africa\\u002fSwaziland\",\"Western Europe\\u002fSweden\",\"Western Europe\\u002fSwitzerland\",\"East Asia\\u002fTaiwan Province of China\",\"Commonwealth of Independent States\\u002fTajikistan\",\"Sub-Saharan Africa\\u002fTanzania\",\"Southeast Asia\\u002fThailand\",\"Sub-Saharan Africa\\u002fTogo\",\"Middle East and North Africa\\u002fTunisia\",\"Middle East and North Africa\\u002fTurkey\",\"Commonwealth of Independent States\\u002fTurkmenistan\",\"Sub-Saharan Africa\\u002fUganda\",\"Commonwealth of Independent States\\u002fUkraine\",\"Middle East and North Africa\\u002fUnited Arab Emirates\",\"Western Europe\\u002fUnited Kingdom\",\"North America and ANZ\\u002fUnited States\",\"Latin America and Caribbean\\u002fUruguay\",\"Commonwealth of Independent States\\u002fUzbekistan\",\"Latin America and Caribbean\\u002fVenezuela\",\"Southeast Asia\\u002fVietnam\",\"Middle East and North Africa\\u002fYemen\",\"Sub-Saharan Africa\\u002fZambia\",\"Sub-Saharan Africa\\u002fZimbabwe\",\"Central and Eastern Europe\",\"Commonwealth of Independent States\",\"East Asia\",\"Latin America and Caribbean\",\"Middle East and North Africa\",\"North America and ANZ\",\"South Asia\",\"Southeast Asia\",\"Sub-Saharan Africa\",\"Western Europe\"],\"labels\":[\"Afghanistan\",\"Albania\",\"Algeria\",\"Argentina\",\"Armenia\",\"Australia\",\"Austria\",\"Azerbaijan\",\"Bahrain\",\"Bangladesh\",\"Belarus\",\"Belgium\",\"Benin\",\"Bolivia\",\"Bosnia and Herzegovina\",\"Botswana\",\"Brazil\",\"Bulgaria\",\"Burkina Faso\",\"Burundi\",\"Cambodia\",\"Cameroon\",\"Canada\",\"Chad\",\"Chile\",\"China\",\"Colombia\",\"Comoros\",\"Congo (Brazzaville)\",\"Costa Rica\",\"Croatia\",\"Cyprus\",\"Czech Republic\",\"Denmark\",\"Dominican Republic\",\"Ecuador\",\"Egypt\",\"El Salvador\",\"Estonia\",\"Ethiopia\",\"Finland\",\"France\",\"Gabon\",\"Gambia\",\"Georgia\",\"Germany\",\"Ghana\",\"Greece\",\"Guatemala\",\"Guinea\",\"Haiti\",\"Honduras\",\"Hong Kong S.A.R. of China\",\"Hungary\",\"Iceland\",\"India\",\"Indonesia\",\"Iran\",\"Iraq\",\"Ireland\",\"Israel\",\"Italy\",\"Ivory Coast\",\"Jamaica\",\"Japan\",\"Jordan\",\"Kazakhstan\",\"Kenya\",\"Kosovo\",\"Kuwait\",\"Kyrgyzstan\",\"Laos\",\"Latvia\",\"Lebanon\",\"Lesotho\",\"Liberia\",\"Libya\",\"Lithuania\",\"Luxembourg\",\"Madagascar\",\"Malawi\",\"Malaysia\",\"Maldives\",\"Mali\",\"Malta\",\"Mauritania\",\"Mauritius\",\"Mexico\",\"Moldova\",\"Mongolia\",\"Montenegro\",\"Morocco\",\"Mozambique\",\"Myanmar\",\"Namibia\",\"Nepal\",\"Netherlands\",\"New Zealand\",\"Nicaragua\",\"Niger\",\"Nigeria\",\"North Cyprus\",\"North Macedonia\",\"Norway\",\"Pakistan\",\"Palestinian Territories\",\"Panama\",\"Paraguay\",\"Peru\",\"Philippines\",\"Poland\",\"Portugal\",\"Romania\",\"Russia\",\"Rwanda\",\"Saudi Arabia\",\"Senegal\",\"Serbia\",\"Sierra Leone\",\"Singapore\",\"Slovakia\",\"Slovenia\",\"South Africa\",\"South Korea\",\"Spain\",\"Sri Lanka\",\"Swaziland\",\"Sweden\",\"Switzerland\",\"Taiwan Province of China\",\"Tajikistan\",\"Tanzania\",\"Thailand\",\"Togo\",\"Tunisia\",\"Turkey\",\"Turkmenistan\",\"Uganda\",\"Ukraine\",\"United Arab Emirates\",\"United Kingdom\",\"United States\",\"Uruguay\",\"Uzbekistan\",\"Venezuela\",\"Vietnam\",\"Yemen\",\"Zambia\",\"Zimbabwe\",\"Central and Eastern Europe\",\"Commonwealth of Independent States\",\"East Asia\",\"Latin America and Caribbean\",\"Middle East and North Africa\",\"North America and ANZ\",\"South Asia\",\"Southeast Asia\",\"Sub-Saharan Africa\",\"Western Europe\"],\"marker\":{\"coloraxis\":\"coloraxis\",\"colors\":[2.523,5.117,4.887,5.929,5.283,7.183,7.268,5.171,6.647000000000001,5.025,5.534,6.833999999999999,5.045,5.716,5.813,3.467,6.33,5.266,4.834,3.775,4.83,5.142,7.103,4.355,6.172000000000001,5.339,6.012,4.289,5.342,7.068999999999999,5.882000000000001,6.223000000000001,6.965,7.62,5.545,5.764,4.283,6.061,6.189,4.275,7.842,6.69,4.852,5.051,4.891,7.155,5.088,5.722999999999999,6.435,4.984,3.615,5.919,5.477,5.992,7.554,3.819,5.345,4.721,4.854,7.084999999999999,7.156999999999999,6.4830000000000005,5.306,6.309000000000001,5.94,4.395,6.152,4.607,6.372,6.105999999999999,5.744,5.03,6.032,4.584,3.512,4.625,5.41,6.255,7.324,4.208,3.6,5.384,5.198,4.723,6.602,4.227,6.049,6.317000000000001,5.766,5.677,5.581,4.918,4.794,4.426,4.574,5.269,7.464,7.277,5.972,5.074,4.759,5.536,5.101,7.392,4.934,4.517,6.180000000000001,5.653,5.839999999999999,5.88,6.1659999999999995,5.929,6.14,5.477,3.4149999999999996,6.494,5.132,6.078,3.849,6.377,6.331,6.461,4.956,5.845,6.491,4.325,4.308,7.363,7.571,6.584,5.466,3.623,5.984999999999999,4.107,4.596,4.948,5.066,4.636,4.875,6.561,7.064,6.951,6.431000000000001,6.179,4.892,5.411,3.658,4.073,3.1450000000000005,6.0230375659763515,5.499184043655874,5.838089036773564,5.985376960249152,5.399807789397764,7.130505295644244,4.632311484900139,5.467975507520342,4.587246203669941,6.9742682886518415]},\"name\":\"\",\"parents\":[\"South Asia\",\"Central and Eastern Europe\",\"Middle East and North Africa\",\"Latin America and Caribbean\",\"Commonwealth of Independent States\",\"North America and ANZ\",\"Western Europe\",\"Commonwealth of Independent States\",\"Middle East and North Africa\",\"South Asia\",\"Commonwealth of Independent States\",\"Western Europe\",\"Sub-Saharan Africa\",\"Latin America and Caribbean\",\"Central and Eastern Europe\",\"Sub-Saharan Africa\",\"Latin America and Caribbean\",\"Central and Eastern Europe\",\"Sub-Saharan Africa\",\"Sub-Saharan Africa\",\"Southeast Asia\",\"Sub-Saharan Africa\",\"North America and ANZ\",\"Sub-Saharan Africa\",\"Latin America and Caribbean\",\"East Asia\",\"Latin America and Caribbean\",\"Sub-Saharan Africa\",\"Sub-Saharan Africa\",\"Latin America and Caribbean\",\"Central and Eastern Europe\",\"Western Europe\",\"Central and Eastern Europe\",\"Western Europe\",\"Latin America and Caribbean\",\"Latin America and Caribbean\",\"Middle East and North Africa\",\"Latin America and Caribbean\",\"Central and Eastern Europe\",\"Sub-Saharan Africa\",\"Western Europe\",\"Western Europe\",\"Sub-Saharan Africa\",\"Sub-Saharan Africa\",\"Commonwealth of Independent States\",\"Western Europe\",\"Sub-Saharan Africa\",\"Western Europe\",\"Latin America and Caribbean\",\"Sub-Saharan Africa\",\"Latin America and Caribbean\",\"Latin America and Caribbean\",\"East Asia\",\"Central and Eastern Europe\",\"Western Europe\",\"South Asia\",\"Southeast Asia\",\"Middle East and North Africa\",\"Middle East and North Africa\",\"Western Europe\",\"Middle East and North Africa\",\"Western Europe\",\"Sub-Saharan Africa\",\"Latin America and Caribbean\",\"East Asia\",\"Middle East and North Africa\",\"Commonwealth of Independent States\",\"Sub-Saharan Africa\",\"Central and Eastern Europe\",\"Middle East and North Africa\",\"Commonwealth of Independent States\",\"Southeast Asia\",\"Central and Eastern Europe\",\"Middle East and North Africa\",\"Sub-Saharan Africa\",\"Sub-Saharan Africa\",\"Middle East and North Africa\",\"Central and Eastern Europe\",\"Western Europe\",\"Sub-Saharan Africa\",\"Sub-Saharan Africa\",\"Southeast Asia\",\"South Asia\",\"Sub-Saharan Africa\",\"Western Europe\",\"Sub-Saharan Africa\",\"Sub-Saharan Africa\",\"Latin America and Caribbean\",\"Commonwealth of Independent States\",\"East Asia\",\"Central and Eastern Europe\",\"Middle East and North Africa\",\"Sub-Saharan Africa\",\"Southeast Asia\",\"Sub-Saharan Africa\",\"South Asia\",\"Western Europe\",\"North America and ANZ\",\"Latin America and Caribbean\",\"Sub-Saharan Africa\",\"Sub-Saharan Africa\",\"Western Europe\",\"Central and Eastern Europe\",\"Western Europe\",\"South Asia\",\"Middle East and North Africa\",\"Latin America and Caribbean\",\"Latin America and Caribbean\",\"Latin America and Caribbean\",\"Southeast Asia\",\"Central and Eastern Europe\",\"Western Europe\",\"Central and Eastern Europe\",\"Commonwealth of Independent States\",\"Sub-Saharan Africa\",\"Middle East and North Africa\",\"Sub-Saharan Africa\",\"Central and Eastern Europe\",\"Sub-Saharan Africa\",\"Southeast Asia\",\"Central and Eastern Europe\",\"Central and Eastern Europe\",\"Sub-Saharan Africa\",\"East Asia\",\"Western Europe\",\"South Asia\",\"Sub-Saharan Africa\",\"Western Europe\",\"Western Europe\",\"East Asia\",\"Commonwealth of Independent States\",\"Sub-Saharan Africa\",\"Southeast Asia\",\"Sub-Saharan Africa\",\"Middle East and North Africa\",\"Middle East and North Africa\",\"Commonwealth of Independent States\",\"Sub-Saharan Africa\",\"Commonwealth of Independent States\",\"Middle East and North Africa\",\"Western Europe\",\"North America and ANZ\",\"Latin America and Caribbean\",\"Commonwealth of Independent States\",\"Latin America and Caribbean\",\"Southeast Asia\",\"Middle East and North Africa\",\"Sub-Saharan Africa\",\"Sub-Saharan Africa\",\"\",\"\",\"\",\"\",\"\",\"\",\"\",\"\",\"\",\"\"],\"values\":[2.523,5.117,4.887,5.929,5.283,7.183,7.268,5.171,6.647,5.025,5.534,6.834,5.045,5.716,5.813,3.467,6.33,5.266,4.834,3.775,4.83,5.142,7.103,4.355,6.172,5.339,6.012,4.289,5.342,7.069,5.882,6.223,6.965,7.62,5.545,5.764,4.283,6.061,6.189,4.275,7.842,6.69,4.852,5.051,4.891,7.155,5.088,5.723,6.435,4.984,3.615,5.919,5.477,5.992,7.554,3.819,5.345,4.721,4.854,7.085,7.157,6.483,5.306,6.309,5.94,4.395,6.152,4.607,6.372,6.106,5.744,5.03,6.032,4.584,3.512,4.625,5.41,6.255,7.324,4.208,3.6,5.384,5.198,4.723,6.602,4.227,6.049,6.317,5.766,5.677,5.581,4.918,4.794,4.426,4.574,5.269,7.464,7.277,5.972,5.074,4.759,5.536,5.101,7.392,4.934,4.517,6.18,5.653,5.84,5.88,6.166,5.929,6.14,5.477,3.415,6.494,5.132,6.078,3.849,6.377,6.331,6.461,4.956,5.845,6.491,4.325,4.308,7.363,7.571,6.584,5.466,3.623,5.985,4.107,4.596,4.948,5.066,4.636,4.875,6.561,7.064,6.951,6.431,6.179,4.892,5.411,3.658,4.073,3.145,101.741,65.604,34.862,118.161,88.736,28.514,31.093,48.668,161.80100000000002,145.213],\"type\":\"sunburst\"}],                        {\"template\":{\"data\":{\"histogram2dcontour\":[{\"type\":\"histogram2dcontour\",\"colorbar\":{\"outlinewidth\":0,\"ticks\":\"\"},\"colorscale\":[[0.0,\"#0d0887\"],[0.1111111111111111,\"#46039f\"],[0.2222222222222222,\"#7201a8\"],[0.3333333333333333,\"#9c179e\"],[0.4444444444444444,\"#bd3786\"],[0.5555555555555556,\"#d8576b\"],[0.6666666666666666,\"#ed7953\"],[0.7777777777777778,\"#fb9f3a\"],[0.8888888888888888,\"#fdca26\"],[1.0,\"#f0f921\"]]}],\"choropleth\":[{\"type\":\"choropleth\",\"colorbar\":{\"outlinewidth\":0,\"ticks\":\"\"}}],\"histogram2d\":[{\"type\":\"histogram2d\",\"colorbar\":{\"outlinewidth\":0,\"ticks\":\"\"},\"colorscale\":[[0.0,\"#0d0887\"],[0.1111111111111111,\"#46039f\"],[0.2222222222222222,\"#7201a8\"],[0.3333333333333333,\"#9c179e\"],[0.4444444444444444,\"#bd3786\"],[0.5555555555555556,\"#d8576b\"],[0.6666666666666666,\"#ed7953\"],[0.7777777777777778,\"#fb9f3a\"],[0.8888888888888888,\"#fdca26\"],[1.0,\"#f0f921\"]]}],\"heatmap\":[{\"type\":\"heatmap\",\"colorbar\":{\"outlinewidth\":0,\"ticks\":\"\"},\"colorscale\":[[0.0,\"#0d0887\"],[0.1111111111111111,\"#46039f\"],[0.2222222222222222,\"#7201a8\"],[0.3333333333333333,\"#9c179e\"],[0.4444444444444444,\"#bd3786\"],[0.5555555555555556,\"#d8576b\"],[0.6666666666666666,\"#ed7953\"],[0.7777777777777778,\"#fb9f3a\"],[0.8888888888888888,\"#fdca26\"],[1.0,\"#f0f921\"]]}],\"heatmapgl\":[{\"type\":\"heatmapgl\",\"colorbar\":{\"outlinewidth\":0,\"ticks\":\"\"},\"colorscale\":[[0.0,\"#0d0887\"],[0.1111111111111111,\"#46039f\"],[0.2222222222222222,\"#7201a8\"],[0.3333333333333333,\"#9c179e\"],[0.4444444444444444,\"#bd3786\"],[0.5555555555555556,\"#d8576b\"],[0.6666666666666666,\"#ed7953\"],[0.7777777777777778,\"#fb9f3a\"],[0.8888888888888888,\"#fdca26\"],[1.0,\"#f0f921\"]]}],\"contourcarpet\":[{\"type\":\"contourcarpet\",\"colorbar\":{\"outlinewidth\":0,\"ticks\":\"\"}}],\"contour\":[{\"type\":\"contour\",\"colorbar\":{\"outlinewidth\":0,\"ticks\":\"\"},\"colorscale\":[[0.0,\"#0d0887\"],[0.1111111111111111,\"#46039f\"],[0.2222222222222222,\"#7201a8\"],[0.3333333333333333,\"#9c179e\"],[0.4444444444444444,\"#bd3786\"],[0.5555555555555556,\"#d8576b\"],[0.6666666666666666,\"#ed7953\"],[0.7777777777777778,\"#fb9f3a\"],[0.8888888888888888,\"#fdca26\"],[1.0,\"#f0f921\"]]}],\"surface\":[{\"type\":\"surface\",\"colorbar\":{\"outlinewidth\":0,\"ticks\":\"\"},\"colorscale\":[[0.0,\"#0d0887\"],[0.1111111111111111,\"#46039f\"],[0.2222222222222222,\"#7201a8\"],[0.3333333333333333,\"#9c179e\"],[0.4444444444444444,\"#bd3786\"],[0.5555555555555556,\"#d8576b\"],[0.6666666666666666,\"#ed7953\"],[0.7777777777777778,\"#fb9f3a\"],[0.8888888888888888,\"#fdca26\"],[1.0,\"#f0f921\"]]}],\"mesh3d\":[{\"type\":\"mesh3d\",\"colorbar\":{\"outlinewidth\":0,\"ticks\":\"\"}}],\"scatter\":[{\"fillpattern\":{\"fillmode\":\"overlay\",\"size\":10,\"solidity\":0.2},\"type\":\"scatter\"}],\"parcoords\":[{\"type\":\"parcoords\",\"line\":{\"colorbar\":{\"outlinewidth\":0,\"ticks\":\"\"}}}],\"scatterpolargl\":[{\"type\":\"scatterpolargl\",\"marker\":{\"colorbar\":{\"outlinewidth\":0,\"ticks\":\"\"}}}],\"bar\":[{\"error_x\":{\"color\":\"#2a3f5f\"},\"error_y\":{\"color\":\"#2a3f5f\"},\"marker\":{\"line\":{\"color\":\"#E5ECF6\",\"width\":0.5},\"pattern\":{\"fillmode\":\"overlay\",\"size\":10,\"solidity\":0.2}},\"type\":\"bar\"}],\"scattergeo\":[{\"type\":\"scattergeo\",\"marker\":{\"colorbar\":{\"outlinewidth\":0,\"ticks\":\"\"}}}],\"scatterpolar\":[{\"type\":\"scatterpolar\",\"marker\":{\"colorbar\":{\"outlinewidth\":0,\"ticks\":\"\"}}}],\"histogram\":[{\"marker\":{\"pattern\":{\"fillmode\":\"overlay\",\"size\":10,\"solidity\":0.2}},\"type\":\"histogram\"}],\"scattergl\":[{\"type\":\"scattergl\",\"marker\":{\"colorbar\":{\"outlinewidth\":0,\"ticks\":\"\"}}}],\"scatter3d\":[{\"type\":\"scatter3d\",\"line\":{\"colorbar\":{\"outlinewidth\":0,\"ticks\":\"\"}},\"marker\":{\"colorbar\":{\"outlinewidth\":0,\"ticks\":\"\"}}}],\"scattermapbox\":[{\"type\":\"scattermapbox\",\"marker\":{\"colorbar\":{\"outlinewidth\":0,\"ticks\":\"\"}}}],\"scatterternary\":[{\"type\":\"scatterternary\",\"marker\":{\"colorbar\":{\"outlinewidth\":0,\"ticks\":\"\"}}}],\"scattercarpet\":[{\"type\":\"scattercarpet\",\"marker\":{\"colorbar\":{\"outlinewidth\":0,\"ticks\":\"\"}}}],\"carpet\":[{\"aaxis\":{\"endlinecolor\":\"#2a3f5f\",\"gridcolor\":\"white\",\"linecolor\":\"white\",\"minorgridcolor\":\"white\",\"startlinecolor\":\"#2a3f5f\"},\"baxis\":{\"endlinecolor\":\"#2a3f5f\",\"gridcolor\":\"white\",\"linecolor\":\"white\",\"minorgridcolor\":\"white\",\"startlinecolor\":\"#2a3f5f\"},\"type\":\"carpet\"}],\"table\":[{\"cells\":{\"fill\":{\"color\":\"#EBF0F8\"},\"line\":{\"color\":\"white\"}},\"header\":{\"fill\":{\"color\":\"#C8D4E3\"},\"line\":{\"color\":\"white\"}},\"type\":\"table\"}],\"barpolar\":[{\"marker\":{\"line\":{\"color\":\"#E5ECF6\",\"width\":0.5},\"pattern\":{\"fillmode\":\"overlay\",\"size\":10,\"solidity\":0.2}},\"type\":\"barpolar\"}],\"pie\":[{\"automargin\":true,\"type\":\"pie\"}]},\"layout\":{\"autotypenumbers\":\"strict\",\"colorway\":[\"#636efa\",\"#EF553B\",\"#00cc96\",\"#ab63fa\",\"#FFA15A\",\"#19d3f3\",\"#FF6692\",\"#B6E880\",\"#FF97FF\",\"#FECB52\"],\"font\":{\"color\":\"#2a3f5f\"},\"hovermode\":\"closest\",\"hoverlabel\":{\"align\":\"left\"},\"paper_bgcolor\":\"white\",\"plot_bgcolor\":\"#E5ECF6\",\"polar\":{\"bgcolor\":\"#E5ECF6\",\"angularaxis\":{\"gridcolor\":\"white\",\"linecolor\":\"white\",\"ticks\":\"\"},\"radialaxis\":{\"gridcolor\":\"white\",\"linecolor\":\"white\",\"ticks\":\"\"}},\"ternary\":{\"bgcolor\":\"#E5ECF6\",\"aaxis\":{\"gridcolor\":\"white\",\"linecolor\":\"white\",\"ticks\":\"\"},\"baxis\":{\"gridcolor\":\"white\",\"linecolor\":\"white\",\"ticks\":\"\"},\"caxis\":{\"gridcolor\":\"white\",\"linecolor\":\"white\",\"ticks\":\"\"}},\"coloraxis\":{\"colorbar\":{\"outlinewidth\":0,\"ticks\":\"\"}},\"colorscale\":{\"sequential\":[[0.0,\"#0d0887\"],[0.1111111111111111,\"#46039f\"],[0.2222222222222222,\"#7201a8\"],[0.3333333333333333,\"#9c179e\"],[0.4444444444444444,\"#bd3786\"],[0.5555555555555556,\"#d8576b\"],[0.6666666666666666,\"#ed7953\"],[0.7777777777777778,\"#fb9f3a\"],[0.8888888888888888,\"#fdca26\"],[1.0,\"#f0f921\"]],\"sequentialminus\":[[0.0,\"#0d0887\"],[0.1111111111111111,\"#46039f\"],[0.2222222222222222,\"#7201a8\"],[0.3333333333333333,\"#9c179e\"],[0.4444444444444444,\"#bd3786\"],[0.5555555555555556,\"#d8576b\"],[0.6666666666666666,\"#ed7953\"],[0.7777777777777778,\"#fb9f3a\"],[0.8888888888888888,\"#fdca26\"],[1.0,\"#f0f921\"]],\"diverging\":[[0,\"#8e0152\"],[0.1,\"#c51b7d\"],[0.2,\"#de77ae\"],[0.3,\"#f1b6da\"],[0.4,\"#fde0ef\"],[0.5,\"#f7f7f7\"],[0.6,\"#e6f5d0\"],[0.7,\"#b8e186\"],[0.8,\"#7fbc41\"],[0.9,\"#4d9221\"],[1,\"#276419\"]]},\"xaxis\":{\"gridcolor\":\"white\",\"linecolor\":\"white\",\"ticks\":\"\",\"title\":{\"standoff\":15},\"zerolinecolor\":\"white\",\"automargin\":true,\"zerolinewidth\":2},\"yaxis\":{\"gridcolor\":\"white\",\"linecolor\":\"white\",\"ticks\":\"\",\"title\":{\"standoff\":15},\"zerolinecolor\":\"white\",\"automargin\":true,\"zerolinewidth\":2},\"scene\":{\"xaxis\":{\"backgroundcolor\":\"#E5ECF6\",\"gridcolor\":\"white\",\"linecolor\":\"white\",\"showbackground\":true,\"ticks\":\"\",\"zerolinecolor\":\"white\",\"gridwidth\":2},\"yaxis\":{\"backgroundcolor\":\"#E5ECF6\",\"gridcolor\":\"white\",\"linecolor\":\"white\",\"showbackground\":true,\"ticks\":\"\",\"zerolinecolor\":\"white\",\"gridwidth\":2},\"zaxis\":{\"backgroundcolor\":\"#E5ECF6\",\"gridcolor\":\"white\",\"linecolor\":\"white\",\"showbackground\":true,\"ticks\":\"\",\"zerolinecolor\":\"white\",\"gridwidth\":2}},\"shapedefaults\":{\"line\":{\"color\":\"#2a3f5f\"}},\"annotationdefaults\":{\"arrowcolor\":\"#2a3f5f\",\"arrowhead\":0,\"arrowwidth\":1},\"geo\":{\"bgcolor\":\"white\",\"landcolor\":\"#E5ECF6\",\"subunitcolor\":\"white\",\"showland\":true,\"showlakes\":true,\"lakecolor\":\"white\"},\"title\":{\"x\":0.05},\"mapbox\":{\"style\":\"light\"}}},\"coloraxis\":{\"colorbar\":{\"title\":{\"text\":\"Ladder score\"}},\"colorscale\":[[0.0,\"#0d0887\"],[0.1111111111111111,\"#46039f\"],[0.2222222222222222,\"#7201a8\"],[0.3333333333333333,\"#9c179e\"],[0.4444444444444444,\"#bd3786\"],[0.5555555555555556,\"#d8576b\"],[0.6666666666666666,\"#ed7953\"],[0.7777777777777778,\"#fb9f3a\"],[0.8888888888888888,\"#fdca26\"],[1.0,\"#f0f921\"]]},\"legend\":{\"tracegroupgap\":0},\"margin\":{\"t\":60},\"title\":{\"text\":\"\\ub098\\ub77c\\ubcc4 \\ud589\\ubcf5 \\uc9c0\\uc218\",\"x\":0.5},\"width\":1200,\"height\":900},                        {\"responsive\": true}                    ).then(function(){\n",
              "                            \n",
              "var gd = document.getElementById('7fd2201f-3b12-4db0-8fa6-6136e0d37d9c');\n",
              "var x = new MutationObserver(function (mutations, observer) {{\n",
              "        var display = window.getComputedStyle(gd).display;\n",
              "        if (!display || display === 'none') {{\n",
              "            console.log([gd, 'removed!']);\n",
              "            Plotly.purge(gd);\n",
              "            observer.disconnect();\n",
              "        }}\n",
              "}});\n",
              "\n",
              "// Listen for the removal of the full notebook cells\n",
              "var notebookContainer = gd.closest('#notebook-container');\n",
              "if (notebookContainer) {{\n",
              "    x.observe(notebookContainer, {childList: true});\n",
              "}}\n",
              "\n",
              "// Listen for the clearing of the current output cell\n",
              "var outputEl = gd.closest('.output');\n",
              "if (outputEl) {{\n",
              "    x.observe(outputEl, {childList: true});\n",
              "}}\n",
              "\n",
              "                        })                };                            </script>        </div>\n",
              "</body>\n",
              "</html>"
            ]
          },
          "metadata": {}
        }
      ]
    },
    {
      "cell_type": "markdown",
      "metadata": {
        "id": "YXdZZWCYLp-N"
      },
      "source": [
        "----------"
      ]
    }
  ],
  "metadata": {
    "colab": {
      "provenance": [],
      "include_colab_link": true
    },
    "kernelspec": {
      "display_name": "Python 3 (ipykernel)",
      "language": "python",
      "name": "python3"
    },
    "language_info": {
      "codemirror_mode": {
        "name": "ipython",
        "version": 3
      },
      "file_extension": ".py",
      "mimetype": "text/x-python",
      "name": "python",
      "nbconvert_exporter": "python",
      "pygments_lexer": "ipython3",
      "version": "3.10.9"
    }
  },
  "nbformat": 4,
  "nbformat_minor": 0
}