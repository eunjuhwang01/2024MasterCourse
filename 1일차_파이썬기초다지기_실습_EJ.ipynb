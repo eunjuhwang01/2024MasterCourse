{
  "cells": [
    {
      "cell_type": "markdown",
      "metadata": {
        "id": "view-in-github",
        "colab_type": "text"
      },
      "source": [
        "<a href=\"https://colab.research.google.com/github/eunjuhwang01/2024MasterCourse/blob/main/1%EC%9D%BC%EC%B0%A8_%ED%8C%8C%EC%9D%B4%EC%8D%AC%EA%B8%B0%EC%B4%88%EB%8B%A4%EC%A7%80%EA%B8%B0_%EC%8B%A4%EC%8A%B5_EJ.ipynb\" target=\"_parent\"><img src=\"https://colab.research.google.com/assets/colab-badge.svg\" alt=\"Open In Colab\"/></a>"
      ]
    },
    {
      "cell_type": "markdown",
      "metadata": {
        "id": "zRxHpy-28GGG"
      },
      "source": [
        "# 1일차-파이썬 기초 다지기"
      ]
    },
    {
      "cell_type": "markdown",
      "metadata": {
        "id": "VRVM91mPB34V"
      },
      "source": [
        "## 1.파이썬 이해하기"
      ]
    },
    {
      "cell_type": "markdown",
      "metadata": {
        "id": "hOwZhukd8GGK"
      },
      "source": [
        "### 파이썬 버전 확인"
      ]
    },
    {
      "cell_type": "code",
      "source": [],
      "metadata": {
        "id": "WCJ5nbOTB5ZF"
      },
      "execution_count": null,
      "outputs": []
    },
    {
      "cell_type": "markdown",
      "metadata": {
        "id": "HAFtSTG28GGL"
      },
      "source": [
        "### 파이썬 설치 위치 확인"
      ]
    },
    {
      "cell_type": "code",
      "execution_count": null,
      "metadata": {
        "id": "46cMOIHW8GGM"
      },
      "outputs": [],
      "source": []
    },
    {
      "cell_type": "markdown",
      "metadata": {
        "id": "BVZeLUFeILol"
      },
      "source": [
        "### [실습] 파이썬 정보 확인하기\n",
        "\n",
        "\n",
        "1.   설치된 파이썬 버전 출력하기\n",
        "2.   파이썬 실행파일 위치 출력하기\n",
        "\n"
      ]
    },
    {
      "cell_type": "code",
      "execution_count": null,
      "metadata": {
        "id": "wYTlynjPIaj4"
      },
      "outputs": [],
      "source": [
        "import sys\n",
        "\n",
        "print(f'설치된 파이썬 버전: { }')\n",
        "print(f'파이썬 실행파일 위치: { }')"
      ]
    },
    {
      "cell_type": "markdown",
      "metadata": {
        "id": "KE15Fd6jCbUK"
      },
      "source": [
        "### 라이브러리 설치하기"
      ]
    },
    {
      "cell_type": "code",
      "execution_count": null,
      "metadata": {
        "id": "PlG-i1fYCbdI"
      },
      "outputs": [],
      "source": [
        "!pip install missingno"
      ]
    },
    {
      "cell_type": "markdown",
      "source": [
        "### 라이브러리 삭제하기"
      ],
      "metadata": {
        "id": "3peceTCrCuXS"
      }
    },
    {
      "cell_type": "code",
      "execution_count": null,
      "metadata": {
        "id": "CO9pIWvq8GGN",
        "scrolled": true
      },
      "outputs": [],
      "source": [
        "!pip uninstall missingno"
      ]
    },
    {
      "cell_type": "markdown",
      "metadata": {
        "id": "5KtJAiS08GGO"
      },
      "source": [
        "### 설치된 라이브러리 확인(전체)"
      ]
    },
    {
      "cell_type": "code",
      "execution_count": null,
      "metadata": {
        "id": "0bsTdq6y8GGO"
      },
      "outputs": [],
      "source": [
        "pip list"
      ]
    },
    {
      "cell_type": "markdown",
      "metadata": {
        "id": "G_IjDeFh8GGP"
      },
      "source": [
        "### 설치된 라이브러리 확인(특정 라이브러리)"
      ]
    },
    {
      "cell_type": "code",
      "execution_count": null,
      "metadata": {
        "id": "TqvE9YpV8GGP"
      },
      "outputs": [],
      "source": [
        "pip show numpy"
      ]
    },
    {
      "cell_type": "markdown",
      "metadata": {
        "id": "KSNOrnoMHEjD"
      },
      "source": [
        "### 파이썬 오류 확인"
      ]
    },
    {
      "cell_type": "code",
      "execution_count": null,
      "metadata": {
        "id": "B8pmiTi5G8JX"
      },
      "outputs": [],
      "source": [
        "# Syntax 오류 발생 예\n",
        "a = 1\n",
        "if a < 9\n",
        "    print('a < 9')"
      ]
    },
    {
      "cell_type": "markdown",
      "source": [
        "### 파이썬 예외처리 방법"
      ],
      "metadata": {
        "id": "DJQhC7btE_L5"
      }
    },
    {
      "cell_type": "code",
      "execution_count": null,
      "metadata": {
        "id": "GJ1Y-0wMHXJd"
      },
      "outputs": [],
      "source": [
        "# 오류 예외처리\n",
        "while True:\n",
        "    try:\n",
        "        x = int(input('Please enter a number: '))\n",
        "        break\n",
        "\n",
        "    except ValueError:\n",
        "        print('Oops! That was no valid number. Try again...')\n",
        "\n",
        "print('-----')"
      ]
    },
    {
      "cell_type": "markdown",
      "metadata": {
        "id": "6Ef7gKpD8GGP"
      },
      "source": [
        "### [PC에서만 실행] 수업에 사용할 라이브러리 설치하기\n",
        "- PC 윈도우 명령프롬프트에서 실행한다. 코랩에서는 실행 안함\n",
        "- PC에서는 명령어 맨 앞 '!'를 제거하고 실행한다."
      ]
    },
    {
      "cell_type": "code",
      "source": [
        "!python -m pip install --upgrade pip"
      ],
      "metadata": {
        "id": "ViukrDAGDuPc"
      },
      "execution_count": null,
      "outputs": []
    },
    {
      "cell_type": "code",
      "execution_count": null,
      "metadata": {
        "id": "WnEwfA_x8GGQ"
      },
      "outputs": [],
      "source": [
        "!pip install numpy"
      ]
    },
    {
      "cell_type": "code",
      "execution_count": null,
      "metadata": {
        "id": "ZqJSQDet8GGQ"
      },
      "outputs": [],
      "source": [
        "!pip install pandas"
      ]
    },
    {
      "cell_type": "code",
      "execution_count": null,
      "metadata": {
        "id": "JtYjHD2D8GGQ"
      },
      "outputs": [],
      "source": [
        "!pip install matplotlib"
      ]
    },
    {
      "cell_type": "code",
      "execution_count": null,
      "metadata": {
        "id": "BRSzhspAC6J8"
      },
      "outputs": [],
      "source": [
        "!pip install seaborn"
      ]
    },
    {
      "cell_type": "code",
      "execution_count": null,
      "metadata": {
        "id": "8spH-HIwC6Sz"
      },
      "outputs": [],
      "source": [
        "!pip install ploty"
      ]
    },
    {
      "cell_type": "markdown",
      "metadata": {
        "id": "wl2PYxtB8GGR"
      },
      "source": [
        "----------"
      ]
    },
    {
      "cell_type": "markdown",
      "metadata": {
        "id": "T20_kqnwDKe2"
      },
      "source": [
        "## 2.파이썬 자료형과 연산자"
      ]
    },
    {
      "cell_type": "markdown",
      "source": [
        "### **[자료형]**"
      ],
      "metadata": {
        "id": "rxo68HToTgT0"
      }
    },
    {
      "cell_type": "markdown",
      "metadata": {
        "id": "GPQdotYg8GGR"
      },
      "source": [
        "### 파이썬 자료형 확인"
      ]
    },
    {
      "cell_type": "code",
      "execution_count": null,
      "metadata": {
        "id": "re9ioSIM8GGR"
      },
      "outputs": [],
      "source": [
        "d1 = 123\n",
        "d2 = '123'\n",
        "d3 = [123]\n",
        "d4 = (123,)\n",
        "d5 = {'key':123}\n",
        "d6 = {123}\n",
        "d7 = True\n",
        "\n",
        "print(f'{d1}의 자료형: {type(d1)}')\n",
        "print(f'{d2}의 자료형: {type(d2)}')\n",
        "print(f'{d3}의 자료형: {type(d3)}')\n",
        "print(f'{d4}의 자료형: {type(d4)}')\n",
        "print(f'{d5}의 자료형: {type(d5)}')\n",
        "print(f'{d6}의 자료형: {type(d6)}')\n",
        "print(f'{d7}의 자료형: {type(d7)}')"
      ]
    },
    {
      "cell_type": "markdown",
      "source": [
        "### [실습문제] 반복문을 이용하여 자료형 출력하기\n",
        "위 자료형을 아래 미션에 맞게 출력해 보세요."
      ],
      "metadata": {
        "id": "H7bSljnRIERc"
      }
    },
    {
      "cell_type": "code",
      "execution_count": null,
      "metadata": {
        "id": "gbzIvlUi8GGR",
        "scrolled": true,
        "colab": {
          "base_uri": "https://localhost:8080/"
        },
        "outputId": "743ff5ac-138c-47a3-fcd4-9cfa24c0c7da"
      },
      "outputs": [
        {
          "output_type": "stream",
          "name": "stdout",
          "text": [
            "123 <class 'int'>\n",
            "123 <class 'str'>\n",
            "[123] <class 'list'>\n",
            "(123,) <class 'tuple'>\n",
            "{'key': 123} <class 'dict'>\n",
            "{123} <class 'set'>\n",
            "True <class 'bool'>\n"
          ]
        }
      ],
      "source": [
        "# [미션] 리스트와 반복문을 이용하여 간단하게 나타내기\n",
        "datas = [123,'123',[123],(123,),{'key':123},{123},True]\n",
        "for data in datas:\n",
        "    print(data, type(data))"
      ]
    },
    {
      "cell_type": "code",
      "source": [
        "# [미션] isinstance()함수를 이용하여 데이터 타입 확인\n",
        "def get_datatype(data):\n",
        "    instance= {int:'정수', float:'실수', str:'문자열', bool:'불린',\n",
        "           list:'리스트', tuple:'튜플', dict:'딕셔너리', set:'집합' }\n",
        "    for key, value in instance.items():\n",
        "        if isinstance(data, key):\n",
        "            print(f'{data}는 {value} 형입니다.')\n",
        "\n",
        "for data in datas:\n",
        "    get_datatype(data)"
      ],
      "metadata": {
        "id": "PMDfoepfF7K4"
      },
      "execution_count": null,
      "outputs": []
    },
    {
      "cell_type": "markdown",
      "source": [
        "### [표준입출력]"
      ],
      "metadata": {
        "id": "Qv7p8JOYJdMf"
      }
    },
    {
      "cell_type": "markdown",
      "metadata": {
        "id": "EDFiaZyv8GGR"
      },
      "source": [
        "### 실습문제\n",
        "두 수를 입력 받아 덧셈, 뺄셈, 곱셈, 몫, 나머지를 출력하는 프로그램을 작성하세요\n"
      ]
    },
    {
      "cell_type": "code",
      "execution_count": null,
      "metadata": {
        "id": "a9sG7Q738GGS",
        "scrolled": true,
        "colab": {
          "base_uri": "https://localhost:8080/"
        },
        "outputId": "6bb53843-b29a-4183-97c2-351f264ba6fd"
      },
      "outputs": [
        {
          "output_type": "stream",
          "name": "stdout",
          "text": [
            "첫번째 숫자: 50\n",
            "두번째 숫자: 3\n",
            "------------------------------\n",
            "덧셈:50+3=53\n",
            "뺄셈:50-3=47\n",
            "곱셈:50*3=150\n",
            "몫:50//3=16\n",
            "나머지:50%3=2\n"
          ]
        }
      ],
      "source": [
        "num1 = input('첫번째 숫자: ')\n",
        "num2 = input('두번째 숫자: ')\n",
        "\n",
        "print('-'*30)\n",
        "print(f'덧셈:{int(num1)}+{int(num2)}={int(num1)+int(num2)}')\n",
        "print(f'뺄셈:{int(num1)}-{int(num2)}={int(num1)-int(num2)}')\n",
        "print(f'곱셈:{int(num1)}*{int(num2)}={int(num1)*int(num2)}')\n",
        "print(f'몫:{int(num1)}//{int(num2)}={int(num1)//int(num2)}')\n",
        "print(f'나머지:{int(num1)}%{int(num2)}={int(num1)%int(num2)}')"
      ]
    },
    {
      "cell_type": "markdown",
      "metadata": {
        "id": "LqAbyRHs8GGS"
      },
      "source": [
        "### 실습문제: 시간 계산 프로그램\n",
        "속력과 거리를 입력 받아 시간을 계산하여 출력하는 프로그램을 만드세요!\n",
        "- 시간 = 거리 / 속력\n",
        "\n"
      ]
    },
    {
      "cell_type": "code",
      "execution_count": null,
      "metadata": {
        "id": "YwepfYt98GGS",
        "colab": {
          "base_uri": "https://localhost:8080/"
        },
        "outputId": "447e492c-febc-4b3a-ef41-ffe4c8277ef0"
      },
      "outputs": [
        {
          "output_type": "stream",
          "name": "stdout",
          "text": [
            "속력를 입력해 주세요(km/h) : 100\n",
            "거리를 입력해 주세요(km) : 400\n",
            "속력 : 100 km/h\n",
            "거리 : 400 km\n",
            "시간 : 4.0 h\n"
          ]
        }
      ],
      "source": [
        "velocity = input('속력를 입력해 주세요(km/h) : ')\n",
        "distance = input('거리를 입력해 주세요(km) : ')\n",
        "vel = int(velocity)\n",
        "dis = int(distance)\n",
        "time = dis/vel\n",
        "\n",
        "print(f'속력 : {vel} km/h')\n",
        "print(f'거리 : {dis} km')\n",
        "print(f'시간 : {time} h')"
      ]
    },
    {
      "cell_type": "markdown",
      "metadata": {
        "id": "sHIxGA0xLj0C"
      },
      "source": [
        "- eval()함수 사용하여 문자열을 계산할 수 있다"
      ]
    },
    {
      "cell_type": "code",
      "execution_count": null,
      "metadata": {
        "id": "gvVxuLjX8GGS"
      },
      "outputs": [],
      "source": [
        "# eval()함수 사용\n",
        "time = eval(f'{distance} / {velocity}')\n",
        "print(time)"
      ]
    },
    {
      "cell_type": "markdown",
      "metadata": {
        "id": "tECEWKan8GGS"
      },
      "source": [
        "### 실습문제 : 정수 합 구하기\n",
        "아래와 같이 정수 n을 입력 받아, a + aa + aaa의 결과 값을 구하는 프로그램을 작성하세요"
      ]
    },
    {
      "cell_type": "code",
      "execution_count": null,
      "metadata": {
        "id": "a04GPnn98GGS",
        "scrolled": true,
        "colab": {
          "base_uri": "https://localhost:8080/"
        },
        "outputId": "abf17d0e-0ebf-4381-978d-d6aaeaeb8eb8"
      },
      "outputs": [
        {
          "output_type": "stream",
          "name": "stdout",
          "text": [
            "정수를 입력하세요: 7\n",
            "7+77+777=861\n"
          ]
        }
      ],
      "source": [
        "n = input('정수를 입력하세요: ')\n",
        "print(f'{int(n)}+{int(n*2)}+{int(n*3)}={int(n)+int(n*2)+int(n*3)}')\n",
        "\n",
        "\n"
      ]
    },
    {
      "cell_type": "markdown",
      "source": [
        "### [문자와 문자열]"
      ],
      "metadata": {
        "id": "SHkqIiXbJXrR"
      }
    },
    {
      "cell_type": "markdown",
      "source": [
        "### 실습문제 : 문자열 거꾸로 출력하기"
      ],
      "metadata": {
        "id": "kc4LrgAHJw4f"
      }
    },
    {
      "cell_type": "code",
      "source": [
        "s= '안녕하세요!!!'\n",
        "s=list[s]\n",
        "print(s.reverse)"
      ],
      "metadata": {
        "id": "_QpSs-GCJvyH",
        "colab": {
          "base_uri": "https://localhost:8080/"
        },
        "outputId": "058b007f-639f-428f-e7a7-27fc1b79330d"
      },
      "execution_count": null,
      "outputs": [
        {
          "output_type": "stream",
          "name": "stdout",
          "text": [
            "<method 'reverse' of 'list' objects>\n"
          ]
        }
      ]
    },
    {
      "cell_type": "markdown",
      "source": [
        "### 실습문제: 간단 챗봇 만들기\n"
      ],
      "metadata": {
        "id": "t1KHQyvnJrj3"
      }
    },
    {
      "cell_type": "code",
      "source": [
        "# 간단한 챗봇 만들기\n",
        "print('안녕하세요~')\n",
        "name = input('당신의 이름은 뭐예요? ')\n",
        "print(f'만나서 반갑습니다. {name}님')\n",
        "print(f'{name}님 이름의 길이는 다음과 같군요 : {len(name)}')\n",
        "age = input('{name}님 나이가 어떻게 되나요? ')\n",
        "print(f'내년에는 {age+1}세가 되시는군요?')\n"
      ],
      "metadata": {
        "id": "Fg-QYkDPJr14",
        "colab": {
          "base_uri": "https://localhost:8080/"
        },
        "outputId": "3626659b-c9fb-41f7-a139-90c4a4cc87e3"
      },
      "execution_count": null,
      "outputs": [
        {
          "output_type": "stream",
          "name": "stdout",
          "text": [
            "안녕하세요~\n",
            "당신의 이름은 뭐예요? 아이유\n",
            "만나서 반갑습니다. 아이유님\n",
            "아이유님 이름의 길이는 다음과 같군요 : 3\n",
            "{name}님 나이가 어떻게 되나요? 31\n",
            "내년에는 31세가 되시는군요?\n"
          ]
        }
      ]
    },
    {
      "cell_type": "markdown",
      "metadata": {
        "id": "Hb6l5EjLQB2m"
      },
      "source": [
        "### 실습문제 :  구글TTS(gTTS) 사용하여 음성 출력하기\n",
        "TTS : Text to Speech"
      ]
    },
    {
      "cell_type": "markdown",
      "source": [],
      "metadata": {
        "id": "MKZzJ2iCMu9b"
      }
    },
    {
      "cell_type": "code",
      "execution_count": null,
      "metadata": {
        "id": "-eY--f6MPwTf",
        "colab": {
          "base_uri": "https://localhost:8080/"
        },
        "outputId": "9c48f324-99c1-4b1b-f282-0a2118fc3ad5"
      },
      "outputs": [
        {
          "output_type": "stream",
          "name": "stdout",
          "text": [
            "Collecting gTTS\n",
            "  Downloading gTTS-2.5.3-py3-none-any.whl.metadata (4.1 kB)\n",
            "Requirement already satisfied: requests<3,>=2.27 in /usr/local/lib/python3.10/dist-packages (from gTTS) (2.32.3)\n",
            "Requirement already satisfied: click<8.2,>=7.1 in /usr/local/lib/python3.10/dist-packages (from gTTS) (8.1.7)\n",
            "Requirement already satisfied: charset-normalizer<4,>=2 in /usr/local/lib/python3.10/dist-packages (from requests<3,>=2.27->gTTS) (3.3.2)\n",
            "Requirement already satisfied: idna<4,>=2.5 in /usr/local/lib/python3.10/dist-packages (from requests<3,>=2.27->gTTS) (3.10)\n",
            "Requirement already satisfied: urllib3<3,>=1.21.1 in /usr/local/lib/python3.10/dist-packages (from requests<3,>=2.27->gTTS) (2.2.3)\n",
            "Requirement already satisfied: certifi>=2017.4.17 in /usr/local/lib/python3.10/dist-packages (from requests<3,>=2.27->gTTS) (2024.8.30)\n",
            "Downloading gTTS-2.5.3-py3-none-any.whl (29 kB)\n",
            "Installing collected packages: gTTS\n",
            "Successfully installed gTTS-2.5.3\n"
          ]
        }
      ],
      "source": [
        "# 구글 tts 프로그램\n",
        "!pip install gTTS"
      ]
    },
    {
      "cell_type": "code",
      "execution_count": null,
      "metadata": {
        "id": "O_xqpl0pPx6k",
        "colab": {
          "base_uri": "https://localhost:8080/",
          "height": 74
        },
        "outputId": "033c6a70-5b43-4a15-ed1b-4bbfeac6df64"
      },
      "outputs": [
        {
          "output_type": "display_data",
          "data": {
            "text/plain": [
              "<IPython.lib.display.Audio object>"
            ],
            "text/html": [
              "\n",
              "                <audio  controls=\"controls\" autoplay=\"autoplay\">\n",
              "                    <source src=\"data:audio/x-wav;base64,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\" type=\"audio/x-wav\" />\n",
              "                    Your browser does not support the audio element.\n",
              "                </audio>\n",
              "              "
            ]
          },
          "metadata": {}
        }
      ],
      "source": [
        "# 영어 출력\n",
        "from gtts import gTTS\n",
        "from IPython.display import Audio\n",
        "\n",
        "eng_wav = gTTS('Hello World!')\n",
        "eng_wav.save('eng.wav')\n",
        "\n",
        "display(Audio('eng.wav', autoplay=True))"
      ]
    },
    {
      "cell_type": "code",
      "execution_count": null,
      "metadata": {
        "id": "inyZATWlP3Cp",
        "colab": {
          "base_uri": "https://localhost:8080/",
          "height": 74
        },
        "outputId": "45fd6f47-67e6-439d-e960-1125198ac658"
      },
      "outputs": [
        {
          "output_type": "display_data",
          "data": {
            "text/plain": [
              "<IPython.lib.display.Audio object>"
            ],
            "text/html": [
              "\n",
              "                <audio  controls=\"controls\" autoplay=\"autoplay\">\n",
              "                    <source src=\"data:audio/x-wav;base64,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\" type=\"audio/x-wav\" />\n",
              "                    Your browser does not support the audio element.\n",
              "                </audio>\n",
              "              "
            ]
          },
          "metadata": {}
        }
      ],
      "source": [
        "# 한글 출력\n",
        "from gtts import gTTS\n",
        "from IPython.display import Audio\n",
        "\n",
        "kor_wav = gTTS('안녕하세요! ', lang = 'ko')\n",
        "kor_wav.save('kor.wav')\n",
        "\n",
        "display(Audio('kor.wav', autoplay=True))"
      ]
    },
    {
      "cell_type": "code",
      "source": [
        "from gtts import gTTS\n",
        "from IPython.display import Audio, display\n",
        "import os\n",
        "import time\n",
        "\n",
        "def text_to_speech_from_file(filename):\n",
        "\n",
        "    with open(filename, 'r', encoding='utf-8') as file:\n",
        "        for index, line in enumerate(file):\n",
        "            line = line.strip()\n",
        "            if line:  # 빈 줄은 건너뜀\n",
        "                # 텍스트를 음성으로 변환\n",
        "                tts = gTTS(text=line, lang='ko')\n",
        "                audio_file = f\"temp_audio_{index}.mp3\"\n",
        "\n",
        "                # 음성 파일 저장\n",
        "                tts.save(audio_file)\n",
        "\n",
        "                # 음성 파일을 재생 (IPython.display.Audio 사용)\n",
        "                display(Audio(audio_file, autoplay=True))\n",
        "\n",
        "                # 음성이 끝날 때까지 잠시 대기\n",
        "                time.sleep(2)  # 음성 길이에 따라 조절 가능\n",
        "\n",
        "                # 파일 삭제\n",
        "                os.remove(audio_file)\n",
        "\n",
        "                if index > 10 :\n",
        "                    break\n",
        "# 전체주석 : 블록설정후, Ctrl+/\n",
        "# 텍스트 파일 경로를 지정하세요.\n",
        "text_to_speech_from_file('사건의지평선.txt')\n"
      ],
      "metadata": {
        "id": "VdNYWRldOWow"
      },
      "execution_count": null,
      "outputs": []
    },
    {
      "cell_type": "markdown",
      "metadata": {
        "id": "3UTLuSAp8GGY"
      },
      "source": [
        "--------"
      ]
    },
    {
      "cell_type": "markdown",
      "metadata": {
        "id": "fmU7O8WS8GGY"
      },
      "source": [
        "### **[연산자]**"
      ]
    },
    {
      "cell_type": "markdown",
      "metadata": {
        "id": "eRCyhgwS8GGY"
      },
      "source": [
        "### 실습문제 :  동전 교환 프로그램\n",
        "동전교환 프로그램을 작성하세요"
      ]
    },
    {
      "cell_type": "code",
      "execution_count": null,
      "metadata": {
        "id": "g8A7ErL78GGY",
        "colab": {
          "base_uri": "https://localhost:8080/"
        },
        "outputId": "fe67d025-0c6e-4079-9613-ddd57f3309a5"
      },
      "outputs": [
        {
          "output_type": "stream",
          "name": "stdout",
          "text": [
            "---동전교환기 프로그램을 작동합니다.---\n",
            "동전으로 교환할 금액을 입력하세요: 4321\n",
            "500원 ==> 8개\n",
            "100원 ==> 3개\n",
            "50원 ==> 0개\n",
            "10원 ==> 2개\n",
            "잔돈  ==> 1원\n"
          ]
        }
      ],
      "source": [
        "# 키보드로부터 금액 입력 받기\n",
        "print('---동전교환기 프로그램을 작동합니다.---')\n",
        "money = int( input('동전으로 교환할 금액을 입력하세요: '))\n",
        "coins = [500, 100, 50, 10]\n",
        "for coin in coins:\n",
        "    num_coins = money//coin\n",
        "    print(f'{coin}원 ==> {num_coins}개')\n",
        "    money%=coin\n",
        "print(f'잔돈  ==> {money}원')"
      ]
    },
    {
      "cell_type": "code",
      "source": [
        "# 키보드로부터 금액 입력 받기\n",
        "print('---동전교환기 프로그램을 작동합니다.---')\n",
        "money = int( input('동전으로 교환할 금액을 입력하세요: '))\n",
        "print(f'500원짜리 ==> {money//500}개 ')\n",
        "money = money% 500\n",
        "print(f'100원짜리 ==> {money//100}개 ')\n",
        "money = money% 100\n",
        "print(f'50원짜리 ==> {money//50}개 ')\n",
        "money = money% 50\n",
        "print(f'10원짜리 ==> {money//10}개 ')\n",
        "money = money% 10\n",
        "print(f'잔돈 ==> {money}원 ')"
      ],
      "metadata": {
        "colab": {
          "base_uri": "https://localhost:8080/"
        },
        "id": "Jil166X9i1HS",
        "outputId": "53fdd3dd-699f-47b1-e96f-2437293e2a52"
      },
      "execution_count": null,
      "outputs": [
        {
          "output_type": "stream",
          "name": "stdout",
          "text": [
            "---동전교환기 프로그램을 작동합니다.---\n",
            "동전으로 교환할 금액을 입력하세요: 4321\n",
            "500원짜리 ==> 8개 \n",
            "100원짜리 ==> 3개 \n",
            "50원짜리 ==> 0개 \n",
            "10원짜리 ==> 2개 \n",
            "잔돈 ==> 1원 \n"
          ]
        }
      ]
    },
    {
      "cell_type": "markdown",
      "source": [
        "### 실습문제 : 비교 연산자를 이용한 상품 필터링하기\n",
        "아래 상품 딕셔너리에서 가격이 1000 이하인 상품을 필터링하고 상품과 해당 가격을 출력하시오."
      ],
      "metadata": {
        "id": "7GL-zafcQwDq"
      }
    },
    {
      "cell_type": "code",
      "source": [
        "# 상품 가격을 가진 사전\n",
        "products = { \"apple\": 1000, \"banana\": 800, \"cherry\": 1500,\n",
        "            \"date\": 1200, \"elderberry\": 2000 }\n",
        "\n",
        "# 가격이 1000 이하인 상품 필터링\n",
        "for key, value in products.items() :\n",
        "    if value <= 1000 :\n",
        "        print(f'상품명: {key}, 가격 : {value}')\n"
      ],
      "metadata": {
        "id": "78IAx7VkQwW_",
        "colab": {
          "base_uri": "https://localhost:8080/"
        },
        "outputId": "a9e107b7-4263-423c-d80d-16c7b813f817"
      },
      "execution_count": null,
      "outputs": [
        {
          "output_type": "stream",
          "name": "stdout",
          "text": [
            "상품명: apple, 가격 : 1000\n",
            "상품명: banana, 가격 : 800\n"
          ]
        }
      ]
    },
    {
      "cell_type": "markdown",
      "metadata": {
        "id": "0SWp1LN08GGY"
      },
      "source": [
        "------"
      ]
    },
    {
      "cell_type": "markdown",
      "metadata": {
        "id": "x4FIhV_y8GGZ"
      },
      "source": [
        "## 3.조건문과 반목문으로 흐름 제어하기"
      ]
    },
    {
      "cell_type": "markdown",
      "metadata": {
        "id": "LPe_skHf8GGZ"
      },
      "source": [
        "### **[조건문]**"
      ]
    },
    {
      "cell_type": "markdown",
      "source": [
        "#### 조건문 구조 4개"
      ],
      "metadata": {
        "id": "HIFAD_kqX1uL"
      }
    },
    {
      "cell_type": "code",
      "source": [
        "# 조건식1: if 조건식\n",
        "a = 99\n",
        "if a < 100 :\n",
        "    print('a는 100보다 작군요')"
      ],
      "metadata": {
        "id": "d9jDMOjbX4hu"
      },
      "execution_count": null,
      "outputs": []
    },
    {
      "cell_type": "code",
      "source": [
        "# 조건식2: if ~ else\n",
        "a = 200\n",
        "if a > 100:\n",
        "    print('a는 100보다 크군요')\n",
        "else:\n",
        "    print('a는 100보다 크지 않군요')"
      ],
      "metadata": {
        "id": "9ehdd_YIYEus"
      },
      "execution_count": null,
      "outputs": []
    },
    {
      "cell_type": "code",
      "source": [
        "# 조건문3: 중첩 if - 조건문 안에 조건문\n",
        "a = 200\n",
        "if a > 100:\n",
        "    if a > 200 :\n",
        "        print('a는 200보다 크군요')\n",
        "    else:\n",
        "        print('a는 200보다 크거나 같군요')\n",
        "else:\n",
        "    print('a는 100보다 크지 않군요')"
      ],
      "metadata": {
        "id": "nOi_cwzoYE2u"
      },
      "execution_count": null,
      "outputs": []
    },
    {
      "cell_type": "code",
      "source": [
        "# 조건문4: 다중 조건문\n",
        "pocket = ['paper', 'handphone']\n",
        "card = True\n",
        "\n",
        "if 'money' in pocket:\n",
        "    print('택시를 타고 가라')\n",
        "elif card:\n",
        "    print('택시를 타고 가라')\n",
        "else:\n",
        "    print('걸어가라')"
      ],
      "metadata": {
        "id": "T_P0EQFeYFBE"
      },
      "execution_count": null,
      "outputs": []
    },
    {
      "cell_type": "markdown",
      "metadata": {
        "id": "Io13oQKLhgph"
      },
      "source": [
        "#### 조건부 표현식"
      ]
    },
    {
      "cell_type": "code",
      "execution_count": null,
      "metadata": {
        "id": "h0V6WqWchnTA"
      },
      "outputs": [],
      "source": [
        "score = int(input('점수를 입력하세요: '))\n",
        "message = \"success!\" if score >=60 else \"failure!\"\n",
        "print(message)"
      ]
    },
    {
      "cell_type": "markdown",
      "metadata": {
        "id": "Ar6JKwtB8GGZ"
      },
      "source": [
        "#### 실습문제 : 짝수 홀수 판별하기\n",
        "숫자를 입력 받아 짝수/홀수를 판별하는 코드를 만들어 보세요."
      ]
    },
    {
      "cell_type": "code",
      "execution_count": null,
      "metadata": {
        "id": "09w2BCcN8GGZ",
        "colab": {
          "base_uri": "https://localhost:8080/"
        },
        "outputId": "197a2b92-f82a-4c4c-e69f-c6dd9f8b48bd"
      },
      "outputs": [
        {
          "output_type": "stream",
          "name": "stdout",
          "text": [
            "숫자를 입력해 주세요: 22\n",
            "입력된 수 : 22 ==> 짝수\n"
          ]
        }
      ],
      "source": [
        "x = int(input('숫자를 입력해 주세요: '))\n",
        "if x%2 == 0:\n",
        "    print(f'입력된 수 : {x} ==> 짝수')\n",
        "else :\n",
        "    print(f'입력된 수 : {x} ==> 홀수')\n",
        "\n",
        "\n",
        "\n"
      ]
    },
    {
      "cell_type": "markdown",
      "metadata": {
        "id": "3SDdg7Aeg7MW"
      },
      "source": [
        "### 실습문제 : 커피 자판기 조건문\n",
        "아래 조건을 만족하는 커피 자동주문 머신을 만들어보세요.<br><br>\n",
        "[커피 자동주문 머신]<br>\n",
        "친구들과 현금 커피 자동주문 머신 앞에서\n",
        " - 아메리카노 2잔과 카페라테 2잔 카푸치노 1잔을 주문하였다.\n",
        " - 아메리카노 한잔에 2500원이고\n",
        " - 카페라테는 한잔에 3000원\n",
        " - 카푸치노는 한잔에 3000원이다.\n",
        "커피 종류와 잔 수를 결정한 후 현금 15000원을 투입하고 잔돈을 1000원 받았다."
      ]
    },
    {
      "cell_type": "code",
      "execution_count": null,
      "metadata": {
        "id": "BZlOMJHKg7dN",
        "colab": {
          "base_uri": "https://localhost:8080/"
        },
        "outputId": "48b992f7-6891-457b-f454-640fd533ab7b"
      },
      "outputs": [
        {
          "output_type": "stream",
          "name": "stdout",
          "text": [
            "[커피 자동주문 머신 메뉴]\n",
            "------------------------------\n",
            "-아메리카노는 2500원\n",
            "-카레라떼는 3000원\n",
            "-카푸치노는 3000원\n",
            "입니다. 원하시는 커피종류와 잔수를 입력하세요.\n",
            "------------------------------\n",
            "아메리카노 몇잔?1\n",
            "카페라떼 몇잔?1\n",
            "카푸치노 몇잔?1\n",
            "총 지불할 금액은 8500원 입니다\n",
            "돈을 넣어주세요! 8500\n",
            "거스름돈은 0입니다\n"
          ]
        }
      ],
      "source": [
        "menu = '''[커피 자동주문 머신 메뉴]\n",
        "------------------------------\n",
        "-아메리카노는 2500원\n",
        "-카레라떼는 3000원\n",
        "-카푸치노는 3000원\n",
        "입니다. 원하시는 커피종류와 잔수를 입력하세요.\n",
        "------------------------------'''\n",
        "print(menu)\n",
        "coffee1 = int(input(\"아메리카노 몇잔?\"))\n",
        "coffee2 = int(input(\"카페라떼 몇잔?\"))\n",
        "coffee3 = int(input(\"카푸치노 몇잔?\"))\n",
        "payment = coffee1*2500+coffee2*3000+coffee3*3000\n",
        "print(f'총 지불할 금액은 {payment}원 입니다')\n",
        "money = int(input('돈을 넣어주세요! '))\n",
        "if money < payment:\n",
        "    print(f'입력한 금액이 부족합니다. {payment-money}원을 더 넣어주세요')\n",
        "else :\n",
        "    print(f'거스름돈은 {money - payment}입니다')\n",
        "\n"
      ]
    },
    {
      "cell_type": "markdown",
      "metadata": {
        "id": "4RoolGBF8GGa"
      },
      "source": [
        "------"
      ]
    },
    {
      "cell_type": "markdown",
      "metadata": {
        "id": "G2T6Nybt8GGa"
      },
      "source": [
        "### **[반복문]**"
      ]
    },
    {
      "cell_type": "markdown",
      "metadata": {
        "id": "HuWJNA-T8GGa"
      },
      "source": [
        "### 실습문제 : 1~N까지 합계 구하기\n",
        "숫자를 입력받아 1~n까지의 합을 구할 때 짝수를 제외하고 합을 구하는 프로그램을 만들어 보세요."
      ]
    },
    {
      "cell_type": "code",
      "execution_count": null,
      "metadata": {
        "id": "t4NbQOOe8GGa"
      },
      "outputs": [],
      "source": [
        "n = int(input('합계를 구할 숫자 입력:'))\n",
        "hap = 0\n",
        "\n",
        "\n"
      ]
    },
    {
      "cell_type": "markdown",
      "metadata": {
        "id": "p7P0Vy-XjIBz"
      },
      "source": [
        "### 실습문제 : 나무 열 번 찍어 넘기기"
      ]
    },
    {
      "cell_type": "code",
      "execution_count": null,
      "metadata": {
        "id": "A1OSHn1tjNE5"
      },
      "outputs": [],
      "source": [
        "treeHit = 0\n",
        "\n"
      ]
    },
    {
      "cell_type": "markdown",
      "metadata": {
        "id": "iPCnjI9UkoHr"
      },
      "source": [
        "### 실습문제 :  커피 자동주문 프로그램 업그레이드\n",
        "앞에서 만들어 본 커피 자동주문 머신 프로그램을 while문을 이용하여 돈을 모두 지불할 때까지 돈을 입력 받도록 프로그램 기능 수정하기"
      ]
    },
    {
      "cell_type": "code",
      "execution_count": null,
      "metadata": {
        "id": "HtKho6P3kxtS"
      },
      "outputs": [],
      "source": [
        "menu = '''[커피 자동주문 머신 메뉴]\n",
        "------------------------------\n",
        "-아메리카노는 2500원\n",
        "-카레라떼는 3000원\n",
        "-카푸치노는 3000원\n",
        "입니다. 원하시는 커피종류와 잔수를 입력하세요.\n",
        "------------------------------'''\n",
        "print(menu)\n",
        "coffee1 = int(input(\"아메리카노 몇잔?\"))\n",
        "coffee2 = int(input(\"카페라떼 몇잔?\"))\n",
        "coffee3 = int(input(\"카푸치노 몇잔?\"))\n",
        "\n"
      ]
    },
    {
      "cell_type": "markdown",
      "metadata": {
        "id": "bBpYo7he8GGc"
      },
      "source": [
        "### 실습문제 : 도둑잡기 게임 만들기\n",
        "경찰에 쫓기던 범인이 3개의 방 중에 한 곳에 숨어버렸습니다. 범인은 방문을 열 때마다 무작위로 3개의 방 중 하나의 방으로 이동합니다. 3개의 방 중 하나의 방을 선택했을 때 범인이 있다면 100점, 없을 때 -10점을 부여하고 범인을 잡으면 게임을 종료하는 프로그램을 만들어 보세요."
      ]
    },
    {
      "cell_type": "code",
      "execution_count": null,
      "metadata": {
        "id": "Yjs0Tp0m8GGc"
      },
      "outputs": [],
      "source": [
        "import random\n",
        "score = 0\n",
        "\n",
        "while True:  # 무한반복\n",
        "    # 1.무작위로 범인 방 배치\n",
        "\n",
        "\n",
        "\n",
        "    # 2.사용자로부터 방 번호 입력 받기\n",
        "    n = int(input('방 번호를 입력하세요(1,2,3): '))\n",
        "\n",
        "    # 3.사용자가 입력한 방 번호와 범인이 있는 방 비교\n",
        "    # 4.범인을 찾으면\n",
        "    # 범인 체포“라는 메시지 출력\n",
        "    # 점수 증가\n",
        "    # 무한반복 빠져 나가기\n",
        "\n",
        "    # 5.범인을 찾지 못하면\n",
        "    # “범인을 찾지 못했다“라는 메시지 출력\n",
        "    # 점수 감소\n",
        "\n",
        "# 게임 종료 메시지 출력\n",
        "# 최종 점수 출력"
      ]
    },
    {
      "cell_type": "markdown",
      "metadata": {
        "id": "FTX-Fvb28GGc"
      },
      "source": [
        "------"
      ]
    },
    {
      "cell_type": "markdown",
      "metadata": {
        "id": "8tdBEUuy8GGe"
      },
      "source": [
        "## 4.함수를 이용하여 알고리즘 만들기"
      ]
    },
    {
      "cell_type": "markdown",
      "metadata": {
        "id": "A50BCkk98GGe"
      },
      "source": [
        "### **[함수 & 모듈]**"
      ]
    },
    {
      "cell_type": "code",
      "execution_count": null,
      "metadata": {
        "id": "3gNw75bI8GGe"
      },
      "outputs": [],
      "source": [
        "def nSum(a, b):\n",
        "    c = a + b\n",
        "    return c\n",
        "\n",
        "nSum(50, 3)"
      ]
    },
    {
      "cell_type": "markdown",
      "metadata": {
        "id": "ZH2oJDOzmgta"
      },
      "source": [
        "####  함수의 구조\n",
        "매개변수와 리턴값에 따른 함수의 유형 예"
      ]
    },
    {
      "cell_type": "markdown",
      "metadata": {
        "id": "ZVu_uCmBmwX9"
      },
      "source": [
        "- 매개변수(X), 리턴값(X)"
      ]
    },
    {
      "cell_type": "code",
      "execution_count": null,
      "metadata": {
        "id": "PhoFdGdpmg2i"
      },
      "outputs": [],
      "source": [
        "def func():\n",
        "    print('안녕하세요!')\n",
        "\n",
        "print( func() )"
      ]
    },
    {
      "cell_type": "markdown",
      "metadata": {
        "id": "rYJvu1mKm1lA"
      },
      "source": [
        "- 매개변수(X), 리턴값(O)"
      ]
    },
    {
      "cell_type": "code",
      "execution_count": null,
      "metadata": {
        "id": "RtmltcdOm1sg"
      },
      "outputs": [],
      "source": [
        "def func():\n",
        "    print('안녕하세요!')\n",
        "    return '처리완료!'\n",
        "\n",
        "print( func() )"
      ]
    },
    {
      "cell_type": "markdown",
      "metadata": {
        "id": "kAiXc3qom1zq"
      },
      "source": [
        "- 매개변수(O), 리턴값(X)"
      ]
    },
    {
      "cell_type": "code",
      "execution_count": null,
      "metadata": {
        "id": "mdneVBp_m16L"
      },
      "outputs": [],
      "source": [
        "def func(a, b):\n",
        "    print('덧셈: %d + %d = %d' % (a, b, a+b))\n",
        "\n",
        "print( func(5, 7) )"
      ]
    },
    {
      "cell_type": "markdown",
      "metadata": {
        "id": "UWx5mc2Bm2Ah"
      },
      "source": [
        "- 매개변수(O), 리턴값(O)"
      ]
    },
    {
      "cell_type": "code",
      "execution_count": null,
      "metadata": {
        "id": "u40Eqnc1m2IB"
      },
      "outputs": [],
      "source": [
        "def func(a, b):\n",
        "    print('덧셈: %d + %d = %d' % (a, b, a+b))\n",
        "    return a+b\n",
        "\n",
        "print( func(5, 7) )"
      ]
    },
    {
      "cell_type": "markdown",
      "metadata": {
        "id": "Oq6XLdiqm9lV"
      },
      "source": [
        "### 실습문제 : 암스트롱수 판별 함수\n",
        "다음 조건을 참고하여 암스트롱수를 구하는 함수를 만들어 출력하는 프로그램을 만들어 보세요.\n",
        "- **암스트롱수** : 세 자리의 정수 중에서 각 자리의 수를 세 제곱한 수의 합과 자신이 같은 수"
      ]
    },
    {
      "cell_type": "code",
      "execution_count": null,
      "metadata": {
        "id": "DvFLshFqm9t8"
      },
      "outputs": [],
      "source": [
        "def is_armstringNumber(N):\n",
        "\n",
        "\n",
        "\n",
        "\n",
        "for i in range(100, 1000):\n",
        "    if is_armstringNumber(i):\n",
        "        print(\"[%i] is armstrong number\" % i)"
      ]
    },
    {
      "cell_type": "markdown",
      "metadata": {
        "id": "Kvzu_J_a8GGf"
      },
      "source": [
        "### 실습문제 : 환전 계산 함수\n",
        "아래 조건을 만족하는 환전계산 함수를 만들어 보세요."
      ]
    },
    {
      "cell_type": "code",
      "execution_count": null,
      "metadata": {
        "id": "x1jdgfzq8GGf",
        "scrolled": true
      },
      "outputs": [],
      "source": [
        "def moneyExchange(m, c):\n",
        "\n",
        "\n",
        "\n",
        "countrys = {'미국':['달러', 1182.5],\n",
        "            '중국':['위안', 169.22],\n",
        "            '유럽':['유로', 1286.74],\n",
        "            '일본':['엔', 1078.14]}\n",
        "money = int(input('환전 금액(원)을 입력하세요: '))\n",
        "country = input('국가를 입력하세요: ')\n",
        "print('-'*30)\n",
        "moneyExchange(money, country)"
      ]
    },
    {
      "cell_type": "markdown",
      "source": [
        "\n",
        "\n",
        "---\n",
        "\n"
      ],
      "metadata": {
        "id": "jcBxboxauPTJ"
      }
    },
    {
      "cell_type": "markdown",
      "metadata": {
        "id": "Ajjvg18_8GGg"
      },
      "source": [
        "### 5.ChatGPT와 페어프로그래밍하기"
      ]
    },
    {
      "cell_type": "markdown",
      "source": [
        "### 실습문제 : 영어 단어장 만들기\n",
        "아래 조건을 만족시키는 <영어단어장 만들기> 프로그램을 만들어 보세요.\n",
        "\n",
        "영단어는 key, 그의 뜻은 value 로 두는 dictionary 를 만드세요.<br>\n",
        "<메뉴>\n",
        " - 1. 단어 등록\n",
        " - 2. 단어 검색\n",
        " - 3. 단어 삭제\n",
        " - 4. 모든 단어 보기\n",
        " - 0. 종료하기\n",
        "\n",
        "1. 단어 등록 <br>\n",
        "    새 영단어와 그의 뜻을 입력 받고 dictionary 에 추가합니다.\n",
        "\n",
        "2. 단어 검색<br>\n",
        "    영단어를 입력 받아 그의 뜻을 출력합니다.<br>\n",
        "    미등록된 단어인 경우 '미등록 단어'를 출력합니다.\n",
        "    \n",
        "3. 단어 삭제<br>\n",
        "    영단어를 입력 받아 단어장에서 해당 단어를 삭제한다.<br>\n",
        "    미등록된 단어인 경우 '미등록 단어'를 출력합니다\n",
        "    \n",
        "4. 모든 단어 보기<br>\n",
        "    현재 등록되어 있는 모든 단어와 뜻을 출력합니다.\n",
        "\n",
        "0. 종료하기"
      ],
      "metadata": {
        "id": "LgP7QlUCtw9A"
      }
    },
    {
      "cell_type": "code",
      "source": [
        "menu = '''---선택메뉴--\n",
        "1. 단어 등록\n",
        "2. 단어 검색\n",
        "3. 단어 삭제\n",
        "4. 모든 단어 보기\n",
        "0. 종료하기\n",
        "------------------------------'''\n",
        "\n",
        "# 빈 딕셔너리를 만든다. (반복문 안에 넣지 않는다!)\n",
        "wordbook = {}\n",
        "\n",
        "def addBook():\n",
        "\n",
        "\n",
        "def searchBook():\n",
        "\n",
        "\n",
        "def deleteBook():\n",
        "\n",
        "\n",
        "def showAllBook():\n",
        "\n",
        "\n"
      ],
      "metadata": {
        "id": "eZLiY8m-txGd"
      },
      "execution_count": null,
      "outputs": []
    },
    {
      "cell_type": "markdown",
      "metadata": {
        "id": "SD7IuCtyEfxZ"
      },
      "source": [
        "\n",
        "\n",
        "---\n",
        "THE END\n",
        "\n"
      ]
    },
    {
      "cell_type": "markdown",
      "metadata": {
        "id": "RQoDVEJ38GGg"
      },
      "source": [
        "------"
      ]
    }
  ],
  "metadata": {
    "colab": {
      "provenance": [],
      "include_colab_link": true
    },
    "kernelspec": {
      "display_name": "Python 3 (ipykernel)",
      "language": "python",
      "name": "python3"
    },
    "language_info": {
      "codemirror_mode": {
        "name": "ipython",
        "version": 3
      },
      "file_extension": ".py",
      "mimetype": "text/x-python",
      "name": "python",
      "nbconvert_exporter": "python",
      "pygments_lexer": "ipython3",
      "version": "3.10.9"
    }
  },
  "nbformat": 4,
  "nbformat_minor": 0
}